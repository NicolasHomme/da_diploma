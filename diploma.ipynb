{
 "cells": [
  {
   "cell_type": "markdown",
   "metadata": {},
   "source": [
    "### Дипломная работа Н.В.Чепурных, студент курса \"Аналитик данных\"\n",
    "### Научный руководитель: Алексей Кузьмин\n",
    "Тема: прогнозирование ежемесячного потребления электрической энергии физическими лицами в электросетевой компании.\n",
    "\n",
    "Этапы работ:\n",
    "- Этап 1. Загрузка и объединение данных\n",
    "- Этап 2. Обработка данных\n",
    "- Этап 3. Применение модели Линейной регрессии\n",
    "- Этап 4. Анализ данных, выбросы\n",
    "- Этап 5. Модель Случайного леса\n",
    "- Этап 6. Применение наиболее точных данных по потреблению с приборов учета, информацию по которым собирается удаленно системой опроса. Построение моделей Линейной регрессии и Случайного леса\n",
    "- Этап 7. Добавление 2-х новых признаков - потребление за 2019 год и последний месяц. Построение моделей Линейной регрессии и Случайного леса\n",
    "- Этап 8. Применение модели Градиентного бустинга\n",
    "- Этап 9. Добавление нового признака - потери электроэнергии за 2019 год, применение 3-х моделей, сравнение результатов\n",
    "- Этап 10. Гиперпараметрическая оптимизация модели градиентного бустинга. Случайный поиск с перекрёстной проверкой\n",
    "- Этап 11. Заключение"
   ]
  },
  {
   "cell_type": "markdown",
   "metadata": {},
   "source": [
    "Загрузка библиотек:"
   ]
  },
  {
   "cell_type": "code",
   "execution_count": 1,
   "metadata": {
    "scrolled": true
   },
   "outputs": [],
   "source": [
    "import os\n",
    "import pandas as pd\n",
    "import re\n",
    "import numpy as np\n",
    "import matplotlib.pyplot as plt\n",
    "import seaborn as sns\n",
    "%matplotlib inline\n",
    "from sklearn.linear_model import LinearRegression\n",
    "from sklearn.model_selection import train_test_split, cross_val_score, GridSearchCV, RandomizedSearchCV \n",
    "from sklearn.metrics import mean_squared_error, mean_absolute_error, r2_score\n",
    "from sklearn.ensemble import RandomForestRegressor, GradientBoostingRegressor\n",
    "from sklearn.preprocessing import MinMaxScaler"
   ]
  },
  {
   "cell_type": "markdown",
   "metadata": {},
   "source": [
    "### Этап 1. Загрузка и объединение данных"
   ]
  },
  {
   "cell_type": "markdown",
   "metadata": {},
   "source": [
    "1.1. Загрузка данных по полезному отпуску электроэнергии за период 2019-2020"
   ]
  },
  {
   "cell_type": "code",
   "execution_count": 2,
   "metadata": {},
   "outputs": [
    {
     "name": "stdout",
     "output_type": "stream",
     "text": [
      "Обработан файл: ./Data/Supply/2019 01.xlsx  - загружено строк: 361365\n",
      "Обработан файл: ./Data/Supply/2019 02.xlsx  - загружено строк: 361384\n",
      "Обработан файл: ./Data/Supply/2019 03.xlsx  - загружено строк: 361888\n",
      "Обработан файл: ./Data/Supply/2019 04.xlsx  - загружено строк: 368771\n",
      "Обработан файл: ./Data/Supply/2019 05.xlsx  - загружено строк: 373635\n",
      "Обработан файл: ./Data/Supply/2019 06.xlsx  - загружено строк: 377873\n",
      "Обработан файл: ./Data/Supply/2019 07.xlsx  - загружено строк: 377808\n",
      "Обработан файл: ./Data/Supply/2019 08.xlsx  - загружено строк: 376587\n",
      "Обработан файл: ./Data/Supply/2019 09.xlsx  - загружено строк: 374118\n",
      "Обработан файл: ./Data/Supply/2019 10.xlsx  - загружено строк: 379904\n",
      "Обработан файл: ./Data/Supply/2019 11.xlsx  - загружено строк: 375713\n",
      "Обработан файл: ./Data/Supply/2019 12.xlsx  - загружено строк: 370133\n",
      "Обработан файл: ./Data/Supply/2020 01.xlsx  - загружено строк: 360223\n",
      "Обработан файл: ./Data/Supply/2020 02.xlsx  - загружено строк: 362710\n",
      "Обработан файл: ./Data/Supply/2020 03.xlsx  - загружено строк: 363867\n",
      "Всего строк загружено:  5545979\n",
      "Wall time: 10min\n"
     ]
    }
   ],
   "source": [
    "%%time\n",
    "dirName = './Data/Supply/'\n",
    "supply_all = []\n",
    "for name in os.listdir(dirName):\n",
    "    fullname = os.path.join(dirName, name) # получаем полное имя\n",
    "    if os.path.isfile(fullname):\n",
    "        df = pd.read_excel(fullname)\n",
    "        print (\"Обработан файл:\", fullname, \" - загружено строк:\", len(df))\n",
    "        supply_all.append(df)\n",
    "supply_temp = pd.concat(supply_all,axis=0,ignore_index=True)\n",
    "print(\"Всего строк загружено: \", len(supply_temp))"
   ]
  },
  {
   "cell_type": "code",
   "execution_count": 3,
   "metadata": {},
   "outputs": [
    {
     "data": {
      "text/html": [
       "<div>\n",
       "<style scoped>\n",
       "    .dataframe tbody tr th:only-of-type {\n",
       "        vertical-align: middle;\n",
       "    }\n",
       "\n",
       "    .dataframe tbody tr th {\n",
       "        vertical-align: top;\n",
       "    }\n",
       "\n",
       "    .dataframe thead th {\n",
       "        text-align: right;\n",
       "    }\n",
       "</style>\n",
       "<table border=\"1\" class=\"dataframe\">\n",
       "  <thead>\n",
       "    <tr style=\"text-align: right;\">\n",
       "      <th></th>\n",
       "      <th>Method</th>\n",
       "      <th>Consumer</th>\n",
       "      <th>Building</th>\n",
       "      <th>Supply</th>\n",
       "      <th>Status</th>\n",
       "      <th>Period</th>\n",
       "    </tr>\n",
       "  </thead>\n",
       "  <tbody>\n",
       "    <tr>\n",
       "      <td>0</td>\n",
       "      <td>ЛС-СДСД</td>\n",
       "      <td>66700000233</td>\n",
       "      <td>дача</td>\n",
       "      <td>0.0</td>\n",
       "      <td>неоспар.</td>\n",
       "      <td>01-2019</td>\n",
       "    </tr>\n",
       "    <tr>\n",
       "      <td>1</td>\n",
       "      <td>ЛС-СДСД</td>\n",
       "      <td>66700000410</td>\n",
       "      <td>дача</td>\n",
       "      <td>0.0</td>\n",
       "      <td>неоспар.</td>\n",
       "      <td>01-2019</td>\n",
       "    </tr>\n",
       "    <tr>\n",
       "      <td>2</td>\n",
       "      <td>ЛС-СДСД</td>\n",
       "      <td>66700000431</td>\n",
       "      <td>част. ж/дом</td>\n",
       "      <td>2.0</td>\n",
       "      <td>неоспар.</td>\n",
       "      <td>01-2019</td>\n",
       "    </tr>\n",
       "    <tr>\n",
       "      <td>3</td>\n",
       "      <td>ЛС-СДСД</td>\n",
       "      <td>66700000557</td>\n",
       "      <td>дача</td>\n",
       "      <td>2.0</td>\n",
       "      <td>неоспар.</td>\n",
       "      <td>01-2019</td>\n",
       "    </tr>\n",
       "    <tr>\n",
       "      <td>4</td>\n",
       "      <td>ЛС-СДСД</td>\n",
       "      <td>66700000575</td>\n",
       "      <td>дача</td>\n",
       "      <td>21.0</td>\n",
       "      <td>неоспар.</td>\n",
       "      <td>01-2019</td>\n",
       "    </tr>\n",
       "    <tr>\n",
       "      <td>...</td>\n",
       "      <td>...</td>\n",
       "      <td>...</td>\n",
       "      <td>...</td>\n",
       "      <td>...</td>\n",
       "      <td>...</td>\n",
       "      <td>...</td>\n",
       "    </tr>\n",
       "    <tr>\n",
       "      <td>5545974</td>\n",
       "      <td>ЛС-ЭНОРМ</td>\n",
       "      <td>69198110501</td>\n",
       "      <td>дача</td>\n",
       "      <td>0.0</td>\n",
       "      <td>неоспар.</td>\n",
       "      <td>03-2020</td>\n",
       "    </tr>\n",
       "    <tr>\n",
       "      <td>5545975</td>\n",
       "      <td>ЛС-ЭНОРМ</td>\n",
       "      <td>69198110514</td>\n",
       "      <td>дача</td>\n",
       "      <td>145.0</td>\n",
       "      <td>неоспар.</td>\n",
       "      <td>03-2020</td>\n",
       "    </tr>\n",
       "    <tr>\n",
       "      <td>5545976</td>\n",
       "      <td>ЛС-ЭНОРМ</td>\n",
       "      <td>69198110624</td>\n",
       "      <td>дача</td>\n",
       "      <td>145.0</td>\n",
       "      <td>неоспар.</td>\n",
       "      <td>03-2020</td>\n",
       "    </tr>\n",
       "    <tr>\n",
       "      <td>5545977</td>\n",
       "      <td>ЛС-ЭНОРМ</td>\n",
       "      <td>69198110718</td>\n",
       "      <td>дача</td>\n",
       "      <td>145.0</td>\n",
       "      <td>неоспар.</td>\n",
       "      <td>03-2020</td>\n",
       "    </tr>\n",
       "    <tr>\n",
       "      <td>5545978</td>\n",
       "      <td>ЛС-ЭНОРМ</td>\n",
       "      <td>69198999972</td>\n",
       "      <td>дача</td>\n",
       "      <td>145.0</td>\n",
       "      <td>неоспар.</td>\n",
       "      <td>03-2020</td>\n",
       "    </tr>\n",
       "  </tbody>\n",
       "</table>\n",
       "<p>5545979 rows × 6 columns</p>\n",
       "</div>"
      ],
      "text/plain": [
       "           Method     Consumer     Building  Supply    Status   Period\n",
       "0         ЛС-СДСД  66700000233         дача     0.0  неоспар.  01-2019\n",
       "1         ЛС-СДСД  66700000410         дача     0.0  неоспар.  01-2019\n",
       "2         ЛС-СДСД  66700000431  част. ж/дом     2.0  неоспар.  01-2019\n",
       "3         ЛС-СДСД  66700000557         дача     2.0  неоспар.  01-2019\n",
       "4         ЛС-СДСД  66700000575         дача    21.0  неоспар.  01-2019\n",
       "...           ...          ...          ...     ...       ...      ...\n",
       "5545974  ЛС-ЭНОРМ  69198110501         дача     0.0  неоспар.  03-2020\n",
       "5545975  ЛС-ЭНОРМ  69198110514         дача   145.0  неоспар.  03-2020\n",
       "5545976  ЛС-ЭНОРМ  69198110624         дача   145.0  неоспар.  03-2020\n",
       "5545977  ЛС-ЭНОРМ  69198110718         дача   145.0  неоспар.  03-2020\n",
       "5545978  ЛС-ЭНОРМ  69198999972         дача   145.0  неоспар.  03-2020\n",
       "\n",
       "[5545979 rows x 6 columns]"
      ]
     },
     "execution_count": 3,
     "metadata": {},
     "output_type": "execute_result"
    }
   ],
   "source": [
    "supply_temp"
   ]
  },
  {
   "cell_type": "markdown",
   "metadata": {},
   "source": [
    "1.2. Загрузка данных по погоде с 2018 года  по апрель 2020 года.\n",
    "\n",
    "Сайт с архивом погоды: https://rp5.ru/%D0%90%D1%80%D1%85%D0%B8%D0%B2_%D0%BF%D0%BE%D0%B3%D0%BE%D0%B4%D1%8B_%D0%B2_%D0%9F%D0%B5%D1%80%D0%BC%D0%B8,_%D0%91%D0%BE%D0%BB%D1%8C%D1%88%D0%BE%D0%BC_%D0%A1%D0%B0%D0%B2%D0%B8%D0%BD%D0%BE_(%D0%B0%D1%8D%D1%80%D0%BE%D0%BF%D0%BE%D1%80%D1%82),_METAR"
   ]
  },
  {
   "cell_type": "code",
   "execution_count": 4,
   "metadata": {},
   "outputs": [
    {
     "name": "stdout",
     "output_type": "stream",
     "text": [
      "Обработан файл: ./Data/perm_weather_2018.csv  - загружено строк: 39987\n",
      "Wall time: 424 ms\n"
     ]
    }
   ],
   "source": [
    "%%time\n",
    "dirName = './Data/'\n",
    "name = 'perm_weather_2018.csv'\n",
    "fullname = os.path.join(dirName, name) # получаем полное имя\n",
    "if os.path.isfile(fullname):\n",
    "    weather_temp = pd.read_csv(fullname, sep = ';', encoding = \"ISO-8859-1\", engine='python')\n",
    "    print (\"Обработан файл:\", fullname, \" - загружено строк:\", len(weather_temp))\n",
    "else: \n",
    "    print (\"Ошибка загрузки:\", fullname)"
   ]
  },
  {
   "cell_type": "code",
   "execution_count": 5,
   "metadata": {},
   "outputs": [
    {
     "data": {
      "text/html": [
       "<div>\n",
       "<style scoped>\n",
       "    .dataframe tbody tr th:only-of-type {\n",
       "        vertical-align: middle;\n",
       "    }\n",
       "\n",
       "    .dataframe tbody tr th {\n",
       "        vertical-align: top;\n",
       "    }\n",
       "\n",
       "    .dataframe thead th {\n",
       "        text-align: right;\n",
       "    }\n",
       "</style>\n",
       "<table border=\"1\" class=\"dataframe\">\n",
       "  <thead>\n",
       "    <tr style=\"text-align: right;\">\n",
       "      <th></th>\n",
       "      <th>local time Perm</th>\n",
       "      <th>T</th>\n",
       "    </tr>\n",
       "  </thead>\n",
       "  <tbody>\n",
       "    <tr>\n",
       "      <td>0</td>\n",
       "      <td>28.04.2020 23:30</td>\n",
       "      <td>8.0</td>\n",
       "    </tr>\n",
       "    <tr>\n",
       "      <td>1</td>\n",
       "      <td>28.04.2020 23:00</td>\n",
       "      <td>8.0</td>\n",
       "    </tr>\n",
       "    <tr>\n",
       "      <td>2</td>\n",
       "      <td>28.04.2020 22:30</td>\n",
       "      <td>8.0</td>\n",
       "    </tr>\n",
       "    <tr>\n",
       "      <td>3</td>\n",
       "      <td>28.04.2020 22:00</td>\n",
       "      <td>8.0</td>\n",
       "    </tr>\n",
       "    <tr>\n",
       "      <td>4</td>\n",
       "      <td>28.04.2020 21:30</td>\n",
       "      <td>8.0</td>\n",
       "    </tr>\n",
       "  </tbody>\n",
       "</table>\n",
       "</div>"
      ],
      "text/plain": [
       "    local time Perm    T\n",
       "0  28.04.2020 23:30  8.0\n",
       "1  28.04.2020 23:00  8.0\n",
       "2  28.04.2020 22:30  8.0\n",
       "3  28.04.2020 22:00  8.0\n",
       "4  28.04.2020 21:30  8.0"
      ]
     },
     "execution_count": 5,
     "metadata": {},
     "output_type": "execute_result"
    }
   ],
   "source": [
    "weather_temp.head()"
   ]
  },
  {
   "cell_type": "markdown",
   "metadata": {},
   "source": [
    "Преобразовываем строковый параметр к виду mm-yyyy и группируем по месяцам. Получаем среднемесячную температуру."
   ]
  },
  {
   "cell_type": "code",
   "execution_count": 6,
   "metadata": {},
   "outputs": [],
   "source": [
    "weather_temp['local time Perm'] = weather_temp['local time Perm'].str.extract('(\\d{2}.\\d{2}.\\d{4})')\n",
    "weather_temp['local time Perm'] = weather_temp['local time Perm'].str.replace(r'^...','').str.replace('.','-')"
   ]
  },
  {
   "cell_type": "code",
   "execution_count": 7,
   "metadata": {},
   "outputs": [
    {
     "data": {
      "text/html": [
       "<div>\n",
       "<style scoped>\n",
       "    .dataframe tbody tr th:only-of-type {\n",
       "        vertical-align: middle;\n",
       "    }\n",
       "\n",
       "    .dataframe tbody tr th {\n",
       "        vertical-align: top;\n",
       "    }\n",
       "\n",
       "    .dataframe thead th {\n",
       "        text-align: right;\n",
       "    }\n",
       "</style>\n",
       "<table border=\"1\" class=\"dataframe\">\n",
       "  <thead>\n",
       "    <tr style=\"text-align: right;\">\n",
       "      <th></th>\n",
       "      <th>local time Perm</th>\n",
       "      <th>T</th>\n",
       "    </tr>\n",
       "  </thead>\n",
       "  <tbody>\n",
       "    <tr>\n",
       "      <td>0</td>\n",
       "      <td>01-2018</td>\n",
       "      <td>-11.211210</td>\n",
       "    </tr>\n",
       "    <tr>\n",
       "      <td>1</td>\n",
       "      <td>01-2019</td>\n",
       "      <td>-11.163823</td>\n",
       "    </tr>\n",
       "    <tr>\n",
       "      <td>2</td>\n",
       "      <td>01-2020</td>\n",
       "      <td>-6.307012</td>\n",
       "    </tr>\n",
       "    <tr>\n",
       "      <td>3</td>\n",
       "      <td>02-2018</td>\n",
       "      <td>-12.592873</td>\n",
       "    </tr>\n",
       "    <tr>\n",
       "      <td>4</td>\n",
       "      <td>02-2019</td>\n",
       "      <td>-9.677711</td>\n",
       "    </tr>\n",
       "  </tbody>\n",
       "</table>\n",
       "</div>"
      ],
      "text/plain": [
       "  local time Perm          T\n",
       "0         01-2018 -11.211210\n",
       "1         01-2019 -11.163823\n",
       "2         01-2020  -6.307012\n",
       "3         02-2018 -12.592873\n",
       "4         02-2019  -9.677711"
      ]
     },
     "execution_count": 7,
     "metadata": {},
     "output_type": "execute_result"
    }
   ],
   "source": [
    "weather = weather_temp.groupby('local time Perm').agg({'T': 'mean'}).reset_index()\n",
    "weather.head()"
   ]
  },
  {
   "cell_type": "markdown",
   "metadata": {},
   "source": [
    "Добавляем среднемесячную температуру в датасет supply"
   ]
  },
  {
   "cell_type": "code",
   "execution_count": 8,
   "metadata": {},
   "outputs": [
    {
     "data": {
      "text/html": [
       "<div>\n",
       "<style scoped>\n",
       "    .dataframe tbody tr th:only-of-type {\n",
       "        vertical-align: middle;\n",
       "    }\n",
       "\n",
       "    .dataframe tbody tr th {\n",
       "        vertical-align: top;\n",
       "    }\n",
       "\n",
       "    .dataframe thead th {\n",
       "        text-align: right;\n",
       "    }\n",
       "</style>\n",
       "<table border=\"1\" class=\"dataframe\">\n",
       "  <thead>\n",
       "    <tr style=\"text-align: right;\">\n",
       "      <th></th>\n",
       "      <th>Method</th>\n",
       "      <th>Consumer</th>\n",
       "      <th>Building</th>\n",
       "      <th>Supply</th>\n",
       "      <th>Status</th>\n",
       "      <th>Period</th>\n",
       "      <th>T</th>\n",
       "    </tr>\n",
       "  </thead>\n",
       "  <tbody>\n",
       "    <tr>\n",
       "      <td>0</td>\n",
       "      <td>ЛС-СДСД</td>\n",
       "      <td>66700000233</td>\n",
       "      <td>дача</td>\n",
       "      <td>0.0</td>\n",
       "      <td>неоспар.</td>\n",
       "      <td>01-2019</td>\n",
       "      <td>-11.163823</td>\n",
       "    </tr>\n",
       "    <tr>\n",
       "      <td>1</td>\n",
       "      <td>ЛС-СДСД</td>\n",
       "      <td>66700000410</td>\n",
       "      <td>дача</td>\n",
       "      <td>0.0</td>\n",
       "      <td>неоспар.</td>\n",
       "      <td>01-2019</td>\n",
       "      <td>-11.163823</td>\n",
       "    </tr>\n",
       "    <tr>\n",
       "      <td>2</td>\n",
       "      <td>ЛС-СДСД</td>\n",
       "      <td>66700000431</td>\n",
       "      <td>част. ж/дом</td>\n",
       "      <td>2.0</td>\n",
       "      <td>неоспар.</td>\n",
       "      <td>01-2019</td>\n",
       "      <td>-11.163823</td>\n",
       "    </tr>\n",
       "    <tr>\n",
       "      <td>3</td>\n",
       "      <td>ЛС-СДСД</td>\n",
       "      <td>66700000557</td>\n",
       "      <td>дача</td>\n",
       "      <td>2.0</td>\n",
       "      <td>неоспар.</td>\n",
       "      <td>01-2019</td>\n",
       "      <td>-11.163823</td>\n",
       "    </tr>\n",
       "    <tr>\n",
       "      <td>4</td>\n",
       "      <td>ЛС-СДСД</td>\n",
       "      <td>66700000575</td>\n",
       "      <td>дача</td>\n",
       "      <td>21.0</td>\n",
       "      <td>неоспар.</td>\n",
       "      <td>01-2019</td>\n",
       "      <td>-11.163823</td>\n",
       "    </tr>\n",
       "  </tbody>\n",
       "</table>\n",
       "</div>"
      ],
      "text/plain": [
       "    Method     Consumer     Building  Supply    Status   Period          T\n",
       "0  ЛС-СДСД  66700000233         дача     0.0  неоспар.  01-2019 -11.163823\n",
       "1  ЛС-СДСД  66700000410         дача     0.0  неоспар.  01-2019 -11.163823\n",
       "2  ЛС-СДСД  66700000431  част. ж/дом     2.0  неоспар.  01-2019 -11.163823\n",
       "3  ЛС-СДСД  66700000557         дача     2.0  неоспар.  01-2019 -11.163823\n",
       "4  ЛС-СДСД  66700000575         дача    21.0  неоспар.  01-2019 -11.163823"
      ]
     },
     "execution_count": 8,
     "metadata": {},
     "output_type": "execute_result"
    }
   ],
   "source": [
    "supply = supply_temp.merge(weather, how = 'left', left_on='Period', right_on='local time Perm')\n",
    "supply.drop(['local time Perm'],axis=1, inplace=True)\n",
    "supply.head()"
   ]
  },
  {
   "cell_type": "markdown",
   "metadata": {},
   "source": [
    "1.3. Загружаем данные по потребителям: количество комнат, количество проживающих, потери электроэнергии в регионе проживания потребителя в 2019 году (усредненные по всем жителям региона)."
   ]
  },
  {
   "cell_type": "code",
   "execution_count": 9,
   "metadata": {},
   "outputs": [
    {
     "name": "stdout",
     "output_type": "stream",
     "text": [
      "Обработан файл: ./Data/RoomsPeoplesLoss.xlsx  - загружено строк: 397671\n",
      "Wall time: 28.6 s\n"
     ]
    }
   ],
   "source": [
    "%%time\n",
    "dirName = './Data/'\n",
    "name = 'RoomsPeoplesLoss.xlsx'\n",
    "fullname = os.path.join(dirName, name) # получаем полное имя\n",
    "if os.path.isfile(fullname):\n",
    "    RoomsPeoples = pd.read_excel(fullname)\n",
    "    print (\"Обработан файл:\", fullname, \" - загружено строк:\", len(RoomsPeoples))\n",
    "else: \n",
    "    print (\"Ошибка загрузки:\", fullname)"
   ]
  },
  {
   "cell_type": "code",
   "execution_count": 10,
   "metadata": {},
   "outputs": [
    {
     "data": {
      "text/html": [
       "<div>\n",
       "<style scoped>\n",
       "    .dataframe tbody tr th:only-of-type {\n",
       "        vertical-align: middle;\n",
       "    }\n",
       "\n",
       "    .dataframe tbody tr th {\n",
       "        vertical-align: top;\n",
       "    }\n",
       "\n",
       "    .dataframe thead th {\n",
       "        text-align: right;\n",
       "    }\n",
       "</style>\n",
       "<table border=\"1\" class=\"dataframe\">\n",
       "  <thead>\n",
       "    <tr style=\"text-align: right;\">\n",
       "      <th></th>\n",
       "      <th>Consumer</th>\n",
       "      <th>Rooms</th>\n",
       "      <th>Peoples</th>\n",
       "      <th>Loss2019</th>\n",
       "    </tr>\n",
       "  </thead>\n",
       "  <tbody>\n",
       "    <tr>\n",
       "      <td>0</td>\n",
       "      <td>62800121655</td>\n",
       "      <td>1.0</td>\n",
       "      <td>1.0</td>\n",
       "      <td>0.08804</td>\n",
       "    </tr>\n",
       "    <tr>\n",
       "      <td>1</td>\n",
       "      <td>62840754350</td>\n",
       "      <td>1.0</td>\n",
       "      <td>1.0</td>\n",
       "      <td>0.08804</td>\n",
       "    </tr>\n",
       "    <tr>\n",
       "      <td>2</td>\n",
       "      <td>00003</td>\n",
       "      <td>1.0</td>\n",
       "      <td>1.0</td>\n",
       "      <td>0.08804</td>\n",
       "    </tr>\n",
       "    <tr>\n",
       "      <td>3</td>\n",
       "      <td>61007104593</td>\n",
       "      <td>1.0</td>\n",
       "      <td>1.0</td>\n",
       "      <td>0.08804</td>\n",
       "    </tr>\n",
       "    <tr>\n",
       "      <td>4</td>\n",
       "      <td>61009048247</td>\n",
       "      <td>NaN</td>\n",
       "      <td>1.0</td>\n",
       "      <td>0.08804</td>\n",
       "    </tr>\n",
       "  </tbody>\n",
       "</table>\n",
       "</div>"
      ],
      "text/plain": [
       "      Consumer  Rooms  Peoples  Loss2019\n",
       "0  62800121655    1.0      1.0   0.08804\n",
       "1  62840754350    1.0      1.0   0.08804\n",
       "2        00003    1.0      1.0   0.08804\n",
       "3  61007104593    1.0      1.0   0.08804\n",
       "4  61009048247    NaN      1.0   0.08804"
      ]
     },
     "execution_count": 10,
     "metadata": {},
     "output_type": "execute_result"
    }
   ],
   "source": [
    "RoomsPeoples.head()"
   ]
  },
  {
   "cell_type": "markdown",
   "metadata": {},
   "source": [
    "Добавляем информацию в датасет supply"
   ]
  },
  {
   "cell_type": "code",
   "execution_count": 11,
   "metadata": {},
   "outputs": [
    {
     "data": {
      "text/html": [
       "<div>\n",
       "<style scoped>\n",
       "    .dataframe tbody tr th:only-of-type {\n",
       "        vertical-align: middle;\n",
       "    }\n",
       "\n",
       "    .dataframe tbody tr th {\n",
       "        vertical-align: top;\n",
       "    }\n",
       "\n",
       "    .dataframe thead th {\n",
       "        text-align: right;\n",
       "    }\n",
       "</style>\n",
       "<table border=\"1\" class=\"dataframe\">\n",
       "  <thead>\n",
       "    <tr style=\"text-align: right;\">\n",
       "      <th></th>\n",
       "      <th>Method</th>\n",
       "      <th>Consumer</th>\n",
       "      <th>Building</th>\n",
       "      <th>Supply</th>\n",
       "      <th>Status</th>\n",
       "      <th>Period</th>\n",
       "      <th>T</th>\n",
       "      <th>Rooms</th>\n",
       "      <th>Peoples</th>\n",
       "      <th>Loss2019</th>\n",
       "    </tr>\n",
       "  </thead>\n",
       "  <tbody>\n",
       "    <tr>\n",
       "      <td>0</td>\n",
       "      <td>ЛС-СДСД</td>\n",
       "      <td>66700000233</td>\n",
       "      <td>дача</td>\n",
       "      <td>0.0</td>\n",
       "      <td>неоспар.</td>\n",
       "      <td>01-2019</td>\n",
       "      <td>-11.163823</td>\n",
       "      <td>1.0</td>\n",
       "      <td>1.0</td>\n",
       "      <td>0.027669</td>\n",
       "    </tr>\n",
       "    <tr>\n",
       "      <td>1</td>\n",
       "      <td>ЛС-СДСД</td>\n",
       "      <td>66700000410</td>\n",
       "      <td>дача</td>\n",
       "      <td>0.0</td>\n",
       "      <td>неоспар.</td>\n",
       "      <td>01-2019</td>\n",
       "      <td>-11.163823</td>\n",
       "      <td>1.0</td>\n",
       "      <td>1.0</td>\n",
       "      <td>0.027669</td>\n",
       "    </tr>\n",
       "    <tr>\n",
       "      <td>2</td>\n",
       "      <td>ЛС-СДСД</td>\n",
       "      <td>66700000431</td>\n",
       "      <td>част. ж/дом</td>\n",
       "      <td>2.0</td>\n",
       "      <td>неоспар.</td>\n",
       "      <td>01-2019</td>\n",
       "      <td>-11.163823</td>\n",
       "      <td>1.0</td>\n",
       "      <td>1.0</td>\n",
       "      <td>0.027669</td>\n",
       "    </tr>\n",
       "    <tr>\n",
       "      <td>3</td>\n",
       "      <td>ЛС-СДСД</td>\n",
       "      <td>66700000557</td>\n",
       "      <td>дача</td>\n",
       "      <td>2.0</td>\n",
       "      <td>неоспар.</td>\n",
       "      <td>01-2019</td>\n",
       "      <td>-11.163823</td>\n",
       "      <td>1.0</td>\n",
       "      <td>1.0</td>\n",
       "      <td>0.027669</td>\n",
       "    </tr>\n",
       "    <tr>\n",
       "      <td>4</td>\n",
       "      <td>ЛС-СДСД</td>\n",
       "      <td>66700000575</td>\n",
       "      <td>дача</td>\n",
       "      <td>21.0</td>\n",
       "      <td>неоспар.</td>\n",
       "      <td>01-2019</td>\n",
       "      <td>-11.163823</td>\n",
       "      <td>1.0</td>\n",
       "      <td>1.0</td>\n",
       "      <td>0.027669</td>\n",
       "    </tr>\n",
       "  </tbody>\n",
       "</table>\n",
       "</div>"
      ],
      "text/plain": [
       "    Method     Consumer     Building  Supply    Status   Period          T  \\\n",
       "0  ЛС-СДСД  66700000233         дача     0.0  неоспар.  01-2019 -11.163823   \n",
       "1  ЛС-СДСД  66700000410         дача     0.0  неоспар.  01-2019 -11.163823   \n",
       "2  ЛС-СДСД  66700000431  част. ж/дом     2.0  неоспар.  01-2019 -11.163823   \n",
       "3  ЛС-СДСД  66700000557         дача     2.0  неоспар.  01-2019 -11.163823   \n",
       "4  ЛС-СДСД  66700000575         дача    21.0  неоспар.  01-2019 -11.163823   \n",
       "\n",
       "   Rooms  Peoples  Loss2019  \n",
       "0    1.0      1.0  0.027669  \n",
       "1    1.0      1.0  0.027669  \n",
       "2    1.0      1.0  0.027669  \n",
       "3    1.0      1.0  0.027669  \n",
       "4    1.0      1.0  0.027669  "
      ]
     },
     "execution_count": 11,
     "metadata": {},
     "output_type": "execute_result"
    }
   ],
   "source": [
    "supply = supply.merge(RoomsPeoples, how = 'left', left_on='Consumer', right_on='Consumer')\n",
    "supply.head()"
   ]
  },
  {
   "cell_type": "markdown",
   "metadata": {},
   "source": [
    "1.4. Загружаем данные по категориям потребителей из каталога /Data/Group/"
   ]
  },
  {
   "cell_type": "code",
   "execution_count": 12,
   "metadata": {},
   "outputs": [
    {
     "name": "stdout",
     "output_type": "stream",
     "text": [
      "Обработан файл: ./Data/Group/bes_filtered.xlsx  - загружено строк: 47614\n",
      "Обработан файл: ./Data/Group/ces_filtered.xlsx  - загружено строк: 103516\n",
      "Обработан файл: ./Data/Group/chaes_filtered.xlsx  - загружено строк: 83823\n",
      "Обработан файл: ./Data/Group/chues_filtered.xlsx  - загружено строк: 28754\n",
      "Обработан файл: ./Data/Group/kues_filtered.xlsx  - загружено строк: 80955\n",
      "Обработан файл: ./Data/Group/oches_filtered.xlsx  - загружено строк: 63447\n",
      "Обработан файл: ./Data/Group/pges_filtered.xlsx  - загружено строк: 101690\n",
      "Обработан файл: ./Data/Group/ses_filtered.xlsx  - загружено строк: 42740\n",
      "Всего строк загружено:  552539\n",
      "Wall time: 21.8 s\n"
     ]
    }
   ],
   "source": [
    "%%time\n",
    "dirName = './Data/Group/'\n",
    "group_all = []\n",
    "for name in os.listdir(dirName):\n",
    "    fullname = os.path.join(dirName, name) # получаем полное имя\n",
    "    if os.path.isfile(fullname):\n",
    "        dfg = pd.read_excel(fullname)\n",
    "        print (\"Обработан файл:\", fullname, \" - загружено строк:\", len(dfg))\n",
    "        group_all.append(dfg)\n",
    "group_temp = pd.concat(group_all,axis=0,ignore_index=True)\n",
    "print(\"Всего строк загружено: \", len(group_temp))"
   ]
  },
  {
   "cell_type": "code",
   "execution_count": 13,
   "metadata": {},
   "outputs": [
    {
     "data": {
      "text/html": [
       "<div>\n",
       "<style scoped>\n",
       "    .dataframe tbody tr th:only-of-type {\n",
       "        vertical-align: middle;\n",
       "    }\n",
       "\n",
       "    .dataframe tbody tr th {\n",
       "        vertical-align: top;\n",
       "    }\n",
       "\n",
       "    .dataframe thead th {\n",
       "        text-align: right;\n",
       "    }\n",
       "</style>\n",
       "<table border=\"1\" class=\"dataframe\">\n",
       "  <thead>\n",
       "    <tr style=\"text-align: right;\">\n",
       "      <th></th>\n",
       "      <th>Consumer</th>\n",
       "      <th>Group</th>\n",
       "    </tr>\n",
       "  </thead>\n",
       "  <tbody>\n",
       "    <tr>\n",
       "      <td>0</td>\n",
       "      <td>66700334153</td>\n",
       "      <td>Население сельское</td>\n",
       "    </tr>\n",
       "    <tr>\n",
       "      <td>1</td>\n",
       "      <td>66400019149</td>\n",
       "      <td>Население городское</td>\n",
       "    </tr>\n",
       "    <tr>\n",
       "      <td>2</td>\n",
       "      <td>66400042245</td>\n",
       "      <td>Население сельское</td>\n",
       "    </tr>\n",
       "    <tr>\n",
       "      <td>3</td>\n",
       "      <td>66400042147</td>\n",
       "      <td>Население сельское</td>\n",
       "    </tr>\n",
       "    <tr>\n",
       "      <td>4</td>\n",
       "      <td>66400042147</td>\n",
       "      <td>Население сельское</td>\n",
       "    </tr>\n",
       "  </tbody>\n",
       "</table>\n",
       "</div>"
      ],
      "text/plain": [
       "      Consumer                Group\n",
       "0  66700334153   Население сельское\n",
       "1  66400019149  Население городское\n",
       "2  66400042245   Население сельское\n",
       "3  66400042147   Население сельское\n",
       "4  66400042147   Население сельское"
      ]
     },
     "execution_count": 13,
     "metadata": {},
     "output_type": "execute_result"
    }
   ],
   "source": [
    "group_temp.head()"
   ]
  },
  {
   "cell_type": "markdown",
   "metadata": {},
   "source": [
    "Удаляем дубликаты"
   ]
  },
  {
   "cell_type": "code",
   "execution_count": 14,
   "metadata": {},
   "outputs": [
    {
     "name": "stdout",
     "output_type": "stream",
     "text": [
      "346300\n"
     ]
    }
   ],
   "source": [
    "group_temp.drop_duplicates(keep='first', inplace=True)\n",
    "print(len(group_temp))"
   ]
  },
  {
   "cell_type": "markdown",
   "metadata": {},
   "source": [
    "Добавляем информацию в датасет supply"
   ]
  },
  {
   "cell_type": "code",
   "execution_count": 15,
   "metadata": {},
   "outputs": [
    {
     "data": {
      "text/html": [
       "<div>\n",
       "<style scoped>\n",
       "    .dataframe tbody tr th:only-of-type {\n",
       "        vertical-align: middle;\n",
       "    }\n",
       "\n",
       "    .dataframe tbody tr th {\n",
       "        vertical-align: top;\n",
       "    }\n",
       "\n",
       "    .dataframe thead th {\n",
       "        text-align: right;\n",
       "    }\n",
       "</style>\n",
       "<table border=\"1\" class=\"dataframe\">\n",
       "  <thead>\n",
       "    <tr style=\"text-align: right;\">\n",
       "      <th></th>\n",
       "      <th>Method</th>\n",
       "      <th>Consumer</th>\n",
       "      <th>Building</th>\n",
       "      <th>Supply</th>\n",
       "      <th>Status</th>\n",
       "      <th>Period</th>\n",
       "      <th>T</th>\n",
       "      <th>Rooms</th>\n",
       "      <th>Peoples</th>\n",
       "      <th>Loss2019</th>\n",
       "    </tr>\n",
       "  </thead>\n",
       "  <tbody>\n",
       "    <tr>\n",
       "      <td>0</td>\n",
       "      <td>ЛС-СДСД</td>\n",
       "      <td>66700000233</td>\n",
       "      <td>дача</td>\n",
       "      <td>0.0</td>\n",
       "      <td>неоспар.</td>\n",
       "      <td>01-2019</td>\n",
       "      <td>-11.163823</td>\n",
       "      <td>1.0</td>\n",
       "      <td>1.0</td>\n",
       "      <td>0.027669</td>\n",
       "    </tr>\n",
       "    <tr>\n",
       "      <td>1</td>\n",
       "      <td>ЛС-СДСД</td>\n",
       "      <td>66700000410</td>\n",
       "      <td>дача</td>\n",
       "      <td>0.0</td>\n",
       "      <td>неоспар.</td>\n",
       "      <td>01-2019</td>\n",
       "      <td>-11.163823</td>\n",
       "      <td>1.0</td>\n",
       "      <td>1.0</td>\n",
       "      <td>0.027669</td>\n",
       "    </tr>\n",
       "    <tr>\n",
       "      <td>2</td>\n",
       "      <td>ЛС-СДСД</td>\n",
       "      <td>66700000431</td>\n",
       "      <td>част. ж/дом</td>\n",
       "      <td>2.0</td>\n",
       "      <td>неоспар.</td>\n",
       "      <td>01-2019</td>\n",
       "      <td>-11.163823</td>\n",
       "      <td>1.0</td>\n",
       "      <td>1.0</td>\n",
       "      <td>0.027669</td>\n",
       "    </tr>\n",
       "    <tr>\n",
       "      <td>3</td>\n",
       "      <td>ЛС-СДСД</td>\n",
       "      <td>66700000557</td>\n",
       "      <td>дача</td>\n",
       "      <td>2.0</td>\n",
       "      <td>неоспар.</td>\n",
       "      <td>01-2019</td>\n",
       "      <td>-11.163823</td>\n",
       "      <td>1.0</td>\n",
       "      <td>1.0</td>\n",
       "      <td>0.027669</td>\n",
       "    </tr>\n",
       "    <tr>\n",
       "      <td>4</td>\n",
       "      <td>ЛС-СДСД</td>\n",
       "      <td>66700000575</td>\n",
       "      <td>дача</td>\n",
       "      <td>21.0</td>\n",
       "      <td>неоспар.</td>\n",
       "      <td>01-2019</td>\n",
       "      <td>-11.163823</td>\n",
       "      <td>1.0</td>\n",
       "      <td>1.0</td>\n",
       "      <td>0.027669</td>\n",
       "    </tr>\n",
       "  </tbody>\n",
       "</table>\n",
       "</div>"
      ],
      "text/plain": [
       "    Method     Consumer     Building  Supply    Status   Period          T  \\\n",
       "0  ЛС-СДСД  66700000233         дача     0.0  неоспар.  01-2019 -11.163823   \n",
       "1  ЛС-СДСД  66700000410         дача     0.0  неоспар.  01-2019 -11.163823   \n",
       "2  ЛС-СДСД  66700000431  част. ж/дом     2.0  неоспар.  01-2019 -11.163823   \n",
       "3  ЛС-СДСД  66700000557         дача     2.0  неоспар.  01-2019 -11.163823   \n",
       "4  ЛС-СДСД  66700000575         дача    21.0  неоспар.  01-2019 -11.163823   \n",
       "\n",
       "   Rooms  Peoples  Loss2019  \n",
       "0    1.0      1.0  0.027669  \n",
       "1    1.0      1.0  0.027669  \n",
       "2    1.0      1.0  0.027669  \n",
       "3    1.0      1.0  0.027669  \n",
       "4    1.0      1.0  0.027669  "
      ]
     },
     "execution_count": 15,
     "metadata": {},
     "output_type": "execute_result"
    }
   ],
   "source": [
    "#supply.drop('Group', axis=1, inplace=True)\n",
    "supply.head()"
   ]
  },
  {
   "cell_type": "code",
   "execution_count": 16,
   "metadata": {},
   "outputs": [
    {
     "data": {
      "text/html": [
       "<div>\n",
       "<style scoped>\n",
       "    .dataframe tbody tr th:only-of-type {\n",
       "        vertical-align: middle;\n",
       "    }\n",
       "\n",
       "    .dataframe tbody tr th {\n",
       "        vertical-align: top;\n",
       "    }\n",
       "\n",
       "    .dataframe thead th {\n",
       "        text-align: right;\n",
       "    }\n",
       "</style>\n",
       "<table border=\"1\" class=\"dataframe\">\n",
       "  <thead>\n",
       "    <tr style=\"text-align: right;\">\n",
       "      <th></th>\n",
       "      <th>Method</th>\n",
       "      <th>Consumer</th>\n",
       "      <th>Building</th>\n",
       "      <th>Supply</th>\n",
       "      <th>Status</th>\n",
       "      <th>Period</th>\n",
       "      <th>T</th>\n",
       "      <th>Rooms</th>\n",
       "      <th>Peoples</th>\n",
       "      <th>Loss2019</th>\n",
       "      <th>Group</th>\n",
       "    </tr>\n",
       "  </thead>\n",
       "  <tbody>\n",
       "    <tr>\n",
       "      <td>0</td>\n",
       "      <td>ЛС-СДСД</td>\n",
       "      <td>66700000233</td>\n",
       "      <td>дача</td>\n",
       "      <td>0.0</td>\n",
       "      <td>неоспар.</td>\n",
       "      <td>01-2019</td>\n",
       "      <td>-11.163823</td>\n",
       "      <td>1.0</td>\n",
       "      <td>1.0</td>\n",
       "      <td>0.027669</td>\n",
       "      <td>Население сельское</td>\n",
       "    </tr>\n",
       "    <tr>\n",
       "      <td>1</td>\n",
       "      <td>ЛС-СДСД</td>\n",
       "      <td>66700000410</td>\n",
       "      <td>дача</td>\n",
       "      <td>0.0</td>\n",
       "      <td>неоспар.</td>\n",
       "      <td>01-2019</td>\n",
       "      <td>-11.163823</td>\n",
       "      <td>1.0</td>\n",
       "      <td>1.0</td>\n",
       "      <td>0.027669</td>\n",
       "      <td>Население сельское</td>\n",
       "    </tr>\n",
       "    <tr>\n",
       "      <td>2</td>\n",
       "      <td>ЛС-СДСД</td>\n",
       "      <td>66700000431</td>\n",
       "      <td>част. ж/дом</td>\n",
       "      <td>2.0</td>\n",
       "      <td>неоспар.</td>\n",
       "      <td>01-2019</td>\n",
       "      <td>-11.163823</td>\n",
       "      <td>1.0</td>\n",
       "      <td>1.0</td>\n",
       "      <td>0.027669</td>\n",
       "      <td>Население сельское</td>\n",
       "    </tr>\n",
       "    <tr>\n",
       "      <td>3</td>\n",
       "      <td>ЛС-СДСД</td>\n",
       "      <td>66700000557</td>\n",
       "      <td>дача</td>\n",
       "      <td>2.0</td>\n",
       "      <td>неоспар.</td>\n",
       "      <td>01-2019</td>\n",
       "      <td>-11.163823</td>\n",
       "      <td>1.0</td>\n",
       "      <td>1.0</td>\n",
       "      <td>0.027669</td>\n",
       "      <td>Население сельское</td>\n",
       "    </tr>\n",
       "    <tr>\n",
       "      <td>4</td>\n",
       "      <td>ЛС-СДСД</td>\n",
       "      <td>66700000575</td>\n",
       "      <td>дача</td>\n",
       "      <td>21.0</td>\n",
       "      <td>неоспар.</td>\n",
       "      <td>01-2019</td>\n",
       "      <td>-11.163823</td>\n",
       "      <td>1.0</td>\n",
       "      <td>1.0</td>\n",
       "      <td>0.027669</td>\n",
       "      <td>Население сельское</td>\n",
       "    </tr>\n",
       "  </tbody>\n",
       "</table>\n",
       "</div>"
      ],
      "text/plain": [
       "    Method     Consumer     Building  Supply    Status   Period          T  \\\n",
       "0  ЛС-СДСД  66700000233         дача     0.0  неоспар.  01-2019 -11.163823   \n",
       "1  ЛС-СДСД  66700000410         дача     0.0  неоспар.  01-2019 -11.163823   \n",
       "2  ЛС-СДСД  66700000431  част. ж/дом     2.0  неоспар.  01-2019 -11.163823   \n",
       "3  ЛС-СДСД  66700000557         дача     2.0  неоспар.  01-2019 -11.163823   \n",
       "4  ЛС-СДСД  66700000575         дача    21.0  неоспар.  01-2019 -11.163823   \n",
       "\n",
       "   Rooms  Peoples  Loss2019               Group  \n",
       "0    1.0      1.0  0.027669  Население сельское  \n",
       "1    1.0      1.0  0.027669  Население сельское  \n",
       "2    1.0      1.0  0.027669  Население сельское  \n",
       "3    1.0      1.0  0.027669  Население сельское  \n",
       "4    1.0      1.0  0.027669  Население сельское  "
      ]
     },
     "execution_count": 16,
     "metadata": {},
     "output_type": "execute_result"
    }
   ],
   "source": [
    "group_temp['Consumer'] = group_temp['Consumer'].astype(str)\n",
    "supply = supply.merge(group_temp, how = 'left', left_on='Consumer', right_on='Consumer')\n",
    "supply.head()"
   ]
  },
  {
   "cell_type": "markdown",
   "metadata": {},
   "source": [
    "### Этап 2. Обработка данных"
   ]
  },
  {
   "cell_type": "markdown",
   "metadata": {},
   "source": [
    "2.1. Удаляем дубликаты"
   ]
  },
  {
   "cell_type": "code",
   "execution_count": 17,
   "metadata": {},
   "outputs": [
    {
     "name": "stdout",
     "output_type": "stream",
     "text": [
      "5540437\n"
     ]
    }
   ],
   "source": [
    "supply.drop_duplicates(keep='first', inplace=True)\n",
    "print(len(supply))"
   ]
  },
  {
   "cell_type": "markdown",
   "metadata": {},
   "source": [
    "2.2. Удаляем все строки со статусом Status = \"оспар.\", потом удаляем сам столбец за ненадобностью (он используется при расчетах полезного отпуска)"
   ]
  },
  {
   "cell_type": "code",
   "execution_count": 18,
   "metadata": {},
   "outputs": [
    {
     "name": "stdout",
     "output_type": "stream",
     "text": [
      "5492797\n"
     ]
    }
   ],
   "source": [
    "supply = supply.loc[supply['Status']!='оспар.']\n",
    "print(len(supply))"
   ]
  },
  {
   "cell_type": "code",
   "execution_count": 19,
   "metadata": {},
   "outputs": [
    {
     "data": {
      "text/html": [
       "<div>\n",
       "<style scoped>\n",
       "    .dataframe tbody tr th:only-of-type {\n",
       "        vertical-align: middle;\n",
       "    }\n",
       "\n",
       "    .dataframe tbody tr th {\n",
       "        vertical-align: top;\n",
       "    }\n",
       "\n",
       "    .dataframe thead th {\n",
       "        text-align: right;\n",
       "    }\n",
       "</style>\n",
       "<table border=\"1\" class=\"dataframe\">\n",
       "  <thead>\n",
       "    <tr style=\"text-align: right;\">\n",
       "      <th></th>\n",
       "      <th>Method</th>\n",
       "      <th>Consumer</th>\n",
       "      <th>Building</th>\n",
       "      <th>Supply</th>\n",
       "      <th>Period</th>\n",
       "      <th>T</th>\n",
       "      <th>Rooms</th>\n",
       "      <th>Peoples</th>\n",
       "      <th>Loss2019</th>\n",
       "      <th>Group</th>\n",
       "    </tr>\n",
       "  </thead>\n",
       "  <tbody>\n",
       "    <tr>\n",
       "      <td>0</td>\n",
       "      <td>ЛС-СДСД</td>\n",
       "      <td>66700000233</td>\n",
       "      <td>дача</td>\n",
       "      <td>0.0</td>\n",
       "      <td>01-2019</td>\n",
       "      <td>-11.163823</td>\n",
       "      <td>1.0</td>\n",
       "      <td>1.0</td>\n",
       "      <td>0.027669</td>\n",
       "      <td>Население сельское</td>\n",
       "    </tr>\n",
       "    <tr>\n",
       "      <td>1</td>\n",
       "      <td>ЛС-СДСД</td>\n",
       "      <td>66700000410</td>\n",
       "      <td>дача</td>\n",
       "      <td>0.0</td>\n",
       "      <td>01-2019</td>\n",
       "      <td>-11.163823</td>\n",
       "      <td>1.0</td>\n",
       "      <td>1.0</td>\n",
       "      <td>0.027669</td>\n",
       "      <td>Население сельское</td>\n",
       "    </tr>\n",
       "    <tr>\n",
       "      <td>2</td>\n",
       "      <td>ЛС-СДСД</td>\n",
       "      <td>66700000431</td>\n",
       "      <td>част. ж/дом</td>\n",
       "      <td>2.0</td>\n",
       "      <td>01-2019</td>\n",
       "      <td>-11.163823</td>\n",
       "      <td>1.0</td>\n",
       "      <td>1.0</td>\n",
       "      <td>0.027669</td>\n",
       "      <td>Население сельское</td>\n",
       "    </tr>\n",
       "    <tr>\n",
       "      <td>3</td>\n",
       "      <td>ЛС-СДСД</td>\n",
       "      <td>66700000557</td>\n",
       "      <td>дача</td>\n",
       "      <td>2.0</td>\n",
       "      <td>01-2019</td>\n",
       "      <td>-11.163823</td>\n",
       "      <td>1.0</td>\n",
       "      <td>1.0</td>\n",
       "      <td>0.027669</td>\n",
       "      <td>Население сельское</td>\n",
       "    </tr>\n",
       "    <tr>\n",
       "      <td>4</td>\n",
       "      <td>ЛС-СДСД</td>\n",
       "      <td>66700000575</td>\n",
       "      <td>дача</td>\n",
       "      <td>21.0</td>\n",
       "      <td>01-2019</td>\n",
       "      <td>-11.163823</td>\n",
       "      <td>1.0</td>\n",
       "      <td>1.0</td>\n",
       "      <td>0.027669</td>\n",
       "      <td>Население сельское</td>\n",
       "    </tr>\n",
       "  </tbody>\n",
       "</table>\n",
       "</div>"
      ],
      "text/plain": [
       "    Method     Consumer     Building  Supply   Period          T  Rooms  \\\n",
       "0  ЛС-СДСД  66700000233         дача     0.0  01-2019 -11.163823    1.0   \n",
       "1  ЛС-СДСД  66700000410         дача     0.0  01-2019 -11.163823    1.0   \n",
       "2  ЛС-СДСД  66700000431  част. ж/дом     2.0  01-2019 -11.163823    1.0   \n",
       "3  ЛС-СДСД  66700000557         дача     2.0  01-2019 -11.163823    1.0   \n",
       "4  ЛС-СДСД  66700000575         дача    21.0  01-2019 -11.163823    1.0   \n",
       "\n",
       "   Peoples  Loss2019               Group  \n",
       "0      1.0  0.027669  Население сельское  \n",
       "1      1.0  0.027669  Население сельское  \n",
       "2      1.0  0.027669  Население сельское  \n",
       "3      1.0  0.027669  Население сельское  \n",
       "4      1.0  0.027669  Население сельское  "
      ]
     },
     "execution_count": 19,
     "metadata": {},
     "output_type": "execute_result"
    }
   ],
   "source": [
    "supply.drop('Status', axis=1, inplace=True)\n",
    "supply.head()"
   ]
  },
  {
   "cell_type": "markdown",
   "metadata": {},
   "source": [
    "Делаем копию основного датасета со столбцом Period, это нам понадобится на этапе 8."
   ]
  },
  {
   "cell_type": "code",
   "execution_count": 20,
   "metadata": {},
   "outputs": [],
   "source": [
    "ds_supply = supply.copy()"
   ]
  },
  {
   "cell_type": "markdown",
   "metadata": {},
   "source": [
    "2.3. Удаляем столбец \"Period\", т.к. он использовался только для добавления среднемесячной температуры"
   ]
  },
  {
   "cell_type": "code",
   "execution_count": 21,
   "metadata": {},
   "outputs": [
    {
     "data": {
      "text/html": [
       "<div>\n",
       "<style scoped>\n",
       "    .dataframe tbody tr th:only-of-type {\n",
       "        vertical-align: middle;\n",
       "    }\n",
       "\n",
       "    .dataframe tbody tr th {\n",
       "        vertical-align: top;\n",
       "    }\n",
       "\n",
       "    .dataframe thead th {\n",
       "        text-align: right;\n",
       "    }\n",
       "</style>\n",
       "<table border=\"1\" class=\"dataframe\">\n",
       "  <thead>\n",
       "    <tr style=\"text-align: right;\">\n",
       "      <th></th>\n",
       "      <th>Method</th>\n",
       "      <th>Consumer</th>\n",
       "      <th>Building</th>\n",
       "      <th>Supply</th>\n",
       "      <th>T</th>\n",
       "      <th>Rooms</th>\n",
       "      <th>Peoples</th>\n",
       "      <th>Loss2019</th>\n",
       "      <th>Group</th>\n",
       "    </tr>\n",
       "  </thead>\n",
       "  <tbody>\n",
       "    <tr>\n",
       "      <td>0</td>\n",
       "      <td>ЛС-СДСД</td>\n",
       "      <td>66700000233</td>\n",
       "      <td>дача</td>\n",
       "      <td>0.0</td>\n",
       "      <td>-11.163823</td>\n",
       "      <td>1.0</td>\n",
       "      <td>1.0</td>\n",
       "      <td>0.027669</td>\n",
       "      <td>Население сельское</td>\n",
       "    </tr>\n",
       "    <tr>\n",
       "      <td>1</td>\n",
       "      <td>ЛС-СДСД</td>\n",
       "      <td>66700000410</td>\n",
       "      <td>дача</td>\n",
       "      <td>0.0</td>\n",
       "      <td>-11.163823</td>\n",
       "      <td>1.0</td>\n",
       "      <td>1.0</td>\n",
       "      <td>0.027669</td>\n",
       "      <td>Население сельское</td>\n",
       "    </tr>\n",
       "    <tr>\n",
       "      <td>2</td>\n",
       "      <td>ЛС-СДСД</td>\n",
       "      <td>66700000431</td>\n",
       "      <td>част. ж/дом</td>\n",
       "      <td>2.0</td>\n",
       "      <td>-11.163823</td>\n",
       "      <td>1.0</td>\n",
       "      <td>1.0</td>\n",
       "      <td>0.027669</td>\n",
       "      <td>Население сельское</td>\n",
       "    </tr>\n",
       "    <tr>\n",
       "      <td>3</td>\n",
       "      <td>ЛС-СДСД</td>\n",
       "      <td>66700000557</td>\n",
       "      <td>дача</td>\n",
       "      <td>2.0</td>\n",
       "      <td>-11.163823</td>\n",
       "      <td>1.0</td>\n",
       "      <td>1.0</td>\n",
       "      <td>0.027669</td>\n",
       "      <td>Население сельское</td>\n",
       "    </tr>\n",
       "    <tr>\n",
       "      <td>4</td>\n",
       "      <td>ЛС-СДСД</td>\n",
       "      <td>66700000575</td>\n",
       "      <td>дача</td>\n",
       "      <td>21.0</td>\n",
       "      <td>-11.163823</td>\n",
       "      <td>1.0</td>\n",
       "      <td>1.0</td>\n",
       "      <td>0.027669</td>\n",
       "      <td>Население сельское</td>\n",
       "    </tr>\n",
       "  </tbody>\n",
       "</table>\n",
       "</div>"
      ],
      "text/plain": [
       "    Method     Consumer     Building  Supply          T  Rooms  Peoples  \\\n",
       "0  ЛС-СДСД  66700000233         дача     0.0 -11.163823    1.0      1.0   \n",
       "1  ЛС-СДСД  66700000410         дача     0.0 -11.163823    1.0      1.0   \n",
       "2  ЛС-СДСД  66700000431  част. ж/дом     2.0 -11.163823    1.0      1.0   \n",
       "3  ЛС-СДСД  66700000557         дача     2.0 -11.163823    1.0      1.0   \n",
       "4  ЛС-СДСД  66700000575         дача    21.0 -11.163823    1.0      1.0   \n",
       "\n",
       "   Loss2019               Group  \n",
       "0  0.027669  Население сельское  \n",
       "1  0.027669  Население сельское  \n",
       "2  0.027669  Население сельское  \n",
       "3  0.027669  Население сельское  \n",
       "4  0.027669  Население сельское  "
      ]
     },
     "execution_count": 21,
     "metadata": {},
     "output_type": "execute_result"
    }
   ],
   "source": [
    "supply.drop('Period', axis=1, inplace=True)\n",
    "supply.head()"
   ]
  },
  {
   "cell_type": "markdown",
   "metadata": {},
   "source": [
    "Удаляем столбец \"Loss2019\", т.к. он будет использоваться на этапе 10 для улучшения прогноза"
   ]
  },
  {
   "cell_type": "code",
   "execution_count": 22,
   "metadata": {},
   "outputs": [
    {
     "data": {
      "text/html": [
       "<div>\n",
       "<style scoped>\n",
       "    .dataframe tbody tr th:only-of-type {\n",
       "        vertical-align: middle;\n",
       "    }\n",
       "\n",
       "    .dataframe tbody tr th {\n",
       "        vertical-align: top;\n",
       "    }\n",
       "\n",
       "    .dataframe thead th {\n",
       "        text-align: right;\n",
       "    }\n",
       "</style>\n",
       "<table border=\"1\" class=\"dataframe\">\n",
       "  <thead>\n",
       "    <tr style=\"text-align: right;\">\n",
       "      <th></th>\n",
       "      <th>Method</th>\n",
       "      <th>Consumer</th>\n",
       "      <th>Building</th>\n",
       "      <th>Supply</th>\n",
       "      <th>T</th>\n",
       "      <th>Rooms</th>\n",
       "      <th>Peoples</th>\n",
       "      <th>Group</th>\n",
       "    </tr>\n",
       "  </thead>\n",
       "  <tbody>\n",
       "    <tr>\n",
       "      <td>0</td>\n",
       "      <td>ЛС-СДСД</td>\n",
       "      <td>66700000233</td>\n",
       "      <td>дача</td>\n",
       "      <td>0.0</td>\n",
       "      <td>-11.163823</td>\n",
       "      <td>1.0</td>\n",
       "      <td>1.0</td>\n",
       "      <td>Население сельское</td>\n",
       "    </tr>\n",
       "    <tr>\n",
       "      <td>1</td>\n",
       "      <td>ЛС-СДСД</td>\n",
       "      <td>66700000410</td>\n",
       "      <td>дача</td>\n",
       "      <td>0.0</td>\n",
       "      <td>-11.163823</td>\n",
       "      <td>1.0</td>\n",
       "      <td>1.0</td>\n",
       "      <td>Население сельское</td>\n",
       "    </tr>\n",
       "    <tr>\n",
       "      <td>2</td>\n",
       "      <td>ЛС-СДСД</td>\n",
       "      <td>66700000431</td>\n",
       "      <td>част. ж/дом</td>\n",
       "      <td>2.0</td>\n",
       "      <td>-11.163823</td>\n",
       "      <td>1.0</td>\n",
       "      <td>1.0</td>\n",
       "      <td>Население сельское</td>\n",
       "    </tr>\n",
       "    <tr>\n",
       "      <td>3</td>\n",
       "      <td>ЛС-СДСД</td>\n",
       "      <td>66700000557</td>\n",
       "      <td>дача</td>\n",
       "      <td>2.0</td>\n",
       "      <td>-11.163823</td>\n",
       "      <td>1.0</td>\n",
       "      <td>1.0</td>\n",
       "      <td>Население сельское</td>\n",
       "    </tr>\n",
       "    <tr>\n",
       "      <td>4</td>\n",
       "      <td>ЛС-СДСД</td>\n",
       "      <td>66700000575</td>\n",
       "      <td>дача</td>\n",
       "      <td>21.0</td>\n",
       "      <td>-11.163823</td>\n",
       "      <td>1.0</td>\n",
       "      <td>1.0</td>\n",
       "      <td>Население сельское</td>\n",
       "    </tr>\n",
       "  </tbody>\n",
       "</table>\n",
       "</div>"
      ],
      "text/plain": [
       "    Method     Consumer     Building  Supply          T  Rooms  Peoples  \\\n",
       "0  ЛС-СДСД  66700000233         дача     0.0 -11.163823    1.0      1.0   \n",
       "1  ЛС-СДСД  66700000410         дача     0.0 -11.163823    1.0      1.0   \n",
       "2  ЛС-СДСД  66700000431  част. ж/дом     2.0 -11.163823    1.0      1.0   \n",
       "3  ЛС-СДСД  66700000557         дача     2.0 -11.163823    1.0      1.0   \n",
       "4  ЛС-СДСД  66700000575         дача    21.0 -11.163823    1.0      1.0   \n",
       "\n",
       "                Group  \n",
       "0  Население сельское  \n",
       "1  Население сельское  \n",
       "2  Население сельское  \n",
       "3  Население сельское  \n",
       "4  Население сельское  "
      ]
     },
     "execution_count": 22,
     "metadata": {},
     "output_type": "execute_result"
    }
   ],
   "source": [
    "supply.drop('Loss2019', axis=1, inplace=True)\n",
    "supply.head()"
   ]
  },
  {
   "cell_type": "markdown",
   "metadata": {},
   "source": [
    "2.4. Из столбца \"Building\" извлекаем данные о том, постоянно ли проживают по данному адресу (не дача) или нет. Добавляем столбец \"Permanent_Residence\", которое принимает значение 1 при постоянном проживании, и 0 в обратном случае."
   ]
  },
  {
   "cell_type": "code",
   "execution_count": 23,
   "metadata": {},
   "outputs": [
    {
     "data": {
      "text/plain": [
       "array(['дача', 'част. ж/дом', 'кварт.', 'баня', 'стр.площ.', 'гараж',\n",
       "       'кв. малокв.', 'хоз.постр.', 'прочие хоз.', 'мнкв.дом', 'ТП',\n",
       "       'Не опр.', 'прочие пром.', 'разрушенный', 'нежилой',\n",
       "       'общест. объект', 'нежилое в мн.кв.', 'нежилая кварт.',\n",
       "       'водокачка', 'религ. объект', 'общежитие', 'эл.отопл.', 'пилорама',\n",
       "       'проч. объекты юр.лиц', 'мастерская', 'яма', 'сад',\n",
       "       'мнкв.авар.дом', 'мнкв.ветх.дом'], dtype=object)"
      ]
     },
     "execution_count": 23,
     "metadata": {},
     "output_type": "execute_result"
    }
   ],
   "source": [
    "supply['Building'].unique()"
   ]
  },
  {
   "cell_type": "code",
   "execution_count": 24,
   "metadata": {},
   "outputs": [],
   "source": [
    "def Permanent_Residence(b):\n",
    "    perm_list = ['кварт.','част. ж/дом','кв. малокв.','мнкв.дом','общежитие', 'эл.отопл.']\n",
    "    if b in perm_list:\n",
    "        return 1\n",
    "    else:\n",
    "        return 0"
   ]
  },
  {
   "cell_type": "code",
   "execution_count": 25,
   "metadata": {},
   "outputs": [],
   "source": [
    "supply['Permanent_Residence'] = supply['Building'].apply(Permanent_Residence)"
   ]
  },
  {
   "cell_type": "markdown",
   "metadata": {},
   "source": [
    "Удаляем столбец \"Building\""
   ]
  },
  {
   "cell_type": "code",
   "execution_count": 26,
   "metadata": {},
   "outputs": [
    {
     "data": {
      "text/html": [
       "<div>\n",
       "<style scoped>\n",
       "    .dataframe tbody tr th:only-of-type {\n",
       "        vertical-align: middle;\n",
       "    }\n",
       "\n",
       "    .dataframe tbody tr th {\n",
       "        vertical-align: top;\n",
       "    }\n",
       "\n",
       "    .dataframe thead th {\n",
       "        text-align: right;\n",
       "    }\n",
       "</style>\n",
       "<table border=\"1\" class=\"dataframe\">\n",
       "  <thead>\n",
       "    <tr style=\"text-align: right;\">\n",
       "      <th></th>\n",
       "      <th>Method</th>\n",
       "      <th>Consumer</th>\n",
       "      <th>Supply</th>\n",
       "      <th>T</th>\n",
       "      <th>Rooms</th>\n",
       "      <th>Peoples</th>\n",
       "      <th>Group</th>\n",
       "      <th>Permanent_Residence</th>\n",
       "    </tr>\n",
       "  </thead>\n",
       "  <tbody>\n",
       "    <tr>\n",
       "      <td>0</td>\n",
       "      <td>ЛС-СДСД</td>\n",
       "      <td>66700000233</td>\n",
       "      <td>0.0</td>\n",
       "      <td>-11.163823</td>\n",
       "      <td>1.0</td>\n",
       "      <td>1.0</td>\n",
       "      <td>Население сельское</td>\n",
       "      <td>0</td>\n",
       "    </tr>\n",
       "    <tr>\n",
       "      <td>1</td>\n",
       "      <td>ЛС-СДСД</td>\n",
       "      <td>66700000410</td>\n",
       "      <td>0.0</td>\n",
       "      <td>-11.163823</td>\n",
       "      <td>1.0</td>\n",
       "      <td>1.0</td>\n",
       "      <td>Население сельское</td>\n",
       "      <td>0</td>\n",
       "    </tr>\n",
       "    <tr>\n",
       "      <td>2</td>\n",
       "      <td>ЛС-СДСД</td>\n",
       "      <td>66700000431</td>\n",
       "      <td>2.0</td>\n",
       "      <td>-11.163823</td>\n",
       "      <td>1.0</td>\n",
       "      <td>1.0</td>\n",
       "      <td>Население сельское</td>\n",
       "      <td>1</td>\n",
       "    </tr>\n",
       "    <tr>\n",
       "      <td>3</td>\n",
       "      <td>ЛС-СДСД</td>\n",
       "      <td>66700000557</td>\n",
       "      <td>2.0</td>\n",
       "      <td>-11.163823</td>\n",
       "      <td>1.0</td>\n",
       "      <td>1.0</td>\n",
       "      <td>Население сельское</td>\n",
       "      <td>0</td>\n",
       "    </tr>\n",
       "    <tr>\n",
       "      <td>4</td>\n",
       "      <td>ЛС-СДСД</td>\n",
       "      <td>66700000575</td>\n",
       "      <td>21.0</td>\n",
       "      <td>-11.163823</td>\n",
       "      <td>1.0</td>\n",
       "      <td>1.0</td>\n",
       "      <td>Население сельское</td>\n",
       "      <td>0</td>\n",
       "    </tr>\n",
       "  </tbody>\n",
       "</table>\n",
       "</div>"
      ],
      "text/plain": [
       "    Method     Consumer  Supply          T  Rooms  Peoples  \\\n",
       "0  ЛС-СДСД  66700000233     0.0 -11.163823    1.0      1.0   \n",
       "1  ЛС-СДСД  66700000410     0.0 -11.163823    1.0      1.0   \n",
       "2  ЛС-СДСД  66700000431     2.0 -11.163823    1.0      1.0   \n",
       "3  ЛС-СДСД  66700000557     2.0 -11.163823    1.0      1.0   \n",
       "4  ЛС-СДСД  66700000575    21.0 -11.163823    1.0      1.0   \n",
       "\n",
       "                Group  Permanent_Residence  \n",
       "0  Население сельское                    0  \n",
       "1  Население сельское                    0  \n",
       "2  Население сельское                    1  \n",
       "3  Население сельское                    0  \n",
       "4  Население сельское                    0  "
      ]
     },
     "execution_count": 26,
     "metadata": {},
     "output_type": "execute_result"
    }
   ],
   "source": [
    "supply.drop('Building', axis=1, inplace=True)\n",
    "supply.head()"
   ]
  },
  {
   "cell_type": "markdown",
   "metadata": {},
   "source": [
    "2.5. Из столбца \"Group\" извлекаем данные о том, потребитель сельский или городской. \n",
    "Добавляем столбец \"City\", которое принимает значение 1 при городском расположении, и 0 в обратном случае."
   ]
  },
  {
   "cell_type": "code",
   "execution_count": 27,
   "metadata": {},
   "outputs": [
    {
     "data": {
      "text/plain": [
       "array(['Население сельское', 'Население городское', nan,\n",
       "       'Приравненные к населению (село)',\n",
       "       'Приравненные к населению (город)', 'Не определено',\n",
       "       'Непромышленные потребители', 'Промышленные потребители'],\n",
       "      dtype=object)"
      ]
     },
     "execution_count": 27,
     "metadata": {},
     "output_type": "execute_result"
    }
   ],
   "source": [
    "supply['Group'].unique()"
   ]
  },
  {
   "cell_type": "code",
   "execution_count": 28,
   "metadata": {},
   "outputs": [],
   "source": [
    "def City_Residence(b):\n",
    "    perm_list = ['Население городское','Приравненные к населению (город)','Непромышленные потребители', 'Промышленные потребители']\n",
    "    if b in perm_list:\n",
    "        return 1\n",
    "    else:\n",
    "        return 0"
   ]
  },
  {
   "cell_type": "code",
   "execution_count": 29,
   "metadata": {},
   "outputs": [],
   "source": [
    "supply['City'] = supply['Group'].apply(City_Residence)"
   ]
  },
  {
   "cell_type": "markdown",
   "metadata": {},
   "source": [
    "Удаляем столбец \"Group\""
   ]
  },
  {
   "cell_type": "code",
   "execution_count": 30,
   "metadata": {},
   "outputs": [
    {
     "data": {
      "text/html": [
       "<div>\n",
       "<style scoped>\n",
       "    .dataframe tbody tr th:only-of-type {\n",
       "        vertical-align: middle;\n",
       "    }\n",
       "\n",
       "    .dataframe tbody tr th {\n",
       "        vertical-align: top;\n",
       "    }\n",
       "\n",
       "    .dataframe thead th {\n",
       "        text-align: right;\n",
       "    }\n",
       "</style>\n",
       "<table border=\"1\" class=\"dataframe\">\n",
       "  <thead>\n",
       "    <tr style=\"text-align: right;\">\n",
       "      <th></th>\n",
       "      <th>Method</th>\n",
       "      <th>Consumer</th>\n",
       "      <th>Supply</th>\n",
       "      <th>T</th>\n",
       "      <th>Rooms</th>\n",
       "      <th>Peoples</th>\n",
       "      <th>Permanent_Residence</th>\n",
       "      <th>City</th>\n",
       "    </tr>\n",
       "  </thead>\n",
       "  <tbody>\n",
       "    <tr>\n",
       "      <td>0</td>\n",
       "      <td>ЛС-СДСД</td>\n",
       "      <td>66700000233</td>\n",
       "      <td>0.0</td>\n",
       "      <td>-11.163823</td>\n",
       "      <td>1.0</td>\n",
       "      <td>1.0</td>\n",
       "      <td>0</td>\n",
       "      <td>0</td>\n",
       "    </tr>\n",
       "    <tr>\n",
       "      <td>1</td>\n",
       "      <td>ЛС-СДСД</td>\n",
       "      <td>66700000410</td>\n",
       "      <td>0.0</td>\n",
       "      <td>-11.163823</td>\n",
       "      <td>1.0</td>\n",
       "      <td>1.0</td>\n",
       "      <td>0</td>\n",
       "      <td>0</td>\n",
       "    </tr>\n",
       "    <tr>\n",
       "      <td>2</td>\n",
       "      <td>ЛС-СДСД</td>\n",
       "      <td>66700000431</td>\n",
       "      <td>2.0</td>\n",
       "      <td>-11.163823</td>\n",
       "      <td>1.0</td>\n",
       "      <td>1.0</td>\n",
       "      <td>1</td>\n",
       "      <td>0</td>\n",
       "    </tr>\n",
       "    <tr>\n",
       "      <td>3</td>\n",
       "      <td>ЛС-СДСД</td>\n",
       "      <td>66700000557</td>\n",
       "      <td>2.0</td>\n",
       "      <td>-11.163823</td>\n",
       "      <td>1.0</td>\n",
       "      <td>1.0</td>\n",
       "      <td>0</td>\n",
       "      <td>0</td>\n",
       "    </tr>\n",
       "    <tr>\n",
       "      <td>4</td>\n",
       "      <td>ЛС-СДСД</td>\n",
       "      <td>66700000575</td>\n",
       "      <td>21.0</td>\n",
       "      <td>-11.163823</td>\n",
       "      <td>1.0</td>\n",
       "      <td>1.0</td>\n",
       "      <td>0</td>\n",
       "      <td>0</td>\n",
       "    </tr>\n",
       "  </tbody>\n",
       "</table>\n",
       "</div>"
      ],
      "text/plain": [
       "    Method     Consumer  Supply          T  Rooms  Peoples  \\\n",
       "0  ЛС-СДСД  66700000233     0.0 -11.163823    1.0      1.0   \n",
       "1  ЛС-СДСД  66700000410     0.0 -11.163823    1.0      1.0   \n",
       "2  ЛС-СДСД  66700000431     2.0 -11.163823    1.0      1.0   \n",
       "3  ЛС-СДСД  66700000557     2.0 -11.163823    1.0      1.0   \n",
       "4  ЛС-СДСД  66700000575    21.0 -11.163823    1.0      1.0   \n",
       "\n",
       "   Permanent_Residence  City  \n",
       "0                    0     0  \n",
       "1                    0     0  \n",
       "2                    1     0  \n",
       "3                    0     0  \n",
       "4                    0     0  "
      ]
     },
     "execution_count": 30,
     "metadata": {},
     "output_type": "execute_result"
    }
   ],
   "source": [
    "supply.drop('Group', axis=1, inplace=True)\n",
    "supply.head()"
   ]
  },
  {
   "cell_type": "markdown",
   "metadata": {},
   "source": [
    "2.6. Из столбца \"Consumer\" удаляем всех потребителей, у которых договор не состоит из одних цифр. \n",
    "Эти договоры не имеют отношение к населению."
   ]
  },
  {
   "cell_type": "code",
   "execution_count": 31,
   "metadata": {},
   "outputs": [
    {
     "data": {
      "text/html": [
       "<div>\n",
       "<style scoped>\n",
       "    .dataframe tbody tr th:only-of-type {\n",
       "        vertical-align: middle;\n",
       "    }\n",
       "\n",
       "    .dataframe tbody tr th {\n",
       "        vertical-align: top;\n",
       "    }\n",
       "\n",
       "    .dataframe thead th {\n",
       "        text-align: right;\n",
       "    }\n",
       "</style>\n",
       "<table border=\"1\" class=\"dataframe\">\n",
       "  <thead>\n",
       "    <tr style=\"text-align: right;\">\n",
       "      <th></th>\n",
       "      <th>Method</th>\n",
       "      <th>Consumer</th>\n",
       "      <th>Supply</th>\n",
       "      <th>T</th>\n",
       "      <th>Rooms</th>\n",
       "      <th>Peoples</th>\n",
       "      <th>Permanent_Residence</th>\n",
       "      <th>City</th>\n",
       "    </tr>\n",
       "  </thead>\n",
       "  <tbody>\n",
       "    <tr>\n",
       "      <td>2265</td>\n",
       "      <td>ЛС-КПП</td>\n",
       "      <td>ОДУ У Беляева 26</td>\n",
       "      <td>0.0</td>\n",
       "      <td>-11.163823</td>\n",
       "      <td>NaN</td>\n",
       "      <td>NaN</td>\n",
       "      <td>1</td>\n",
       "      <td>0</td>\n",
       "    </tr>\n",
       "    <tr>\n",
       "      <td>9654</td>\n",
       "      <td>ЛС-КПБ</td>\n",
       "      <td>МКД ЮГ без УК</td>\n",
       "      <td>0.0</td>\n",
       "      <td>-11.163823</td>\n",
       "      <td>2.0</td>\n",
       "      <td>6.0</td>\n",
       "      <td>0</td>\n",
       "      <td>1</td>\n",
       "    </tr>\n",
       "    <tr>\n",
       "      <td>12484</td>\n",
       "      <td>ЛС-НОРМ</td>\n",
       "      <td>МКД СЕВЕР (не определено)</td>\n",
       "      <td>0.0</td>\n",
       "      <td>-11.163823</td>\n",
       "      <td>8.0</td>\n",
       "      <td>64.0</td>\n",
       "      <td>0</td>\n",
       "      <td>1</td>\n",
       "    </tr>\n",
       "    <tr>\n",
       "      <td>12491</td>\n",
       "      <td>ЛС-НОРМ</td>\n",
       "      <td>МКД СЕВЕР (непосредственное)</td>\n",
       "      <td>0.0</td>\n",
       "      <td>-11.163823</td>\n",
       "      <td>2.0</td>\n",
       "      <td>2.0</td>\n",
       "      <td>0</td>\n",
       "      <td>1</td>\n",
       "    </tr>\n",
       "    <tr>\n",
       "      <td>12496</td>\n",
       "      <td>ЛС-НОРМ</td>\n",
       "      <td>МКД ЮГ без УК</td>\n",
       "      <td>0.0</td>\n",
       "      <td>-11.163823</td>\n",
       "      <td>2.0</td>\n",
       "      <td>6.0</td>\n",
       "      <td>0</td>\n",
       "      <td>1</td>\n",
       "    </tr>\n",
       "    <tr>\n",
       "      <td>...</td>\n",
       "      <td>...</td>\n",
       "      <td>...</td>\n",
       "      <td>...</td>\n",
       "      <td>...</td>\n",
       "      <td>...</td>\n",
       "      <td>...</td>\n",
       "      <td>...</td>\n",
       "      <td>...</td>\n",
       "    </tr>\n",
       "    <tr>\n",
       "      <td>5490340</td>\n",
       "      <td>ЛС-ЭКП</td>\n",
       "      <td>65300004805</td>\n",
       "      <td>1250.0</td>\n",
       "      <td>0.552076</td>\n",
       "      <td>8.0</td>\n",
       "      <td>4.0</td>\n",
       "      <td>1</td>\n",
       "      <td>0</td>\n",
       "    </tr>\n",
       "    <tr>\n",
       "      <td>5505648</td>\n",
       "      <td>ЛС-СДСД</td>\n",
       "      <td>3+ОДПУ</td>\n",
       "      <td>1951.0</td>\n",
       "      <td>0.552076</td>\n",
       "      <td>16.0</td>\n",
       "      <td>16.0</td>\n",
       "      <td>1</td>\n",
       "      <td>1</td>\n",
       "    </tr>\n",
       "    <tr>\n",
       "      <td>5505649</td>\n",
       "      <td>ЛС-СДСД</td>\n",
       "      <td>3836 ОДПУ</td>\n",
       "      <td>293.0</td>\n",
       "      <td>0.552076</td>\n",
       "      <td>0.0</td>\n",
       "      <td>3.0</td>\n",
       "      <td>1</td>\n",
       "      <td>1</td>\n",
       "    </tr>\n",
       "    <tr>\n",
       "      <td>5538945</td>\n",
       "      <td>ЛС-НОРМ</td>\n",
       "      <td>для з/д</td>\n",
       "      <td>145.0</td>\n",
       "      <td>0.552076</td>\n",
       "      <td>12.0</td>\n",
       "      <td>17.0</td>\n",
       "      <td>1</td>\n",
       "      <td>1</td>\n",
       "    </tr>\n",
       "    <tr>\n",
       "      <td>5538946</td>\n",
       "      <td>ЛС-НОРМ</td>\n",
       "      <td>для з/д</td>\n",
       "      <td>145.0</td>\n",
       "      <td>0.552076</td>\n",
       "      <td>21.0</td>\n",
       "      <td>30.0</td>\n",
       "      <td>1</td>\n",
       "      <td>1</td>\n",
       "    </tr>\n",
       "  </tbody>\n",
       "</table>\n",
       "<p>4283 rows × 8 columns</p>\n",
       "</div>"
      ],
      "text/plain": [
       "          Method                      Consumer  Supply          T  Rooms  \\\n",
       "2265      ЛС-КПП              ОДУ У Беляева 26     0.0 -11.163823    NaN   \n",
       "9654      ЛС-КПБ                 МКД ЮГ без УК     0.0 -11.163823    2.0   \n",
       "12484    ЛС-НОРМ     МКД СЕВЕР (не определено)     0.0 -11.163823    8.0   \n",
       "12491    ЛС-НОРМ  МКД СЕВЕР (непосредственное)     0.0 -11.163823    2.0   \n",
       "12496    ЛС-НОРМ                 МКД ЮГ без УК     0.0 -11.163823    2.0   \n",
       "...          ...                           ...     ...        ...    ...   \n",
       "5490340   ЛС-ЭКП                  65300004805   1250.0   0.552076    8.0   \n",
       "5505648  ЛС-СДСД                        3+ОДПУ  1951.0   0.552076   16.0   \n",
       "5505649  ЛС-СДСД                     3836 ОДПУ   293.0   0.552076    0.0   \n",
       "5538945  ЛС-НОРМ                       для з/д   145.0   0.552076   12.0   \n",
       "5538946  ЛС-НОРМ                       для з/д   145.0   0.552076   21.0   \n",
       "\n",
       "         Peoples  Permanent_Residence  City  \n",
       "2265         NaN                    1     0  \n",
       "9654         6.0                    0     1  \n",
       "12484       64.0                    0     1  \n",
       "12491        2.0                    0     1  \n",
       "12496        6.0                    0     1  \n",
       "...          ...                  ...   ...  \n",
       "5490340      4.0                    1     0  \n",
       "5505648     16.0                    1     1  \n",
       "5505649      3.0                    1     1  \n",
       "5538945     17.0                    1     1  \n",
       "5538946     30.0                    1     1  \n",
       "\n",
       "[4283 rows x 8 columns]"
      ]
     },
     "execution_count": 31,
     "metadata": {},
     "output_type": "execute_result"
    }
   ],
   "source": [
    "supply[supply['Consumer'].str.contains('\\D+',flags=re.IGNORECASE, regex=True)]"
   ]
  },
  {
   "cell_type": "code",
   "execution_count": 32,
   "metadata": {},
   "outputs": [],
   "source": [
    "supply = supply[~supply['Consumer'].str.contains('\\D+',flags=re.IGNORECASE, regex=True)]"
   ]
  },
  {
   "cell_type": "markdown",
   "metadata": {},
   "source": [
    "2.7. Проверяем на пустые значения и заполняем данными"
   ]
  },
  {
   "cell_type": "code",
   "execution_count": 33,
   "metadata": {},
   "outputs": [
    {
     "data": {
      "text/plain": [
       "Method                      0\n",
       "Consumer                    0\n",
       "Supply                      0\n",
       "T                           0\n",
       "Rooms                  196913\n",
       "Peoples                189959\n",
       "Permanent_Residence         0\n",
       "City                        0\n",
       "dtype: int64"
      ]
     },
     "execution_count": 33,
     "metadata": {},
     "output_type": "execute_result"
    }
   ],
   "source": [
    "supply.isnull().sum()"
   ]
  },
  {
   "cell_type": "code",
   "execution_count": 34,
   "metadata": {},
   "outputs": [
    {
     "data": {
      "text/html": [
       "<div>\n",
       "<style scoped>\n",
       "    .dataframe tbody tr th:only-of-type {\n",
       "        vertical-align: middle;\n",
       "    }\n",
       "\n",
       "    .dataframe tbody tr th {\n",
       "        vertical-align: top;\n",
       "    }\n",
       "\n",
       "    .dataframe thead th {\n",
       "        text-align: right;\n",
       "    }\n",
       "</style>\n",
       "<table border=\"1\" class=\"dataframe\">\n",
       "  <thead>\n",
       "    <tr style=\"text-align: right;\">\n",
       "      <th></th>\n",
       "      <th>Supply</th>\n",
       "      <th>T</th>\n",
       "      <th>Rooms</th>\n",
       "      <th>Peoples</th>\n",
       "      <th>Permanent_Residence</th>\n",
       "      <th>City</th>\n",
       "    </tr>\n",
       "  </thead>\n",
       "  <tbody>\n",
       "    <tr>\n",
       "      <td>count</td>\n",
       "      <td>5.488514e+06</td>\n",
       "      <td>5.488514e+06</td>\n",
       "      <td>5.291601e+06</td>\n",
       "      <td>5.298555e+06</td>\n",
       "      <td>5.488514e+06</td>\n",
       "      <td>5.488514e+06</td>\n",
       "    </tr>\n",
       "    <tr>\n",
       "      <td>mean</td>\n",
       "      <td>2.385357e+02</td>\n",
       "      <td>2.329012e+00</td>\n",
       "      <td>1.575308e+00</td>\n",
       "      <td>2.123745e+00</td>\n",
       "      <td>8.560282e-01</td>\n",
       "      <td>2.752709e-01</td>\n",
       "    </tr>\n",
       "    <tr>\n",
       "      <td>std</td>\n",
       "      <td>8.715885e+02</td>\n",
       "      <td>9.297460e+00</td>\n",
       "      <td>1.170219e+00</td>\n",
       "      <td>1.659896e+00</td>\n",
       "      <td>3.510611e-01</td>\n",
       "      <td>4.466507e-01</td>\n",
       "    </tr>\n",
       "    <tr>\n",
       "      <td>min</td>\n",
       "      <td>-4.572060e+05</td>\n",
       "      <td>-1.116382e+01</td>\n",
       "      <td>0.000000e+00</td>\n",
       "      <td>0.000000e+00</td>\n",
       "      <td>0.000000e+00</td>\n",
       "      <td>0.000000e+00</td>\n",
       "    </tr>\n",
       "    <tr>\n",
       "      <td>25%</td>\n",
       "      <td>4.300000e+01</td>\n",
       "      <td>-6.255830e+00</td>\n",
       "      <td>1.000000e+00</td>\n",
       "      <td>1.000000e+00</td>\n",
       "      <td>1.000000e+00</td>\n",
       "      <td>0.000000e+00</td>\n",
       "    </tr>\n",
       "    <tr>\n",
       "      <td>50%</td>\n",
       "      <td>1.420000e+02</td>\n",
       "      <td>5.520762e-01</td>\n",
       "      <td>1.000000e+00</td>\n",
       "      <td>1.000000e+00</td>\n",
       "      <td>1.000000e+00</td>\n",
       "      <td>0.000000e+00</td>\n",
       "    </tr>\n",
       "    <tr>\n",
       "      <td>75%</td>\n",
       "      <td>2.500000e+02</td>\n",
       "      <td>1.340122e+01</td>\n",
       "      <td>2.000000e+00</td>\n",
       "      <td>3.000000e+00</td>\n",
       "      <td>1.000000e+00</td>\n",
       "      <td>1.000000e+00</td>\n",
       "    </tr>\n",
       "    <tr>\n",
       "      <td>max</td>\n",
       "      <td>3.280420e+05</td>\n",
       "      <td>1.713523e+01</td>\n",
       "      <td>5.100000e+01</td>\n",
       "      <td>7.700000e+01</td>\n",
       "      <td>1.000000e+00</td>\n",
       "      <td>1.000000e+00</td>\n",
       "    </tr>\n",
       "  </tbody>\n",
       "</table>\n",
       "</div>"
      ],
      "text/plain": [
       "             Supply             T         Rooms       Peoples  \\\n",
       "count  5.488514e+06  5.488514e+06  5.291601e+06  5.298555e+06   \n",
       "mean   2.385357e+02  2.329012e+00  1.575308e+00  2.123745e+00   \n",
       "std    8.715885e+02  9.297460e+00  1.170219e+00  1.659896e+00   \n",
       "min   -4.572060e+05 -1.116382e+01  0.000000e+00  0.000000e+00   \n",
       "25%    4.300000e+01 -6.255830e+00  1.000000e+00  1.000000e+00   \n",
       "50%    1.420000e+02  5.520762e-01  1.000000e+00  1.000000e+00   \n",
       "75%    2.500000e+02  1.340122e+01  2.000000e+00  3.000000e+00   \n",
       "max    3.280420e+05  1.713523e+01  5.100000e+01  7.700000e+01   \n",
       "\n",
       "       Permanent_Residence          City  \n",
       "count         5.488514e+06  5.488514e+06  \n",
       "mean          8.560282e-01  2.752709e-01  \n",
       "std           3.510611e-01  4.466507e-01  \n",
       "min           0.000000e+00  0.000000e+00  \n",
       "25%           1.000000e+00  0.000000e+00  \n",
       "50%           1.000000e+00  0.000000e+00  \n",
       "75%           1.000000e+00  1.000000e+00  \n",
       "max           1.000000e+00  1.000000e+00  "
      ]
     },
     "execution_count": 34,
     "metadata": {},
     "output_type": "execute_result"
    }
   ],
   "source": [
    "supply.describe()"
   ]
  },
  {
   "cell_type": "markdown",
   "metadata": {},
   "source": [
    "Для поля \"Rooms\" ставим среднее округленное значение 2.0, для поля \"Peoples\" значение 2.0"
   ]
  },
  {
   "cell_type": "code",
   "execution_count": 35,
   "metadata": {},
   "outputs": [
    {
     "data": {
      "text/html": [
       "<div>\n",
       "<style scoped>\n",
       "    .dataframe tbody tr th:only-of-type {\n",
       "        vertical-align: middle;\n",
       "    }\n",
       "\n",
       "    .dataframe tbody tr th {\n",
       "        vertical-align: top;\n",
       "    }\n",
       "\n",
       "    .dataframe thead th {\n",
       "        text-align: right;\n",
       "    }\n",
       "</style>\n",
       "<table border=\"1\" class=\"dataframe\">\n",
       "  <thead>\n",
       "    <tr style=\"text-align: right;\">\n",
       "      <th></th>\n",
       "      <th>Method</th>\n",
       "      <th>Consumer</th>\n",
       "      <th>Supply</th>\n",
       "      <th>T</th>\n",
       "      <th>Rooms</th>\n",
       "      <th>Peoples</th>\n",
       "      <th>Permanent_Residence</th>\n",
       "      <th>City</th>\n",
       "    </tr>\n",
       "  </thead>\n",
       "  <tbody>\n",
       "    <tr>\n",
       "      <td>0</td>\n",
       "      <td>ЛС-СДСД</td>\n",
       "      <td>66700000233</td>\n",
       "      <td>0.0</td>\n",
       "      <td>-11.163823</td>\n",
       "      <td>1.0</td>\n",
       "      <td>1.0</td>\n",
       "      <td>0</td>\n",
       "      <td>0</td>\n",
       "    </tr>\n",
       "    <tr>\n",
       "      <td>1</td>\n",
       "      <td>ЛС-СДСД</td>\n",
       "      <td>66700000410</td>\n",
       "      <td>0.0</td>\n",
       "      <td>-11.163823</td>\n",
       "      <td>1.0</td>\n",
       "      <td>1.0</td>\n",
       "      <td>0</td>\n",
       "      <td>0</td>\n",
       "    </tr>\n",
       "    <tr>\n",
       "      <td>2</td>\n",
       "      <td>ЛС-СДСД</td>\n",
       "      <td>66700000431</td>\n",
       "      <td>2.0</td>\n",
       "      <td>-11.163823</td>\n",
       "      <td>1.0</td>\n",
       "      <td>1.0</td>\n",
       "      <td>1</td>\n",
       "      <td>0</td>\n",
       "    </tr>\n",
       "    <tr>\n",
       "      <td>3</td>\n",
       "      <td>ЛС-СДСД</td>\n",
       "      <td>66700000557</td>\n",
       "      <td>2.0</td>\n",
       "      <td>-11.163823</td>\n",
       "      <td>1.0</td>\n",
       "      <td>1.0</td>\n",
       "      <td>0</td>\n",
       "      <td>0</td>\n",
       "    </tr>\n",
       "    <tr>\n",
       "      <td>4</td>\n",
       "      <td>ЛС-СДСД</td>\n",
       "      <td>66700000575</td>\n",
       "      <td>21.0</td>\n",
       "      <td>-11.163823</td>\n",
       "      <td>1.0</td>\n",
       "      <td>1.0</td>\n",
       "      <td>0</td>\n",
       "      <td>0</td>\n",
       "    </tr>\n",
       "  </tbody>\n",
       "</table>\n",
       "</div>"
      ],
      "text/plain": [
       "    Method     Consumer  Supply          T  Rooms  Peoples  \\\n",
       "0  ЛС-СДСД  66700000233     0.0 -11.163823    1.0      1.0   \n",
       "1  ЛС-СДСД  66700000410     0.0 -11.163823    1.0      1.0   \n",
       "2  ЛС-СДСД  66700000431     2.0 -11.163823    1.0      1.0   \n",
       "3  ЛС-СДСД  66700000557     2.0 -11.163823    1.0      1.0   \n",
       "4  ЛС-СДСД  66700000575    21.0 -11.163823    1.0      1.0   \n",
       "\n",
       "   Permanent_Residence  City  \n",
       "0                    0     0  \n",
       "1                    0     0  \n",
       "2                    1     0  \n",
       "3                    0     0  \n",
       "4                    0     0  "
      ]
     },
     "execution_count": 35,
     "metadata": {},
     "output_type": "execute_result"
    }
   ],
   "source": [
    "supply.fillna(value={'Rooms': 2, 'Peoples': 2}, inplace=True)\n",
    "supply.head()"
   ]
  },
  {
   "cell_type": "code",
   "execution_count": 36,
   "metadata": {},
   "outputs": [
    {
     "data": {
      "text/plain": [
       "Method                 0\n",
       "Consumer               0\n",
       "Supply                 0\n",
       "T                      0\n",
       "Rooms                  0\n",
       "Peoples                0\n",
       "Permanent_Residence    0\n",
       "City                   0\n",
       "dtype: int64"
      ]
     },
     "execution_count": 36,
     "metadata": {},
     "output_type": "execute_result"
    }
   ],
   "source": [
    "supply.isnull().sum()"
   ]
  },
  {
   "cell_type": "markdown",
   "metadata": {},
   "source": [
    "Теперь создаем копию датасета под именем ds_work, с ним работаем дальше. А в датасете supply остается полная копия данных, к которым можно вернуться, если надо будет изменять модель и добавлять новые признаки."
   ]
  },
  {
   "cell_type": "code",
   "execution_count": 37,
   "metadata": {},
   "outputs": [
    {
     "data": {
      "text/html": [
       "<div>\n",
       "<style scoped>\n",
       "    .dataframe tbody tr th:only-of-type {\n",
       "        vertical-align: middle;\n",
       "    }\n",
       "\n",
       "    .dataframe tbody tr th {\n",
       "        vertical-align: top;\n",
       "    }\n",
       "\n",
       "    .dataframe thead th {\n",
       "        text-align: right;\n",
       "    }\n",
       "</style>\n",
       "<table border=\"1\" class=\"dataframe\">\n",
       "  <thead>\n",
       "    <tr style=\"text-align: right;\">\n",
       "      <th></th>\n",
       "      <th>Method</th>\n",
       "      <th>Consumer</th>\n",
       "      <th>Supply</th>\n",
       "      <th>T</th>\n",
       "      <th>Rooms</th>\n",
       "      <th>Peoples</th>\n",
       "      <th>Permanent_Residence</th>\n",
       "      <th>City</th>\n",
       "    </tr>\n",
       "  </thead>\n",
       "  <tbody>\n",
       "    <tr>\n",
       "      <td>0</td>\n",
       "      <td>ЛС-СДСД</td>\n",
       "      <td>66700000233</td>\n",
       "      <td>0.0</td>\n",
       "      <td>-11.163823</td>\n",
       "      <td>1.0</td>\n",
       "      <td>1.0</td>\n",
       "      <td>0</td>\n",
       "      <td>0</td>\n",
       "    </tr>\n",
       "    <tr>\n",
       "      <td>1</td>\n",
       "      <td>ЛС-СДСД</td>\n",
       "      <td>66700000410</td>\n",
       "      <td>0.0</td>\n",
       "      <td>-11.163823</td>\n",
       "      <td>1.0</td>\n",
       "      <td>1.0</td>\n",
       "      <td>0</td>\n",
       "      <td>0</td>\n",
       "    </tr>\n",
       "    <tr>\n",
       "      <td>2</td>\n",
       "      <td>ЛС-СДСД</td>\n",
       "      <td>66700000431</td>\n",
       "      <td>2.0</td>\n",
       "      <td>-11.163823</td>\n",
       "      <td>1.0</td>\n",
       "      <td>1.0</td>\n",
       "      <td>1</td>\n",
       "      <td>0</td>\n",
       "    </tr>\n",
       "    <tr>\n",
       "      <td>3</td>\n",
       "      <td>ЛС-СДСД</td>\n",
       "      <td>66700000557</td>\n",
       "      <td>2.0</td>\n",
       "      <td>-11.163823</td>\n",
       "      <td>1.0</td>\n",
       "      <td>1.0</td>\n",
       "      <td>0</td>\n",
       "      <td>0</td>\n",
       "    </tr>\n",
       "    <tr>\n",
       "      <td>4</td>\n",
       "      <td>ЛС-СДСД</td>\n",
       "      <td>66700000575</td>\n",
       "      <td>21.0</td>\n",
       "      <td>-11.163823</td>\n",
       "      <td>1.0</td>\n",
       "      <td>1.0</td>\n",
       "      <td>0</td>\n",
       "      <td>0</td>\n",
       "    </tr>\n",
       "  </tbody>\n",
       "</table>\n",
       "</div>"
      ],
      "text/plain": [
       "    Method     Consumer  Supply          T  Rooms  Peoples  \\\n",
       "0  ЛС-СДСД  66700000233     0.0 -11.163823    1.0      1.0   \n",
       "1  ЛС-СДСД  66700000410     0.0 -11.163823    1.0      1.0   \n",
       "2  ЛС-СДСД  66700000431     2.0 -11.163823    1.0      1.0   \n",
       "3  ЛС-СДСД  66700000557     2.0 -11.163823    1.0      1.0   \n",
       "4  ЛС-СДСД  66700000575    21.0 -11.163823    1.0      1.0   \n",
       "\n",
       "   Permanent_Residence  City  \n",
       "0                    0     0  \n",
       "1                    0     0  \n",
       "2                    1     0  \n",
       "3                    0     0  \n",
       "4                    0     0  "
      ]
     },
     "execution_count": 37,
     "metadata": {},
     "output_type": "execute_result"
    }
   ],
   "source": [
    "ds_work = supply.copy()\n",
    "ds_work.head()"
   ]
  },
  {
   "cell_type": "markdown",
   "metadata": {},
   "source": [
    "Удаляем из датасета ds_work столбец Method, т.к. этот столбец будет нужен для более тонкой настройки модели. Если прямой подход \"в лоб\" не сработает."
   ]
  },
  {
   "cell_type": "code",
   "execution_count": 38,
   "metadata": {},
   "outputs": [
    {
     "data": {
      "text/html": [
       "<div>\n",
       "<style scoped>\n",
       "    .dataframe tbody tr th:only-of-type {\n",
       "        vertical-align: middle;\n",
       "    }\n",
       "\n",
       "    .dataframe tbody tr th {\n",
       "        vertical-align: top;\n",
       "    }\n",
       "\n",
       "    .dataframe thead th {\n",
       "        text-align: right;\n",
       "    }\n",
       "</style>\n",
       "<table border=\"1\" class=\"dataframe\">\n",
       "  <thead>\n",
       "    <tr style=\"text-align: right;\">\n",
       "      <th></th>\n",
       "      <th>Consumer</th>\n",
       "      <th>Supply</th>\n",
       "      <th>T</th>\n",
       "      <th>Rooms</th>\n",
       "      <th>Peoples</th>\n",
       "      <th>Permanent_Residence</th>\n",
       "      <th>City</th>\n",
       "    </tr>\n",
       "  </thead>\n",
       "  <tbody>\n",
       "    <tr>\n",
       "      <td>0</td>\n",
       "      <td>66700000233</td>\n",
       "      <td>0.0</td>\n",
       "      <td>-11.163823</td>\n",
       "      <td>1.0</td>\n",
       "      <td>1.0</td>\n",
       "      <td>0</td>\n",
       "      <td>0</td>\n",
       "    </tr>\n",
       "    <tr>\n",
       "      <td>1</td>\n",
       "      <td>66700000410</td>\n",
       "      <td>0.0</td>\n",
       "      <td>-11.163823</td>\n",
       "      <td>1.0</td>\n",
       "      <td>1.0</td>\n",
       "      <td>0</td>\n",
       "      <td>0</td>\n",
       "    </tr>\n",
       "    <tr>\n",
       "      <td>2</td>\n",
       "      <td>66700000431</td>\n",
       "      <td>2.0</td>\n",
       "      <td>-11.163823</td>\n",
       "      <td>1.0</td>\n",
       "      <td>1.0</td>\n",
       "      <td>1</td>\n",
       "      <td>0</td>\n",
       "    </tr>\n",
       "    <tr>\n",
       "      <td>3</td>\n",
       "      <td>66700000557</td>\n",
       "      <td>2.0</td>\n",
       "      <td>-11.163823</td>\n",
       "      <td>1.0</td>\n",
       "      <td>1.0</td>\n",
       "      <td>0</td>\n",
       "      <td>0</td>\n",
       "    </tr>\n",
       "    <tr>\n",
       "      <td>4</td>\n",
       "      <td>66700000575</td>\n",
       "      <td>21.0</td>\n",
       "      <td>-11.163823</td>\n",
       "      <td>1.0</td>\n",
       "      <td>1.0</td>\n",
       "      <td>0</td>\n",
       "      <td>0</td>\n",
       "    </tr>\n",
       "  </tbody>\n",
       "</table>\n",
       "</div>"
      ],
      "text/plain": [
       "      Consumer  Supply          T  Rooms  Peoples  Permanent_Residence  City\n",
       "0  66700000233     0.0 -11.163823    1.0      1.0                    0     0\n",
       "1  66700000410     0.0 -11.163823    1.0      1.0                    0     0\n",
       "2  66700000431     2.0 -11.163823    1.0      1.0                    1     0\n",
       "3  66700000557     2.0 -11.163823    1.0      1.0                    0     0\n",
       "4  66700000575    21.0 -11.163823    1.0      1.0                    0     0"
      ]
     },
     "execution_count": 38,
     "metadata": {},
     "output_type": "execute_result"
    }
   ],
   "source": [
    "ds_work.drop('Method', axis=1, inplace=True)\n",
    "ds_work.head()"
   ]
  },
  {
   "cell_type": "code",
   "execution_count": 39,
   "metadata": {},
   "outputs": [
    {
     "data": {
      "text/html": [
       "<div>\n",
       "<style scoped>\n",
       "    .dataframe tbody tr th:only-of-type {\n",
       "        vertical-align: middle;\n",
       "    }\n",
       "\n",
       "    .dataframe tbody tr th {\n",
       "        vertical-align: top;\n",
       "    }\n",
       "\n",
       "    .dataframe thead th {\n",
       "        text-align: right;\n",
       "    }\n",
       "</style>\n",
       "<table border=\"1\" class=\"dataframe\">\n",
       "  <thead>\n",
       "    <tr style=\"text-align: right;\">\n",
       "      <th></th>\n",
       "      <th>Supply</th>\n",
       "      <th>T</th>\n",
       "      <th>Rooms</th>\n",
       "      <th>Peoples</th>\n",
       "      <th>Permanent_Residence</th>\n",
       "      <th>City</th>\n",
       "    </tr>\n",
       "  </thead>\n",
       "  <tbody>\n",
       "    <tr>\n",
       "      <td>0</td>\n",
       "      <td>0.0</td>\n",
       "      <td>-11.163823</td>\n",
       "      <td>1.0</td>\n",
       "      <td>1.0</td>\n",
       "      <td>0</td>\n",
       "      <td>0</td>\n",
       "    </tr>\n",
       "    <tr>\n",
       "      <td>1</td>\n",
       "      <td>0.0</td>\n",
       "      <td>-11.163823</td>\n",
       "      <td>1.0</td>\n",
       "      <td>1.0</td>\n",
       "      <td>0</td>\n",
       "      <td>0</td>\n",
       "    </tr>\n",
       "    <tr>\n",
       "      <td>2</td>\n",
       "      <td>2.0</td>\n",
       "      <td>-11.163823</td>\n",
       "      <td>1.0</td>\n",
       "      <td>1.0</td>\n",
       "      <td>1</td>\n",
       "      <td>0</td>\n",
       "    </tr>\n",
       "    <tr>\n",
       "      <td>3</td>\n",
       "      <td>2.0</td>\n",
       "      <td>-11.163823</td>\n",
       "      <td>1.0</td>\n",
       "      <td>1.0</td>\n",
       "      <td>0</td>\n",
       "      <td>0</td>\n",
       "    </tr>\n",
       "    <tr>\n",
       "      <td>4</td>\n",
       "      <td>21.0</td>\n",
       "      <td>-11.163823</td>\n",
       "      <td>1.0</td>\n",
       "      <td>1.0</td>\n",
       "      <td>0</td>\n",
       "      <td>0</td>\n",
       "    </tr>\n",
       "  </tbody>\n",
       "</table>\n",
       "</div>"
      ],
      "text/plain": [
       "   Supply          T  Rooms  Peoples  Permanent_Residence  City\n",
       "0     0.0 -11.163823    1.0      1.0                    0     0\n",
       "1     0.0 -11.163823    1.0      1.0                    0     0\n",
       "2     2.0 -11.163823    1.0      1.0                    1     0\n",
       "3     2.0 -11.163823    1.0      1.0                    0     0\n",
       "4    21.0 -11.163823    1.0      1.0                    0     0"
      ]
     },
     "execution_count": 39,
     "metadata": {},
     "output_type": "execute_result"
    }
   ],
   "source": [
    "ds_work.drop('Consumer', axis=1, inplace=True)\n",
    "ds_work.head()"
   ]
  },
  {
   "cell_type": "code",
   "execution_count": 40,
   "metadata": {},
   "outputs": [
    {
     "name": "stdout",
     "output_type": "stream",
     "text": [
      "<class 'pandas.core.frame.DataFrame'>\n",
      "Int64Index: 5488514 entries, 0 to 5547178\n",
      "Data columns (total 6 columns):\n",
      "Supply                 float64\n",
      "T                      float64\n",
      "Rooms                  float64\n",
      "Peoples                float64\n",
      "Permanent_Residence    int64\n",
      "City                   int64\n",
      "dtypes: float64(4), int64(2)\n",
      "memory usage: 293.1 MB\n"
     ]
    }
   ],
   "source": [
    "ds_work.info()"
   ]
  },
  {
   "cell_type": "markdown",
   "metadata": {},
   "source": [
    "### Этап 3. Применение модели Линейной регрессии"
   ]
  },
  {
   "cell_type": "code",
   "execution_count": 41,
   "metadata": {},
   "outputs": [],
   "source": [
    "X_train, X_test, y_train, y_test = train_test_split(ds_work[['T', 'Rooms', 'Peoples', 'Permanent_Residence','City']], ds_work['Supply'], test_size=0.3)"
   ]
  },
  {
   "cell_type": "code",
   "execution_count": 42,
   "metadata": {},
   "outputs": [],
   "source": [
    "model = LinearRegression()"
   ]
  },
  {
   "cell_type": "code",
   "execution_count": 43,
   "metadata": {},
   "outputs": [
    {
     "data": {
      "text/plain": [
       "LinearRegression(copy_X=True, fit_intercept=True, n_jobs=None, normalize=False)"
      ]
     },
     "execution_count": 43,
     "metadata": {},
     "output_type": "execute_result"
    }
   ],
   "source": [
    "model.fit(X_train, y_train)"
   ]
  },
  {
   "cell_type": "markdown",
   "metadata": {},
   "source": [
    "Оценим качество модели"
   ]
  },
  {
   "cell_type": "code",
   "execution_count": 44,
   "metadata": {},
   "outputs": [
    {
     "name": "stdout",
     "output_type": "stream",
     "text": [
      "Качество модели на тестовых данных: 0.0036432807151408615 \n",
      "Качество модели на тренировочных данных: 0.0038101453158912997\n"
     ]
    }
   ],
   "source": [
    "r_train = model.score(X_train, y_train)\n",
    "r_test = model.score(X_test, y_test)\n",
    "print('Качество модели на тестовых данных:', r_test, '\\nКачество модели на тренировочных данных:', r_train)"
   ]
  },
  {
   "cell_type": "code",
   "execution_count": 45,
   "metadata": {},
   "outputs": [
    {
     "name": "stdout",
     "output_type": "stream",
     "text": [
      "Mean Absolute Error (MAE): 247.03978486537565\n",
      "Mean Squared Error (MSE): 807800.8585669927\n",
      "Root Mean Squared Error (RMSE): 898.7774243754639\n",
      "Mean Absolute Percentage Error (MAPE): inf\n",
      "Model score: 0.0036432807151408615\n",
      "R2 score: 0.003643280715140862\n"
     ]
    }
   ],
   "source": [
    "model_pred = model.predict(X_test)\n",
    "print('Mean Absolute Error (MAE):', mean_absolute_error(y_test, model_pred))\n",
    "print('Mean Squared Error (MSE):', mean_squared_error(y_test, model_pred))\n",
    "print('Root Mean Squared Error (RMSE):', np.sqrt(mean_squared_error(y_test, model_pred)))\n",
    "mape = np.mean(np.abs((y_test - model_pred) / np.abs(y_test)))\n",
    "print('Mean Absolute Percentage Error (MAPE):', round(mape * 100, 2))\n",
    "print('Model score:', model.score(X_test, y_test))\n",
    "print('R2 score:', r2_score(y_test, model_pred))"
   ]
  },
  {
   "cell_type": "code",
   "execution_count": 71,
   "metadata": {},
   "outputs": [
    {
     "name": "stdout",
     "output_type": "stream",
     "text": [
      "Прогноз потребления населением на тестовом наборе данных:  393400936.0 кВт*ч\n",
      "Фактическое потребления населением на тестовом наборе данных:  391583588.0 кВт*ч\n",
      "Разница между фактом и прогнозом, абсолют: -1817348.0 кВт*ч  процент: 0.462 %\n"
     ]
    }
   ],
   "source": [
    "sum_pred = sum(model_pred)\n",
    "sum_fact = sum(y_test)\n",
    "print('Прогноз потребления населением на тестовом наборе данных: ',round(sum_pred,0),'кВт*ч')\n",
    "print('Фактическое потребления населением на тестовом наборе данных: ',round(sum_fact,0),'кВт*ч')\n",
    "print('Разница между фактом и прогнозом, абсолют:',round(sum_fact - sum_pred,0),'кВт*ч', \n",
    "      ' процент:', round(100*np.abs((sum_fact - sum_pred))/sum_pred,4),'%')"
   ]
  },
  {
   "cell_type": "markdown",
   "metadata": {},
   "source": [
    "### Абсолютно неудовлетворительное качество модели"
   ]
  },
  {
   "cell_type": "markdown",
   "metadata": {},
   "source": [
    "### Этап 4. Анализ данных, выбросы"
   ]
  },
  {
   "cell_type": "code",
   "execution_count": 72,
   "metadata": {},
   "outputs": [
    {
     "data": {
      "text/html": [
       "<div>\n",
       "<style scoped>\n",
       "    .dataframe tbody tr th:only-of-type {\n",
       "        vertical-align: middle;\n",
       "    }\n",
       "\n",
       "    .dataframe tbody tr th {\n",
       "        vertical-align: top;\n",
       "    }\n",
       "\n",
       "    .dataframe thead th {\n",
       "        text-align: right;\n",
       "    }\n",
       "</style>\n",
       "<table border=\"1\" class=\"dataframe\">\n",
       "  <thead>\n",
       "    <tr style=\"text-align: right;\">\n",
       "      <th></th>\n",
       "      <th>Supply</th>\n",
       "      <th>T</th>\n",
       "      <th>Rooms</th>\n",
       "      <th>Peoples</th>\n",
       "      <th>Permanent_Residence</th>\n",
       "      <th>City</th>\n",
       "    </tr>\n",
       "  </thead>\n",
       "  <tbody>\n",
       "    <tr>\n",
       "      <td>count</td>\n",
       "      <td>5.488514e+06</td>\n",
       "      <td>5.488514e+06</td>\n",
       "      <td>5.488514e+06</td>\n",
       "      <td>5.488514e+06</td>\n",
       "      <td>5.488514e+06</td>\n",
       "      <td>5.488514e+06</td>\n",
       "    </tr>\n",
       "    <tr>\n",
       "      <td>mean</td>\n",
       "      <td>2.385357e+02</td>\n",
       "      <td>2.329012e+00</td>\n",
       "      <td>1.590545e+00</td>\n",
       "      <td>2.119463e+00</td>\n",
       "      <td>8.560282e-01</td>\n",
       "      <td>2.752709e-01</td>\n",
       "    </tr>\n",
       "    <tr>\n",
       "      <td>std</td>\n",
       "      <td>8.715885e+02</td>\n",
       "      <td>9.297460e+00</td>\n",
       "      <td>1.151747e+00</td>\n",
       "      <td>1.631075e+00</td>\n",
       "      <td>3.510611e-01</td>\n",
       "      <td>4.466507e-01</td>\n",
       "    </tr>\n",
       "    <tr>\n",
       "      <td>min</td>\n",
       "      <td>-4.572060e+05</td>\n",
       "      <td>-1.116382e+01</td>\n",
       "      <td>0.000000e+00</td>\n",
       "      <td>0.000000e+00</td>\n",
       "      <td>0.000000e+00</td>\n",
       "      <td>0.000000e+00</td>\n",
       "    </tr>\n",
       "    <tr>\n",
       "      <td>25%</td>\n",
       "      <td>4.300000e+01</td>\n",
       "      <td>-6.255830e+00</td>\n",
       "      <td>1.000000e+00</td>\n",
       "      <td>1.000000e+00</td>\n",
       "      <td>1.000000e+00</td>\n",
       "      <td>0.000000e+00</td>\n",
       "    </tr>\n",
       "    <tr>\n",
       "      <td>50%</td>\n",
       "      <td>1.420000e+02</td>\n",
       "      <td>5.520762e-01</td>\n",
       "      <td>1.000000e+00</td>\n",
       "      <td>1.000000e+00</td>\n",
       "      <td>1.000000e+00</td>\n",
       "      <td>0.000000e+00</td>\n",
       "    </tr>\n",
       "    <tr>\n",
       "      <td>75%</td>\n",
       "      <td>2.500000e+02</td>\n",
       "      <td>1.340122e+01</td>\n",
       "      <td>2.000000e+00</td>\n",
       "      <td>3.000000e+00</td>\n",
       "      <td>1.000000e+00</td>\n",
       "      <td>1.000000e+00</td>\n",
       "    </tr>\n",
       "    <tr>\n",
       "      <td>max</td>\n",
       "      <td>3.280420e+05</td>\n",
       "      <td>1.713523e+01</td>\n",
       "      <td>5.100000e+01</td>\n",
       "      <td>7.700000e+01</td>\n",
       "      <td>1.000000e+00</td>\n",
       "      <td>1.000000e+00</td>\n",
       "    </tr>\n",
       "  </tbody>\n",
       "</table>\n",
       "</div>"
      ],
      "text/plain": [
       "             Supply             T         Rooms       Peoples  \\\n",
       "count  5.488514e+06  5.488514e+06  5.488514e+06  5.488514e+06   \n",
       "mean   2.385357e+02  2.329012e+00  1.590545e+00  2.119463e+00   \n",
       "std    8.715885e+02  9.297460e+00  1.151747e+00  1.631075e+00   \n",
       "min   -4.572060e+05 -1.116382e+01  0.000000e+00  0.000000e+00   \n",
       "25%    4.300000e+01 -6.255830e+00  1.000000e+00  1.000000e+00   \n",
       "50%    1.420000e+02  5.520762e-01  1.000000e+00  1.000000e+00   \n",
       "75%    2.500000e+02  1.340122e+01  2.000000e+00  3.000000e+00   \n",
       "max    3.280420e+05  1.713523e+01  5.100000e+01  7.700000e+01   \n",
       "\n",
       "       Permanent_Residence          City  \n",
       "count         5.488514e+06  5.488514e+06  \n",
       "mean          8.560282e-01  2.752709e-01  \n",
       "std           3.510611e-01  4.466507e-01  \n",
       "min           0.000000e+00  0.000000e+00  \n",
       "25%           1.000000e+00  0.000000e+00  \n",
       "50%           1.000000e+00  0.000000e+00  \n",
       "75%           1.000000e+00  1.000000e+00  \n",
       "max           1.000000e+00  1.000000e+00  "
      ]
     },
     "execution_count": 72,
     "metadata": {},
     "output_type": "execute_result"
    }
   ],
   "source": [
    "ds_work.describe()"
   ]
  },
  {
   "cell_type": "markdown",
   "metadata": {},
   "source": [
    "4.1. Устранение выбросов\n",
    "\n",
    "Для устранения выбросов интересны:\n",
    "- признак Supply(полезный отпуск электроэнергии): следует убрать отрицательные значения (они говорят о корректировке ранее неправильно введенных данных), нулевые значения (в этот период или показания не снимались у потребителя, или расчет полезного отпуска был проведен по нулевым данным), значения свыше 5 тыс.(это может говорить либо о сильном электропотреблении зимой у коттеджей, либо о расчете полезного отпуска не за 1 месяц, а, например, за год)\n",
    "- признак Peoples(люди): максимум в 77 человек говорит о том, что возможно попало немного данных не по физическим лицам, а по многоквартирным домам, их надо убрать;\n",
    "- признак R(комнаты): максимум в 51 комнату говорит о том, что возможно попало немного данных не по физическим лицам, а по многоквартирным домам, их надо убрать;\n",
    "- признаки T(температура), , Permanent_Residence(постоянное проживание) и City(город) не имеют выбросов."
   ]
  },
  {
   "cell_type": "code",
   "execution_count": 73,
   "metadata": {},
   "outputs": [
    {
     "data": {
      "image/png": "[encoded data removed]",
      "text/plain": [
       "<Figure size 432x288 with 1 Axes>"
      ]
     },
     "metadata": {
      "needs_background": "light"
     },
     "output_type": "display_data"
    },
    {
     "data": {
      "image/png": "[encoded data removed]",
      "text/plain": [
       "<Figure size 432x288 with 1 Axes>"
      ]
     },
     "metadata": {
      "needs_background": "light"
     },
     "output_type": "display_data"
    },
    {
     "data": {
      "image/png": "[encoded data removed]",
      "text/plain": [
       "<Figure size 432x288 with 1 Axes>"
      ]
     },
     "metadata": {
      "needs_background": "light"
     },
     "output_type": "display_data"
    }
   ],
   "source": [
    "sns.boxplot(y=\"Supply\", data=ds_work)\n",
    "plt.show()\n",
    "sns.boxplot(y=\"Peoples\", data=ds_work)\n",
    "plt.show()\n",
    "sns.boxplot(y=\"Rooms\", data=ds_work)\n",
    "plt.show()"
   ]
  },
  {
   "cell_type": "code",
   "execution_count": 74,
   "metadata": {},
   "outputs": [
    {
     "name": "stdout",
     "output_type": "stream",
     "text": [
      "774305 542570 20757\n"
     ]
    }
   ],
   "source": [
    "print(len(ds_work[ds_work['Supply'] <1]), len(ds_work[ds_work['Supply'] == 0]), len(ds_work[ds_work['Supply'] > 4000]))"
   ]
  },
  {
   "cell_type": "code",
   "execution_count": 75,
   "metadata": {},
   "outputs": [],
   "source": [
    "ds_work = ds_work[ds_work['Supply'] >=1]\n",
    "ds_work = ds_work[ds_work['Supply'] <4000]"
   ]
  },
  {
   "cell_type": "code",
   "execution_count": 76,
   "metadata": {},
   "outputs": [],
   "source": [
    "ds_work = ds_work[ds_work['Peoples'] <10]\n",
    "ds_work = ds_work[ds_work['Rooms'] <10]"
   ]
  },
  {
   "cell_type": "code",
   "execution_count": 77,
   "metadata": {},
   "outputs": [
    {
     "data": {
      "image/png": "[encoded data removed]",
      "text/plain": [
       "<Figure size 432x288 with 1 Axes>"
      ]
     },
     "metadata": {
      "needs_background": "light"
     },
     "output_type": "display_data"
    },
    {
     "data": {
      "image/png": "[encoded data removed]",
      "text/plain": [
       "<Figure size 432x288 with 1 Axes>"
      ]
     },
     "metadata": {
      "needs_background": "light"
     },
     "output_type": "display_data"
    },
    {
     "data": {
      "image/png": "[encoded data removed]",
      "text/plain": [
       "<Figure size 432x288 with 1 Axes>"
      ]
     },
     "metadata": {
      "needs_background": "light"
     },
     "output_type": "display_data"
    }
   ],
   "source": [
    "#plt.figure(figsize=(6,6))\n",
    "sns.boxplot(y=\"Supply\", data=ds_work)\n",
    "plt.show()\n",
    "sns.boxplot(y=\"Peoples\", data=ds_work)\n",
    "plt.show()\n",
    "sns.boxplot(y=\"Rooms\", data=ds_work)\n",
    "plt.show()"
   ]
  },
  {
   "cell_type": "code",
   "execution_count": 78,
   "metadata": {},
   "outputs": [
    {
     "data": {
      "text/html": [
       "<div>\n",
       "<style scoped>\n",
       "    .dataframe tbody tr th:only-of-type {\n",
       "        vertical-align: middle;\n",
       "    }\n",
       "\n",
       "    .dataframe tbody tr th {\n",
       "        vertical-align: top;\n",
       "    }\n",
       "\n",
       "    .dataframe thead th {\n",
       "        text-align: right;\n",
       "    }\n",
       "</style>\n",
       "<table border=\"1\" class=\"dataframe\">\n",
       "  <thead>\n",
       "    <tr style=\"text-align: right;\">\n",
       "      <th></th>\n",
       "      <th>Supply</th>\n",
       "      <th>T</th>\n",
       "      <th>Rooms</th>\n",
       "      <th>Peoples</th>\n",
       "      <th>Permanent_Residence</th>\n",
       "      <th>City</th>\n",
       "    </tr>\n",
       "  </thead>\n",
       "  <tbody>\n",
       "    <tr>\n",
       "      <td>count</td>\n",
       "      <td>4.665778e+06</td>\n",
       "      <td>4.665778e+06</td>\n",
       "      <td>4.665778e+06</td>\n",
       "      <td>4.665778e+06</td>\n",
       "      <td>4.665778e+06</td>\n",
       "      <td>4.665778e+06</td>\n",
       "    </tr>\n",
       "    <tr>\n",
       "      <td>mean</td>\n",
       "      <td>2.632127e+02</td>\n",
       "      <td>2.471041e+00</td>\n",
       "      <td>1.602664e+00</td>\n",
       "      <td>2.134501e+00</td>\n",
       "      <td>8.826129e-01</td>\n",
       "      <td>2.851004e-01</td>\n",
       "    </tr>\n",
       "    <tr>\n",
       "      <td>std</td>\n",
       "      <td>3.874355e+02</td>\n",
       "      <td>9.327716e+00</td>\n",
       "      <td>1.075234e+00</td>\n",
       "      <td>1.485177e+00</td>\n",
       "      <td>3.218810e-01</td>\n",
       "      <td>4.514623e-01</td>\n",
       "    </tr>\n",
       "    <tr>\n",
       "      <td>min</td>\n",
       "      <td>1.000000e+00</td>\n",
       "      <td>-1.116382e+01</td>\n",
       "      <td>0.000000e+00</td>\n",
       "      <td>0.000000e+00</td>\n",
       "      <td>0.000000e+00</td>\n",
       "      <td>0.000000e+00</td>\n",
       "    </tr>\n",
       "    <tr>\n",
       "      <td>25%</td>\n",
       "      <td>8.600000e+01</td>\n",
       "      <td>-6.255830e+00</td>\n",
       "      <td>1.000000e+00</td>\n",
       "      <td>1.000000e+00</td>\n",
       "      <td>1.000000e+00</td>\n",
       "      <td>0.000000e+00</td>\n",
       "    </tr>\n",
       "    <tr>\n",
       "      <td>50%</td>\n",
       "      <td>1.530000e+02</td>\n",
       "      <td>5.520762e-01</td>\n",
       "      <td>1.000000e+00</td>\n",
       "      <td>2.000000e+00</td>\n",
       "      <td>1.000000e+00</td>\n",
       "      <td>0.000000e+00</td>\n",
       "    </tr>\n",
       "    <tr>\n",
       "      <td>75%</td>\n",
       "      <td>2.780000e+02</td>\n",
       "      <td>1.340122e+01</td>\n",
       "      <td>2.000000e+00</td>\n",
       "      <td>3.000000e+00</td>\n",
       "      <td>1.000000e+00</td>\n",
       "      <td>1.000000e+00</td>\n",
       "    </tr>\n",
       "    <tr>\n",
       "      <td>max</td>\n",
       "      <td>3.999000e+03</td>\n",
       "      <td>1.713523e+01</td>\n",
       "      <td>9.000000e+00</td>\n",
       "      <td>9.000000e+00</td>\n",
       "      <td>1.000000e+00</td>\n",
       "      <td>1.000000e+00</td>\n",
       "    </tr>\n",
       "  </tbody>\n",
       "</table>\n",
       "</div>"
      ],
      "text/plain": [
       "             Supply             T         Rooms       Peoples  \\\n",
       "count  4.665778e+06  4.665778e+06  4.665778e+06  4.665778e+06   \n",
       "mean   2.632127e+02  2.471041e+00  1.602664e+00  2.134501e+00   \n",
       "std    3.874355e+02  9.327716e+00  1.075234e+00  1.485177e+00   \n",
       "min    1.000000e+00 -1.116382e+01  0.000000e+00  0.000000e+00   \n",
       "25%    8.600000e+01 -6.255830e+00  1.000000e+00  1.000000e+00   \n",
       "50%    1.530000e+02  5.520762e-01  1.000000e+00  2.000000e+00   \n",
       "75%    2.780000e+02  1.340122e+01  2.000000e+00  3.000000e+00   \n",
       "max    3.999000e+03  1.713523e+01  9.000000e+00  9.000000e+00   \n",
       "\n",
       "       Permanent_Residence          City  \n",
       "count         4.665778e+06  4.665778e+06  \n",
       "mean          8.826129e-01  2.851004e-01  \n",
       "std           3.218810e-01  4.514623e-01  \n",
       "min           0.000000e+00  0.000000e+00  \n",
       "25%           1.000000e+00  0.000000e+00  \n",
       "50%           1.000000e+00  0.000000e+00  \n",
       "75%           1.000000e+00  1.000000e+00  \n",
       "max           1.000000e+00  1.000000e+00  "
      ]
     },
     "execution_count": 78,
     "metadata": {},
     "output_type": "execute_result"
    }
   ],
   "source": [
    "ds_work.describe()"
   ]
  },
  {
   "cell_type": "markdown",
   "metadata": {},
   "source": [
    "4.2. Матрица корреляций"
   ]
  },
  {
   "cell_type": "code",
   "execution_count": 79,
   "metadata": {},
   "outputs": [
    {
     "data": {
      "text/plain": [
       "<matplotlib.axes._subplots.AxesSubplot at 0x29b1a7102c8>"
      ]
     },
     "execution_count": 79,
     "metadata": {},
     "output_type": "execute_result"
    },
    {
     "data": {
      "image/png": "[encoded data removed]",
      "text/plain": [
       "<Figure size 432x432 with 2 Axes>"
      ]
     },
     "metadata": {
      "needs_background": "light"
     },
     "output_type": "display_data"
    }
   ],
   "source": [
    "f, ax = plt.subplots(figsize=(6, 6))\n",
    "corr = np.round_(ds_work.corr(), decimals=2)\n",
    "sns.heatmap(corr,annot=False,cmap='RdYlGn',linewidths=0.2)"
   ]
  },
  {
   "cell_type": "markdown",
   "metadata": {},
   "source": [
    "Корреляция между признаками выражена слабо, только комнаты и люди коррелируют, но это было ожидаемо - чем больше людей живет, тем больше комнат требуется."
   ]
  },
  {
   "cell_type": "markdown",
   "metadata": {},
   "source": [
    "4.3. Визуализация взаимосвязей между признаками"
   ]
  },
  {
   "cell_type": "code",
   "execution_count": 68,
   "metadata": {},
   "outputs": [
    {
     "data": {
      "image/png": "[encoded data removed]",
      "text/plain": [
       "<Figure size 1080x1080 with 42 Axes>"
      ]
     },
     "metadata": {
      "needs_background": "light"
     },
     "output_type": "display_data"
    }
   ],
   "source": [
    "sns.pairplot(ds_work)\n",
    "plt.show()"
   ]
  },
  {
   "cell_type": "markdown",
   "metadata": {},
   "source": [
    "Этап 5. Модель \"Random forest\"\n",
    "\n",
    "Теперь на очищенных данных применяем снова модель линейной регрессии и модель случайного леса."
   ]
  },
  {
   "cell_type": "markdown",
   "metadata": {},
   "source": [
    "5.1. Линейная регрессия"
   ]
  },
  {
   "cell_type": "code",
   "execution_count": 80,
   "metadata": {},
   "outputs": [
    {
     "data": {
      "text/plain": [
       "LinearRegression(copy_X=True, fit_intercept=True, n_jobs=None, normalize=False)"
      ]
     },
     "execution_count": 80,
     "metadata": {},
     "output_type": "execute_result"
    }
   ],
   "source": [
    "X_train, X_test, y_train, y_test = train_test_split(ds_work[['T', 'Rooms', 'Peoples', 'Permanent_Residence','City']], ds_work['Supply'], test_size=0.3)\n",
    "model = LinearRegression()\n",
    "model.fit(X_train, y_train)"
   ]
  },
  {
   "cell_type": "code",
   "execution_count": 81,
   "metadata": {},
   "outputs": [
    {
     "name": "stdout",
     "output_type": "stream",
     "text": [
      "Качество модели на тестовых данных: 0.012475449943785466 \n",
      "Качество модели на тренировочных данных: 0.012612920923796178\n"
     ]
    }
   ],
   "source": [
    "r_train = model.score(X_train, y_train)\n",
    "r_test = model.score(X_test, y_test)\n",
    "print('Качество модели на тестовых данных:', r_test, '\\nКачество модели на тренировочных данных:', r_train)"
   ]
  },
  {
   "cell_type": "code",
   "execution_count": 82,
   "metadata": {},
   "outputs": [
    {
     "name": "stdout",
     "output_type": "stream",
     "text": [
      "Mean Absolute Error (MAE): 206.80784628653885\n",
      "Mean Squared Error (MSE): 148031.95489359056\n",
      "Root Mean Squared Error (RMSE): 384.7492103872217\n",
      "Mean Absolute Percentage Error (MAPE): 712.96\n",
      "Model score: 0.012475449943785466\n",
      "R2 score: 0.012475449943785466\n"
     ]
    }
   ],
   "source": [
    "model_pred = model.predict(X_test)\n",
    "print('Mean Absolute Error (MAE):', mean_absolute_error(y_test, model_pred))\n",
    "print('Mean Squared Error (MSE):', mean_squared_error(y_test, model_pred))\n",
    "print('Root Mean Squared Error (RMSE):', np.sqrt(mean_squared_error(y_test, model_pred)))\n",
    "mape = np.mean(np.abs((y_test - model_pred) / np.abs(y_test)))\n",
    "print('Mean Absolute Percentage Error (MAPE):', round(mape * 100, 2))\n",
    "print('Model score:', model.score(X_test, y_test))\n",
    "print('R2 score:', r2_score(y_test, model_pred))"
   ]
  },
  {
   "cell_type": "code",
   "execution_count": 83,
   "metadata": {},
   "outputs": [
    {
     "name": "stdout",
     "output_type": "stream",
     "text": [
      "Прогноз потребления населением на тестовом наборе данных:  368270926.0 кВт*ч\n",
      "Фактическое потребления населением на тестовом наборе данных:  368749707.0 кВт*ч\n",
      "Разница между фактом и прогнозом, абсолют: 478781.0 кВт*ч  процент: 0.13 %\n"
     ]
    }
   ],
   "source": [
    "sum_pred = sum(model_pred)\n",
    "sum_fact = sum(y_test)\n",
    "print('Прогноз потребления населением на тестовом наборе данных: ',round(sum_pred,0),'кВт*ч')\n",
    "print('Фактическое потребления населением на тестовом наборе данных: ',round(sum_fact,0),'кВт*ч')\n",
    "print('Разница между фактом и прогнозом, абсолют:',round(sum_fact - sum_pred,0),'кВт*ч', \n",
    "      ' процент:', round(100*np.abs((sum_fact - sum_pred))/sum_pred,4),'%')"
   ]
  },
  {
   "cell_type": "markdown",
   "metadata": {},
   "source": [
    "Качество модели на очищенных данных увеличилось в 3 раза, но все-равно остается на неудовлетворительном уровне."
   ]
  },
  {
   "cell_type": "markdown",
   "metadata": {},
   "source": [
    "5.2. Случайный лес"
   ]
  },
  {
   "cell_type": "code",
   "execution_count": 84,
   "metadata": {},
   "outputs": [
    {
     "data": {
      "text/plain": [
       "RandomForestRegressor(bootstrap=True, ccp_alpha=0.0, criterion='mse',\n",
       "                      max_depth=None, max_features='auto', max_leaf_nodes=None,\n",
       "                      max_samples=None, min_impurity_decrease=0.0,\n",
       "                      min_impurity_split=None, min_samples_leaf=1,\n",
       "                      min_samples_split=2, min_weight_fraction_leaf=0.0,\n",
       "                      n_estimators=100, n_jobs=4, oob_score=False,\n",
       "                      random_state=1, verbose=0, warm_start=False)"
      ]
     },
     "execution_count": 84,
     "metadata": {},
     "output_type": "execute_result"
    }
   ],
   "source": [
    "X_train, X_test, y_train, y_test = train_test_split(ds_work[['T', 'Rooms', 'Peoples', 'Permanent_Residence','City']], ds_work['Supply'], test_size=0.3)\n",
    "model_rf=RandomForestRegressor(n_estimators=100, max_features='auto', n_jobs=4, random_state=1)\n",
    "model_rf.fit(X_train,y_train)"
   ]
  },
  {
   "cell_type": "code",
   "execution_count": 85,
   "metadata": {},
   "outputs": [
    {
     "name": "stdout",
     "output_type": "stream",
     "text": [
      "Mean Absolute Error (MAE): 205.04547266568156\n",
      "Mean Squared Error (MSE): 146282.55469410747\n",
      "Root Mean Squared Error (RMSE): 382.4690244897062\n",
      "Mean Absolute Percentage Error (MAPE): 725.98\n",
      "Model score: 0.024301050354106565\n",
      "R2 score: 0.024301050354106568\n"
     ]
    }
   ],
   "source": [
    "model_pred = model_rf.predict(X_test)\n",
    "print('Mean Absolute Error (MAE):', mean_absolute_error(y_test, model_pred))\n",
    "print('Mean Squared Error (MSE):', mean_squared_error(y_test, model_pred))\n",
    "print('Root Mean Squared Error (RMSE):', np.sqrt(mean_squared_error(y_test, model_pred)))\n",
    "mape = np.mean(np.abs((y_test - model_pred) / np.abs(y_test)))\n",
    "print('Mean Absolute Percentage Error (MAPE):', round(mape * 100, 2))\n",
    "print('Model score:', model_rf.score(X_test, y_test))\n",
    "print('R2 score:', r2_score(y_test, model_pred))"
   ]
  },
  {
   "cell_type": "code",
   "execution_count": 86,
   "metadata": {},
   "outputs": [
    {
     "name": "stdout",
     "output_type": "stream",
     "text": [
      "Прогноз потребления населением на тестовом наборе данных:  368608382.0 кВт*ч\n",
      "Фактическое потребления населением на тестовом наборе данных:  368174525.0 кВт*ч\n",
      "Разница между фактом и прогнозом, абсолют: -433857.0 кВт*ч  процент: 0.1177 %\n"
     ]
    }
   ],
   "source": [
    "sum_pred = sum(model_pred)\n",
    "sum_fact = sum(y_test)\n",
    "print('Прогноз потребления населением на тестовом наборе данных: ',round(sum_pred,0),'кВт*ч')\n",
    "print('Фактическое потребления населением на тестовом наборе данных: ',round(sum_fact,0),'кВт*ч')\n",
    "print('Разница между фактом и прогнозом, абсолют:',round(sum_fact - sum_pred,0),'кВт*ч', \n",
    "      ' процент:', round(100*np.abs((sum_fact - sum_pred))/sum_pred,4),'%')"
   ]
  },
  {
   "cell_type": "markdown",
   "metadata": {},
   "source": [
    "Наиболее важные признаки:"
   ]
  },
  {
   "cell_type": "code",
   "execution_count": 87,
   "metadata": {},
   "outputs": [
    {
     "data": {
      "image/png": "[encoded data removed]",
      "text/plain": [
       "<Figure size 864x288 with 1 Axes>"
      ]
     },
     "metadata": {
      "needs_background": "light"
     },
     "output_type": "display_data"
    }
   ],
   "source": [
    "headers = list(X_train.columns.values)\n",
    "feature_imp = pd.Series(model_rf.feature_importances_,index=headers).sort_values(ascending=False)\n",
    "f, ax = plt.subplots(figsize=(12, 4))\n",
    "sns.barplot(x=feature_imp, y=feature_imp.index)\n",
    "plt.xlabel('Важность признаков')\n",
    "plt.ylabel('Признаки')\n",
    "plt.title(\"Наиболее важные признаки\")\n",
    "plt.show()"
   ]
  },
  {
   "cell_type": "markdown",
   "metadata": {},
   "source": [
    "### Этап 6. Применение наиболее точных данных по потреблению с приборов учета, информацию по которым собирается удаленно системой опроса"
   ]
  },
  {
   "cell_type": "markdown",
   "metadata": {},
   "source": [
    "Создаем вторую копию датасета supply под именем ds_sdsd, с ним работаем дальше. \n",
    "В этот датасет помещаем наиболее точные данные с приборов учета."
   ]
  },
  {
   "cell_type": "code",
   "execution_count": 88,
   "metadata": {},
   "outputs": [],
   "source": [
    "ds_sdsd = supply.copy()\n",
    "ds_sdsd = ds_sdsd[ds_sdsd['Method']=='ЛС-СДСД']"
   ]
  },
  {
   "cell_type": "code",
   "execution_count": 89,
   "metadata": {},
   "outputs": [
    {
     "data": {
      "text/html": [
       "<div>\n",
       "<style scoped>\n",
       "    .dataframe tbody tr th:only-of-type {\n",
       "        vertical-align: middle;\n",
       "    }\n",
       "\n",
       "    .dataframe tbody tr th {\n",
       "        vertical-align: top;\n",
       "    }\n",
       "\n",
       "    .dataframe thead th {\n",
       "        text-align: right;\n",
       "    }\n",
       "</style>\n",
       "<table border=\"1\" class=\"dataframe\">\n",
       "  <thead>\n",
       "    <tr style=\"text-align: right;\">\n",
       "      <th></th>\n",
       "      <th>Supply</th>\n",
       "      <th>T</th>\n",
       "      <th>Rooms</th>\n",
       "      <th>Peoples</th>\n",
       "      <th>Permanent_Residence</th>\n",
       "      <th>City</th>\n",
       "    </tr>\n",
       "  </thead>\n",
       "  <tbody>\n",
       "    <tr>\n",
       "      <td>0</td>\n",
       "      <td>0.0</td>\n",
       "      <td>-11.163823</td>\n",
       "      <td>1.0</td>\n",
       "      <td>1.0</td>\n",
       "      <td>0</td>\n",
       "      <td>0</td>\n",
       "    </tr>\n",
       "    <tr>\n",
       "      <td>1</td>\n",
       "      <td>0.0</td>\n",
       "      <td>-11.163823</td>\n",
       "      <td>1.0</td>\n",
       "      <td>1.0</td>\n",
       "      <td>0</td>\n",
       "      <td>0</td>\n",
       "    </tr>\n",
       "    <tr>\n",
       "      <td>2</td>\n",
       "      <td>2.0</td>\n",
       "      <td>-11.163823</td>\n",
       "      <td>1.0</td>\n",
       "      <td>1.0</td>\n",
       "      <td>1</td>\n",
       "      <td>0</td>\n",
       "    </tr>\n",
       "    <tr>\n",
       "      <td>3</td>\n",
       "      <td>2.0</td>\n",
       "      <td>-11.163823</td>\n",
       "      <td>1.0</td>\n",
       "      <td>1.0</td>\n",
       "      <td>0</td>\n",
       "      <td>0</td>\n",
       "    </tr>\n",
       "    <tr>\n",
       "      <td>4</td>\n",
       "      <td>21.0</td>\n",
       "      <td>-11.163823</td>\n",
       "      <td>1.0</td>\n",
       "      <td>1.0</td>\n",
       "      <td>0</td>\n",
       "      <td>0</td>\n",
       "    </tr>\n",
       "  </tbody>\n",
       "</table>\n",
       "</div>"
      ],
      "text/plain": [
       "   Supply          T  Rooms  Peoples  Permanent_Residence  City\n",
       "0     0.0 -11.163823    1.0      1.0                    0     0\n",
       "1     0.0 -11.163823    1.0      1.0                    0     0\n",
       "2     2.0 -11.163823    1.0      1.0                    1     0\n",
       "3     2.0 -11.163823    1.0      1.0                    0     0\n",
       "4    21.0 -11.163823    1.0      1.0                    0     0"
      ]
     },
     "execution_count": 89,
     "metadata": {},
     "output_type": "execute_result"
    }
   ],
   "source": [
    "ds_sdsd.drop('Method', axis=1, inplace=True)\n",
    "ds_sdsd.drop('Consumer', axis=1, inplace=True)\n",
    "ds_sdsd.head()"
   ]
  },
  {
   "cell_type": "markdown",
   "metadata": {},
   "source": [
    "Устраняем выбросы"
   ]
  },
  {
   "cell_type": "code",
   "execution_count": 90,
   "metadata": {},
   "outputs": [],
   "source": [
    "ds_sdsd = ds_sdsd[ds_sdsd['Supply'] >=1]\n",
    "ds_sdsd = ds_sdsd[ds_sdsd['Supply'] <4000]\n",
    "ds_sdsd = ds_sdsd[ds_sdsd['Peoples'] <10]\n",
    "ds_sdsd = ds_sdsd[ds_sdsd['Rooms'] <10]"
   ]
  },
  {
   "cell_type": "code",
   "execution_count": 91,
   "metadata": {},
   "outputs": [
    {
     "data": {
      "image/png": "[encoded data removed]",
      "text/plain": [
       "<Figure size 432x288 with 1 Axes>"
      ]
     },
     "metadata": {
      "needs_background": "light"
     },
     "output_type": "display_data"
    },
    {
     "data": {
      "image/png": "[encoded data removed]",
      "text/plain": [
       "<Figure size 432x288 with 1 Axes>"
      ]
     },
     "metadata": {
      "needs_background": "light"
     },
     "output_type": "display_data"
    },
    {
     "data": {
      "image/png": "[encoded data removed]",
      "text/plain": [
       "<Figure size 432x288 with 1 Axes>"
      ]
     },
     "metadata": {
      "needs_background": "light"
     },
     "output_type": "display_data"
    }
   ],
   "source": [
    "sns.boxplot(y=\"Supply\", data=ds_sdsd)\n",
    "plt.show()\n",
    "sns.boxplot(y=\"Peoples\", data=ds_sdsd)\n",
    "plt.show()\n",
    "sns.boxplot(y=\"Rooms\", data=ds_sdsd)\n",
    "plt.show()"
   ]
  },
  {
   "cell_type": "code",
   "execution_count": 92,
   "metadata": {},
   "outputs": [
    {
     "data": {
      "text/plain": [
       "<matplotlib.axes._subplots.AxesSubplot at 0x29b1a4e0bc8>"
      ]
     },
     "execution_count": 92,
     "metadata": {},
     "output_type": "execute_result"
    },
    {
     "data": {
      "image/png": "[encoded data removed]",
      "text/plain": [
       "<Figure size 432x432 with 2 Axes>"
      ]
     },
     "metadata": {
      "needs_background": "light"
     },
     "output_type": "display_data"
    }
   ],
   "source": [
    "f, ax = plt.subplots(figsize=(6, 6))\n",
    "corr = np.round_(ds_sdsd.corr(), decimals=2)\n",
    "sns.heatmap(corr,annot=False,cmap='RdYlGn',linewidths=0.2)"
   ]
  },
  {
   "cell_type": "code",
   "execution_count": 81,
   "metadata": {},
   "outputs": [
    {
     "data": {
      "image/png": "[encoded data removed]",
      "text/plain": [
       "<Figure size 1080x1080 with 42 Axes>"
      ]
     },
     "metadata": {
      "needs_background": "light"
     },
     "output_type": "display_data"
    }
   ],
   "source": [
    "sns.pairplot(ds_sdsd)\n",
    "plt.show()"
   ]
  },
  {
   "cell_type": "markdown",
   "metadata": {},
   "source": [
    "Линейная регрессия"
   ]
  },
  {
   "cell_type": "code",
   "execution_count": 93,
   "metadata": {},
   "outputs": [
    {
     "data": {
      "text/plain": [
       "LinearRegression(copy_X=True, fit_intercept=True, n_jobs=None, normalize=False)"
      ]
     },
     "execution_count": 93,
     "metadata": {},
     "output_type": "execute_result"
    }
   ],
   "source": [
    "X_train, X_test, y_train, y_test = train_test_split(ds_sdsd[['T', 'Rooms', 'Peoples', 'Permanent_Residence','City']], ds_sdsd['Supply'], test_size=0.3)\n",
    "model = LinearRegression()\n",
    "model.fit(X_train, y_train)"
   ]
  },
  {
   "cell_type": "code",
   "execution_count": 94,
   "metadata": {},
   "outputs": [
    {
     "name": "stdout",
     "output_type": "stream",
     "text": [
      "Качество модели на тестовых данных: 0.03347669395504316 \n",
      "Качество модели на тренировочных данных: 0.033075150090858374\n",
      "Mean Absolute Error (MAE): 290.43711154346585\n",
      "Mean Squared Error (MSE): 234623.3064187383\n",
      "Root Mean Squared Error (RMSE): 484.37930015509363\n",
      "Mean Absolute Percentage Error (MAPE): 1607.89\n",
      "Model score: 0.03347669395504316\n",
      "R2 score: 0.03347669395504316\n"
     ]
    }
   ],
   "source": [
    "r_train = model.score(X_train, y_train)\n",
    "r_test = model.score(X_test, y_test)\n",
    "print('Качество модели на тестовых данных:', r_test, '\\nКачество модели на тренировочных данных:', r_train)\n",
    "model_pred = model.predict(X_test)\n",
    "print('Mean Absolute Error (MAE):', mean_absolute_error(y_test, model_pred))\n",
    "print('Mean Squared Error (MSE):', mean_squared_error(y_test, model_pred))\n",
    "print('Root Mean Squared Error (RMSE):', np.sqrt(mean_squared_error(y_test, model_pred)))\n",
    "mape = np.mean(np.abs((y_test - model_pred) / np.abs(y_test)))\n",
    "print('Mean Absolute Percentage Error (MAPE):', round(mape * 100, 2))\n",
    "print('Model score:', model.score(X_test, y_test))\n",
    "print('R2 score:', r2_score(y_test, model_pred))"
   ]
  },
  {
   "cell_type": "code",
   "execution_count": 95,
   "metadata": {},
   "outputs": [
    {
     "name": "stdout",
     "output_type": "stream",
     "text": [
      "Прогноз потребления населением на тестовом наборе данных:  71275588.0 кВт*ч\n",
      "Фактическое потребления населением на тестовом наборе данных:  71005532.0 кВт*ч\n",
      "Разница между фактом и прогнозом, абсолют: -270056.0 кВт*ч  процент: 0.3789 %\n"
     ]
    }
   ],
   "source": [
    "sum_pred = sum(model_pred)\n",
    "sum_fact = sum(y_test)\n",
    "print('Прогноз потребления населением на тестовом наборе данных: ',round(sum_pred,0),'кВт*ч')\n",
    "print('Фактическое потребления населением на тестовом наборе данных: ',round(sum_fact,0),'кВт*ч')\n",
    "print('Разница между фактом и прогнозом, абсолют:',round(sum_fact - sum_pred,0),'кВт*ч', \n",
    "      ' процент:', round(100*np.abs((sum_fact - sum_pred))/sum_pred,4),'%')"
   ]
  },
  {
   "cell_type": "markdown",
   "metadata": {},
   "source": [
    "Выводы: результаты от модели на полных данных отличаются: выросли с 0,012 до 0.033. \n",
    "\n",
    "Можно выдвинуть гипотезу, что дело в неподходящей модели."
   ]
  },
  {
   "cell_type": "markdown",
   "metadata": {},
   "source": [
    "Случайный лес"
   ]
  },
  {
   "cell_type": "code",
   "execution_count": 96,
   "metadata": {},
   "outputs": [
    {
     "data": {
      "text/plain": [
       "RandomForestRegressor(bootstrap=True, ccp_alpha=0.0, criterion='mse',\n",
       "                      max_depth=None, max_features='auto', max_leaf_nodes=None,\n",
       "                      max_samples=None, min_impurity_decrease=0.0,\n",
       "                      min_impurity_split=None, min_samples_leaf=1,\n",
       "                      min_samples_split=2, min_weight_fraction_leaf=0.0,\n",
       "                      n_estimators=100, n_jobs=4, oob_score=False,\n",
       "                      random_state=1, verbose=0, warm_start=False)"
      ]
     },
     "execution_count": 96,
     "metadata": {},
     "output_type": "execute_result"
    }
   ],
   "source": [
    "X_train, X_test, y_train, y_test = train_test_split(ds_sdsd[['T', 'Rooms', 'Peoples', 'Permanent_Residence','City']], ds_sdsd['Supply'], test_size=0.3)\n",
    "model_rf=RandomForestRegressor(n_estimators=100, max_features='auto', n_jobs=4, random_state=1)\n",
    "model_rf.fit(X_train,y_train)"
   ]
  },
  {
   "cell_type": "code",
   "execution_count": 97,
   "metadata": {},
   "outputs": [
    {
     "name": "stdout",
     "output_type": "stream",
     "text": [
      "Mean Absolute Error (MAE): 289.2390239636114\n",
      "Mean Squared Error (MSE): 235582.6257404602\n",
      "Root Mean Squared Error (RMSE): 485.36854630317794\n",
      "Mean Absolute Percentage Error (MAPE): 1662.95\n",
      "Model score: 0.04178688817803222\n",
      "R2 score: 0.04178688817803222\n"
     ]
    }
   ],
   "source": [
    "model_pred = model_rf.predict(X_test)\n",
    "print('Mean Absolute Error (MAE):', mean_absolute_error(y_test, model_pred))\n",
    "print('Mean Squared Error (MSE):', mean_squared_error(y_test, model_pred))\n",
    "print('Root Mean Squared Error (RMSE):', np.sqrt(mean_squared_error(y_test, model_pred)))\n",
    "mape = np.mean(np.abs((y_test - model_pred) / np.abs(y_test)))\n",
    "print('Mean Absolute Percentage Error (MAPE):', round(mape * 100, 2))\n",
    "print('Model score:', model_rf.score(X_test, y_test))\n",
    "print('R2 score:', r2_score(y_test, model_pred))"
   ]
  },
  {
   "cell_type": "code",
   "execution_count": 98,
   "metadata": {},
   "outputs": [
    {
     "name": "stdout",
     "output_type": "stream",
     "text": [
      "Прогноз потребления населением на тестовом наборе данных:  71310542.0 кВт*ч\n",
      "Фактическое потребления населением на тестовом наборе данных:  71231097.0 кВт*ч\n",
      "Разница между фактом и прогнозом, абсолют: -79445.0 кВт*ч  процент: 0.1114 %\n"
     ]
    }
   ],
   "source": [
    "sum_pred = sum(model_pred)\n",
    "sum_fact = sum(y_test)\n",
    "print('Прогноз потребления населением на тестовом наборе данных: ',round(sum_pred,0),'кВт*ч')\n",
    "print('Фактическое потребления населением на тестовом наборе данных: ',round(sum_fact,0),'кВт*ч')\n",
    "print('Разница между фактом и прогнозом, абсолют:',round(sum_fact - sum_pred,0),'кВт*ч', \n",
    "      ' процент:', round(100*np.abs((sum_fact - sum_pred))/sum_pred,4),'%')"
   ]
  },
  {
   "cell_type": "code",
   "execution_count": 99,
   "metadata": {},
   "outputs": [
    {
     "data": {
      "image/png": "[encoded data removed]",
      "text/plain": [
       "<Figure size 864x288 with 1 Axes>"
      ]
     },
     "metadata": {
      "needs_background": "light"
     },
     "output_type": "display_data"
    }
   ],
   "source": [
    "headers = list(X_train.columns.values)\n",
    "feature_imp = pd.Series(model_rf.feature_importances_,index=headers).sort_values(ascending=False)\n",
    "f, ax = plt.subplots(figsize=(12, 4))\n",
    "sns.barplot(x=feature_imp, y=feature_imp.index)\n",
    "plt.xlabel('Важность признаков')\n",
    "plt.ylabel('Признаки')\n",
    "plt.title(\"Наиболее важные признаки\")\n",
    "plt.show()"
   ]
  },
  {
   "cell_type": "markdown",
   "metadata": {},
   "source": [
    "Общий вывод при применении наиболее точных данных в модели: точность модели не улучшилась. \n",
    "\n",
    "Надо подобрать параметры модели и посмотреть на результат."
   ]
  },
  {
   "cell_type": "markdown",
   "metadata": {},
   "source": [
    "### Этап 7. Добавление 2-х новых признаков - потребление за 2019 год и последний месяц. Построение и оптимизация моделей"
   ]
  },
  {
   "cell_type": "markdown",
   "metadata": {},
   "source": [
    "Для добавления признаков создаем датасет ds_sum, который является группировкой общего датасета ds_supply по потреблению за 2019 год, и датасет ds_month по последнему месяцу (март 2020 года)."
   ]
  },
  {
   "cell_type": "code",
   "execution_count": 100,
   "metadata": {},
   "outputs": [
    {
     "data": {
      "text/html": [
       "<div>\n",
       "<style scoped>\n",
       "    .dataframe tbody tr th:only-of-type {\n",
       "        vertical-align: middle;\n",
       "    }\n",
       "\n",
       "    .dataframe tbody tr th {\n",
       "        vertical-align: top;\n",
       "    }\n",
       "\n",
       "    .dataframe thead th {\n",
       "        text-align: right;\n",
       "    }\n",
       "</style>\n",
       "<table border=\"1\" class=\"dataframe\">\n",
       "  <thead>\n",
       "    <tr style=\"text-align: right;\">\n",
       "      <th></th>\n",
       "      <th>Method</th>\n",
       "      <th>Consumer</th>\n",
       "      <th>Building</th>\n",
       "      <th>Supply</th>\n",
       "      <th>Period</th>\n",
       "      <th>T</th>\n",
       "      <th>Rooms</th>\n",
       "      <th>Peoples</th>\n",
       "      <th>Loss2019</th>\n",
       "      <th>Group</th>\n",
       "    </tr>\n",
       "  </thead>\n",
       "  <tbody>\n",
       "    <tr>\n",
       "      <td>0</td>\n",
       "      <td>ЛС-СДСД</td>\n",
       "      <td>66700000233</td>\n",
       "      <td>дача</td>\n",
       "      <td>0.0</td>\n",
       "      <td>01-2019</td>\n",
       "      <td>-11.163823</td>\n",
       "      <td>1.0</td>\n",
       "      <td>1.0</td>\n",
       "      <td>0.027669</td>\n",
       "      <td>Население сельское</td>\n",
       "    </tr>\n",
       "    <tr>\n",
       "      <td>1</td>\n",
       "      <td>ЛС-СДСД</td>\n",
       "      <td>66700000410</td>\n",
       "      <td>дача</td>\n",
       "      <td>0.0</td>\n",
       "      <td>01-2019</td>\n",
       "      <td>-11.163823</td>\n",
       "      <td>1.0</td>\n",
       "      <td>1.0</td>\n",
       "      <td>0.027669</td>\n",
       "      <td>Население сельское</td>\n",
       "    </tr>\n",
       "    <tr>\n",
       "      <td>2</td>\n",
       "      <td>ЛС-СДСД</td>\n",
       "      <td>66700000431</td>\n",
       "      <td>част. ж/дом</td>\n",
       "      <td>2.0</td>\n",
       "      <td>01-2019</td>\n",
       "      <td>-11.163823</td>\n",
       "      <td>1.0</td>\n",
       "      <td>1.0</td>\n",
       "      <td>0.027669</td>\n",
       "      <td>Население сельское</td>\n",
       "    </tr>\n",
       "    <tr>\n",
       "      <td>3</td>\n",
       "      <td>ЛС-СДСД</td>\n",
       "      <td>66700000557</td>\n",
       "      <td>дача</td>\n",
       "      <td>2.0</td>\n",
       "      <td>01-2019</td>\n",
       "      <td>-11.163823</td>\n",
       "      <td>1.0</td>\n",
       "      <td>1.0</td>\n",
       "      <td>0.027669</td>\n",
       "      <td>Население сельское</td>\n",
       "    </tr>\n",
       "    <tr>\n",
       "      <td>4</td>\n",
       "      <td>ЛС-СДСД</td>\n",
       "      <td>66700000575</td>\n",
       "      <td>дача</td>\n",
       "      <td>21.0</td>\n",
       "      <td>01-2019</td>\n",
       "      <td>-11.163823</td>\n",
       "      <td>1.0</td>\n",
       "      <td>1.0</td>\n",
       "      <td>0.027669</td>\n",
       "      <td>Население сельское</td>\n",
       "    </tr>\n",
       "  </tbody>\n",
       "</table>\n",
       "</div>"
      ],
      "text/plain": [
       "    Method     Consumer     Building  Supply   Period          T  Rooms  \\\n",
       "0  ЛС-СДСД  66700000233         дача     0.0  01-2019 -11.163823    1.0   \n",
       "1  ЛС-СДСД  66700000410         дача     0.0  01-2019 -11.163823    1.0   \n",
       "2  ЛС-СДСД  66700000431  част. ж/дом     2.0  01-2019 -11.163823    1.0   \n",
       "3  ЛС-СДСД  66700000557         дача     2.0  01-2019 -11.163823    1.0   \n",
       "4  ЛС-СДСД  66700000575         дача    21.0  01-2019 -11.163823    1.0   \n",
       "\n",
       "   Peoples  Loss2019               Group  \n",
       "0      1.0  0.027669  Население сельское  \n",
       "1      1.0  0.027669  Население сельское  \n",
       "2      1.0  0.027669  Население сельское  \n",
       "3      1.0  0.027669  Население сельское  \n",
       "4      1.0  0.027669  Население сельское  "
      ]
     },
     "execution_count": 100,
     "metadata": {},
     "output_type": "execute_result"
    }
   ],
   "source": [
    "ds_supply.head()"
   ]
  },
  {
   "cell_type": "code",
   "execution_count": 101,
   "metadata": {},
   "outputs": [
    {
     "data": {
      "text/plain": [
       "array(['01-2019', '02-2019', '03-2019', '04-2019', '05-2019', '06-2019',\n",
       "       '07-2019', '08-2019', '09-2019', '10-2019', '11-2019', '12-2019'],\n",
       "      dtype=object)"
      ]
     },
     "execution_count": 101,
     "metadata": {},
     "output_type": "execute_result"
    }
   ],
   "source": [
    "ds_supply[ds_supply['Period'].str.contains('2019')]['Period'].unique()"
   ]
  },
  {
   "cell_type": "code",
   "execution_count": 102,
   "metadata": {},
   "outputs": [],
   "source": [
    "ds_sum = ds_supply[ds_supply['Period'].str.contains('2019')].groupby('Consumer').agg({'Supply': 'sum'}).rename(columns={'Supply': '2019'}).reset_index()\n"
   ]
  },
  {
   "cell_type": "code",
   "execution_count": 103,
   "metadata": {},
   "outputs": [
    {
     "data": {
      "text/html": [
       "<div>\n",
       "<style scoped>\n",
       "    .dataframe tbody tr th:only-of-type {\n",
       "        vertical-align: middle;\n",
       "    }\n",
       "\n",
       "    .dataframe tbody tr th {\n",
       "        vertical-align: top;\n",
       "    }\n",
       "\n",
       "    .dataframe thead th {\n",
       "        text-align: right;\n",
       "    }\n",
       "</style>\n",
       "<table border=\"1\" class=\"dataframe\">\n",
       "  <thead>\n",
       "    <tr style=\"text-align: right;\">\n",
       "      <th></th>\n",
       "      <th>Consumer</th>\n",
       "      <th>2019</th>\n",
       "    </tr>\n",
       "  </thead>\n",
       "  <tbody>\n",
       "    <tr>\n",
       "      <td>0</td>\n",
       "      <td>000001</td>\n",
       "      <td>512.0</td>\n",
       "    </tr>\n",
       "    <tr>\n",
       "      <td>1</td>\n",
       "      <td>000002</td>\n",
       "      <td>9334.0</td>\n",
       "    </tr>\n",
       "    <tr>\n",
       "      <td>2</td>\n",
       "      <td>00003</td>\n",
       "      <td>846549.0</td>\n",
       "    </tr>\n",
       "    <tr>\n",
       "      <td>3</td>\n",
       "      <td>00006</td>\n",
       "      <td>180050.0</td>\n",
       "    </tr>\n",
       "    <tr>\n",
       "      <td>4</td>\n",
       "      <td>0130</td>\n",
       "      <td>37470.0</td>\n",
       "    </tr>\n",
       "  </tbody>\n",
       "</table>\n",
       "</div>"
      ],
      "text/plain": [
       "  Consumer      2019\n",
       "0   000001     512.0\n",
       "1   000002    9334.0\n",
       "2    00003  846549.0\n",
       "3    00006  180050.0\n",
       "4     0130   37470.0"
      ]
     },
     "execution_count": 103,
     "metadata": {},
     "output_type": "execute_result"
    }
   ],
   "source": [
    "ds_sum.head()"
   ]
  },
  {
   "cell_type": "code",
   "execution_count": 104,
   "metadata": {},
   "outputs": [],
   "source": [
    "ds_month = ds_supply[ds_supply['Period'].str.contains('03-2020')].groupby('Consumer').agg({'Supply': 'sum'}).rename(columns={'Supply': 'LastMonth'}).reset_index()"
   ]
  },
  {
   "cell_type": "code",
   "execution_count": 105,
   "metadata": {},
   "outputs": [
    {
     "data": {
      "text/html": [
       "<div>\n",
       "<style scoped>\n",
       "    .dataframe tbody tr th:only-of-type {\n",
       "        vertical-align: middle;\n",
       "    }\n",
       "\n",
       "    .dataframe tbody tr th {\n",
       "        vertical-align: top;\n",
       "    }\n",
       "\n",
       "    .dataframe thead th {\n",
       "        text-align: right;\n",
       "    }\n",
       "</style>\n",
       "<table border=\"1\" class=\"dataframe\">\n",
       "  <thead>\n",
       "    <tr style=\"text-align: right;\">\n",
       "      <th></th>\n",
       "      <th>Consumer</th>\n",
       "      <th>LastMonth</th>\n",
       "    </tr>\n",
       "  </thead>\n",
       "  <tbody>\n",
       "    <tr>\n",
       "      <td>0</td>\n",
       "      <td>000001</td>\n",
       "      <td>64.0</td>\n",
       "    </tr>\n",
       "    <tr>\n",
       "      <td>1</td>\n",
       "      <td>069101010004</td>\n",
       "      <td>0.0</td>\n",
       "    </tr>\n",
       "    <tr>\n",
       "      <td>2</td>\n",
       "      <td>069106057057</td>\n",
       "      <td>0.0</td>\n",
       "    </tr>\n",
       "    <tr>\n",
       "      <td>3</td>\n",
       "      <td>1113701304</td>\n",
       "      <td>168.0</td>\n",
       "    </tr>\n",
       "    <tr>\n",
       "      <td>4</td>\n",
       "      <td>1113701344</td>\n",
       "      <td>54.0</td>\n",
       "    </tr>\n",
       "  </tbody>\n",
       "</table>\n",
       "</div>"
      ],
      "text/plain": [
       "       Consumer  LastMonth\n",
       "0        000001       64.0\n",
       "1  069101010004        0.0\n",
       "2  069106057057        0.0\n",
       "3    1113701304      168.0\n",
       "4    1113701344       54.0"
      ]
     },
     "execution_count": 105,
     "metadata": {},
     "output_type": "execute_result"
    }
   ],
   "source": [
    "ds_month.head()"
   ]
  },
  {
   "cell_type": "markdown",
   "metadata": {},
   "source": [
    "Заново создаем рабочий датасет ds_sdsd_2 с добавлением 2-х признаков - потребление за 2019 год и последний месяц. "
   ]
  },
  {
   "cell_type": "code",
   "execution_count": 106,
   "metadata": {},
   "outputs": [],
   "source": [
    "ds_supply.drop('Period', axis=1, inplace=True)\n",
    "ds_supply['Permanent_Residence'] = ds_supply['Building'].apply(Permanent_Residence)\n",
    "ds_supply.drop('Building', axis=1, inplace=True)\n",
    "ds_supply['City'] = ds_supply['Group'].apply(City_Residence)\n",
    "ds_supply.drop('Group', axis=1, inplace=True)\n",
    "ds_supply = ds_supply[~ds_supply['Consumer'].str.contains('\\D+',flags=re.IGNORECASE, regex=True)]"
   ]
  },
  {
   "cell_type": "code",
   "execution_count": 107,
   "metadata": {},
   "outputs": [
    {
     "data": {
      "text/plain": [
       "Method                 0\n",
       "Consumer               0\n",
       "Supply                 0\n",
       "T                      0\n",
       "Rooms                  0\n",
       "Peoples                0\n",
       "Loss2019               0\n",
       "Permanent_Residence    0\n",
       "City                   0\n",
       "dtype: int64"
      ]
     },
     "execution_count": 107,
     "metadata": {},
     "output_type": "execute_result"
    }
   ],
   "source": [
    "ds_supply.fillna(value={'Rooms': 2, 'Peoples': 2, 'Loss2019': 0.1395}, inplace=True)\n",
    "ds_supply.isnull().sum()"
   ]
  },
  {
   "cell_type": "code",
   "execution_count": 108,
   "metadata": {},
   "outputs": [
    {
     "data": {
      "text/html": [
       "<div>\n",
       "<style scoped>\n",
       "    .dataframe tbody tr th:only-of-type {\n",
       "        vertical-align: middle;\n",
       "    }\n",
       "\n",
       "    .dataframe tbody tr th {\n",
       "        vertical-align: top;\n",
       "    }\n",
       "\n",
       "    .dataframe thead th {\n",
       "        text-align: right;\n",
       "    }\n",
       "</style>\n",
       "<table border=\"1\" class=\"dataframe\">\n",
       "  <thead>\n",
       "    <tr style=\"text-align: right;\">\n",
       "      <th></th>\n",
       "      <th>Method</th>\n",
       "      <th>Consumer</th>\n",
       "      <th>Supply</th>\n",
       "      <th>T</th>\n",
       "      <th>Rooms</th>\n",
       "      <th>Peoples</th>\n",
       "      <th>Loss2019</th>\n",
       "      <th>Permanent_Residence</th>\n",
       "      <th>City</th>\n",
       "    </tr>\n",
       "  </thead>\n",
       "  <tbody>\n",
       "    <tr>\n",
       "      <td>0</td>\n",
       "      <td>ЛС-СДСД</td>\n",
       "      <td>66700000233</td>\n",
       "      <td>0.0</td>\n",
       "      <td>-11.163823</td>\n",
       "      <td>1.0</td>\n",
       "      <td>1.0</td>\n",
       "      <td>0.027669</td>\n",
       "      <td>0</td>\n",
       "      <td>0</td>\n",
       "    </tr>\n",
       "    <tr>\n",
       "      <td>1</td>\n",
       "      <td>ЛС-СДСД</td>\n",
       "      <td>66700000410</td>\n",
       "      <td>0.0</td>\n",
       "      <td>-11.163823</td>\n",
       "      <td>1.0</td>\n",
       "      <td>1.0</td>\n",
       "      <td>0.027669</td>\n",
       "      <td>0</td>\n",
       "      <td>0</td>\n",
       "    </tr>\n",
       "    <tr>\n",
       "      <td>2</td>\n",
       "      <td>ЛС-СДСД</td>\n",
       "      <td>66700000431</td>\n",
       "      <td>2.0</td>\n",
       "      <td>-11.163823</td>\n",
       "      <td>1.0</td>\n",
       "      <td>1.0</td>\n",
       "      <td>0.027669</td>\n",
       "      <td>1</td>\n",
       "      <td>0</td>\n",
       "    </tr>\n",
       "    <tr>\n",
       "      <td>3</td>\n",
       "      <td>ЛС-СДСД</td>\n",
       "      <td>66700000557</td>\n",
       "      <td>2.0</td>\n",
       "      <td>-11.163823</td>\n",
       "      <td>1.0</td>\n",
       "      <td>1.0</td>\n",
       "      <td>0.027669</td>\n",
       "      <td>0</td>\n",
       "      <td>0</td>\n",
       "    </tr>\n",
       "    <tr>\n",
       "      <td>4</td>\n",
       "      <td>ЛС-СДСД</td>\n",
       "      <td>66700000575</td>\n",
       "      <td>21.0</td>\n",
       "      <td>-11.163823</td>\n",
       "      <td>1.0</td>\n",
       "      <td>1.0</td>\n",
       "      <td>0.027669</td>\n",
       "      <td>0</td>\n",
       "      <td>0</td>\n",
       "    </tr>\n",
       "  </tbody>\n",
       "</table>\n",
       "</div>"
      ],
      "text/plain": [
       "    Method     Consumer  Supply          T  Rooms  Peoples  Loss2019  \\\n",
       "0  ЛС-СДСД  66700000233     0.0 -11.163823    1.0      1.0  0.027669   \n",
       "1  ЛС-СДСД  66700000410     0.0 -11.163823    1.0      1.0  0.027669   \n",
       "2  ЛС-СДСД  66700000431     2.0 -11.163823    1.0      1.0  0.027669   \n",
       "3  ЛС-СДСД  66700000557     2.0 -11.163823    1.0      1.0  0.027669   \n",
       "4  ЛС-СДСД  66700000575    21.0 -11.163823    1.0      1.0  0.027669   \n",
       "\n",
       "   Permanent_Residence  City  \n",
       "0                    0     0  \n",
       "1                    0     0  \n",
       "2                    1     0  \n",
       "3                    0     0  \n",
       "4                    0     0  "
      ]
     },
     "execution_count": 108,
     "metadata": {},
     "output_type": "execute_result"
    }
   ],
   "source": [
    "ds_supply.head()"
   ]
  },
  {
   "cell_type": "markdown",
   "metadata": {},
   "source": [
    "Создаем копию основного датасета ds_supply под именем ds_sdsd_2"
   ]
  },
  {
   "cell_type": "code",
   "execution_count": 109,
   "metadata": {},
   "outputs": [],
   "source": [
    "ds_sdsd_2 = ds_supply.copy()"
   ]
  },
  {
   "cell_type": "code",
   "execution_count": 110,
   "metadata": {},
   "outputs": [],
   "source": [
    "ds_sdsd_2 = ds_sdsd_2[ds_sdsd_2['Method']=='ЛС-СДСД']"
   ]
  },
  {
   "cell_type": "code",
   "execution_count": 111,
   "metadata": {},
   "outputs": [
    {
     "data": {
      "text/html": [
       "<div>\n",
       "<style scoped>\n",
       "    .dataframe tbody tr th:only-of-type {\n",
       "        vertical-align: middle;\n",
       "    }\n",
       "\n",
       "    .dataframe tbody tr th {\n",
       "        vertical-align: top;\n",
       "    }\n",
       "\n",
       "    .dataframe thead th {\n",
       "        text-align: right;\n",
       "    }\n",
       "</style>\n",
       "<table border=\"1\" class=\"dataframe\">\n",
       "  <thead>\n",
       "    <tr style=\"text-align: right;\">\n",
       "      <th></th>\n",
       "      <th>Method</th>\n",
       "      <th>Consumer</th>\n",
       "      <th>Supply</th>\n",
       "      <th>T</th>\n",
       "      <th>Rooms</th>\n",
       "      <th>Peoples</th>\n",
       "      <th>Loss2019</th>\n",
       "      <th>Permanent_Residence</th>\n",
       "      <th>City</th>\n",
       "      <th>2019</th>\n",
       "    </tr>\n",
       "  </thead>\n",
       "  <tbody>\n",
       "    <tr>\n",
       "      <td>0</td>\n",
       "      <td>ЛС-СДСД</td>\n",
       "      <td>66700000233</td>\n",
       "      <td>0.0</td>\n",
       "      <td>-11.163823</td>\n",
       "      <td>1.0</td>\n",
       "      <td>1.0</td>\n",
       "      <td>0.027669</td>\n",
       "      <td>0</td>\n",
       "      <td>0</td>\n",
       "      <td>174.0</td>\n",
       "    </tr>\n",
       "    <tr>\n",
       "      <td>1</td>\n",
       "      <td>ЛС-СДСД</td>\n",
       "      <td>66700000410</td>\n",
       "      <td>0.0</td>\n",
       "      <td>-11.163823</td>\n",
       "      <td>1.0</td>\n",
       "      <td>1.0</td>\n",
       "      <td>0.027669</td>\n",
       "      <td>0</td>\n",
       "      <td>0</td>\n",
       "      <td>6426.0</td>\n",
       "    </tr>\n",
       "    <tr>\n",
       "      <td>2</td>\n",
       "      <td>ЛС-СДСД</td>\n",
       "      <td>66700000431</td>\n",
       "      <td>2.0</td>\n",
       "      <td>-11.163823</td>\n",
       "      <td>1.0</td>\n",
       "      <td>1.0</td>\n",
       "      <td>0.027669</td>\n",
       "      <td>1</td>\n",
       "      <td>0</td>\n",
       "      <td>1978.0</td>\n",
       "    </tr>\n",
       "    <tr>\n",
       "      <td>3</td>\n",
       "      <td>ЛС-СДСД</td>\n",
       "      <td>66700000557</td>\n",
       "      <td>2.0</td>\n",
       "      <td>-11.163823</td>\n",
       "      <td>1.0</td>\n",
       "      <td>1.0</td>\n",
       "      <td>0.027669</td>\n",
       "      <td>0</td>\n",
       "      <td>0</td>\n",
       "      <td>766.0</td>\n",
       "    </tr>\n",
       "    <tr>\n",
       "      <td>4</td>\n",
       "      <td>ЛС-СДСД</td>\n",
       "      <td>66700000575</td>\n",
       "      <td>21.0</td>\n",
       "      <td>-11.163823</td>\n",
       "      <td>1.0</td>\n",
       "      <td>1.0</td>\n",
       "      <td>0.027669</td>\n",
       "      <td>0</td>\n",
       "      <td>0</td>\n",
       "      <td>903.0</td>\n",
       "    </tr>\n",
       "  </tbody>\n",
       "</table>\n",
       "</div>"
      ],
      "text/plain": [
       "    Method     Consumer  Supply          T  Rooms  Peoples  Loss2019  \\\n",
       "0  ЛС-СДСД  66700000233     0.0 -11.163823    1.0      1.0  0.027669   \n",
       "1  ЛС-СДСД  66700000410     0.0 -11.163823    1.0      1.0  0.027669   \n",
       "2  ЛС-СДСД  66700000431     2.0 -11.163823    1.0      1.0  0.027669   \n",
       "3  ЛС-СДСД  66700000557     2.0 -11.163823    1.0      1.0  0.027669   \n",
       "4  ЛС-СДСД  66700000575    21.0 -11.163823    1.0      1.0  0.027669   \n",
       "\n",
       "   Permanent_Residence  City    2019  \n",
       "0                    0     0   174.0  \n",
       "1                    0     0  6426.0  \n",
       "2                    1     0  1978.0  \n",
       "3                    0     0   766.0  \n",
       "4                    0     0   903.0  "
      ]
     },
     "execution_count": 111,
     "metadata": {},
     "output_type": "execute_result"
    }
   ],
   "source": [
    "ds_sdsd_2 = ds_sdsd_2.merge(ds_sum, how = 'left', left_on='Consumer', right_on='Consumer')\n",
    "ds_sdsd_2.head()"
   ]
  },
  {
   "cell_type": "code",
   "execution_count": 112,
   "metadata": {},
   "outputs": [
    {
     "data": {
      "text/html": [
       "<div>\n",
       "<style scoped>\n",
       "    .dataframe tbody tr th:only-of-type {\n",
       "        vertical-align: middle;\n",
       "    }\n",
       "\n",
       "    .dataframe tbody tr th {\n",
       "        vertical-align: top;\n",
       "    }\n",
       "\n",
       "    .dataframe thead th {\n",
       "        text-align: right;\n",
       "    }\n",
       "</style>\n",
       "<table border=\"1\" class=\"dataframe\">\n",
       "  <thead>\n",
       "    <tr style=\"text-align: right;\">\n",
       "      <th></th>\n",
       "      <th>Method</th>\n",
       "      <th>Consumer</th>\n",
       "      <th>Supply</th>\n",
       "      <th>T</th>\n",
       "      <th>Rooms</th>\n",
       "      <th>Peoples</th>\n",
       "      <th>Loss2019</th>\n",
       "      <th>Permanent_Residence</th>\n",
       "      <th>City</th>\n",
       "      <th>2019</th>\n",
       "      <th>LastMonth</th>\n",
       "    </tr>\n",
       "  </thead>\n",
       "  <tbody>\n",
       "    <tr>\n",
       "      <td>0</td>\n",
       "      <td>ЛС-СДСД</td>\n",
       "      <td>66700000233</td>\n",
       "      <td>0.0</td>\n",
       "      <td>-11.163823</td>\n",
       "      <td>1.0</td>\n",
       "      <td>1.0</td>\n",
       "      <td>0.027669</td>\n",
       "      <td>0</td>\n",
       "      <td>0</td>\n",
       "      <td>174.0</td>\n",
       "      <td>0.0</td>\n",
       "    </tr>\n",
       "    <tr>\n",
       "      <td>1</td>\n",
       "      <td>ЛС-СДСД</td>\n",
       "      <td>66700000410</td>\n",
       "      <td>0.0</td>\n",
       "      <td>-11.163823</td>\n",
       "      <td>1.0</td>\n",
       "      <td>1.0</td>\n",
       "      <td>0.027669</td>\n",
       "      <td>0</td>\n",
       "      <td>0</td>\n",
       "      <td>6426.0</td>\n",
       "      <td>1343.0</td>\n",
       "    </tr>\n",
       "    <tr>\n",
       "      <td>2</td>\n",
       "      <td>ЛС-СДСД</td>\n",
       "      <td>66700000431</td>\n",
       "      <td>2.0</td>\n",
       "      <td>-11.163823</td>\n",
       "      <td>1.0</td>\n",
       "      <td>1.0</td>\n",
       "      <td>0.027669</td>\n",
       "      <td>1</td>\n",
       "      <td>0</td>\n",
       "      <td>1978.0</td>\n",
       "      <td>2.0</td>\n",
       "    </tr>\n",
       "    <tr>\n",
       "      <td>3</td>\n",
       "      <td>ЛС-СДСД</td>\n",
       "      <td>66700000557</td>\n",
       "      <td>2.0</td>\n",
       "      <td>-11.163823</td>\n",
       "      <td>1.0</td>\n",
       "      <td>1.0</td>\n",
       "      <td>0.027669</td>\n",
       "      <td>0</td>\n",
       "      <td>0</td>\n",
       "      <td>766.0</td>\n",
       "      <td>1.0</td>\n",
       "    </tr>\n",
       "    <tr>\n",
       "      <td>4</td>\n",
       "      <td>ЛС-СДСД</td>\n",
       "      <td>66700000575</td>\n",
       "      <td>21.0</td>\n",
       "      <td>-11.163823</td>\n",
       "      <td>1.0</td>\n",
       "      <td>1.0</td>\n",
       "      <td>0.027669</td>\n",
       "      <td>0</td>\n",
       "      <td>0</td>\n",
       "      <td>903.0</td>\n",
       "      <td>40.0</td>\n",
       "    </tr>\n",
       "  </tbody>\n",
       "</table>\n",
       "</div>"
      ],
      "text/plain": [
       "    Method     Consumer  Supply          T  Rooms  Peoples  Loss2019  \\\n",
       "0  ЛС-СДСД  66700000233     0.0 -11.163823    1.0      1.0  0.027669   \n",
       "1  ЛС-СДСД  66700000410     0.0 -11.163823    1.0      1.0  0.027669   \n",
       "2  ЛС-СДСД  66700000431     2.0 -11.163823    1.0      1.0  0.027669   \n",
       "3  ЛС-СДСД  66700000557     2.0 -11.163823    1.0      1.0  0.027669   \n",
       "4  ЛС-СДСД  66700000575    21.0 -11.163823    1.0      1.0  0.027669   \n",
       "\n",
       "   Permanent_Residence  City    2019  LastMonth  \n",
       "0                    0     0   174.0        0.0  \n",
       "1                    0     0  6426.0     1343.0  \n",
       "2                    1     0  1978.0        2.0  \n",
       "3                    0     0   766.0        1.0  \n",
       "4                    0     0   903.0       40.0  "
      ]
     },
     "execution_count": 112,
     "metadata": {},
     "output_type": "execute_result"
    }
   ],
   "source": [
    "ds_sdsd_2 = ds_sdsd_2.merge(ds_month, how = 'left', left_on='Consumer', right_on='Consumer')\n",
    "ds_sdsd_2.head()"
   ]
  },
  {
   "cell_type": "code",
   "execution_count": 113,
   "metadata": {},
   "outputs": [
    {
     "data": {
      "text/html": [
       "<div>\n",
       "<style scoped>\n",
       "    .dataframe tbody tr th:only-of-type {\n",
       "        vertical-align: middle;\n",
       "    }\n",
       "\n",
       "    .dataframe tbody tr th {\n",
       "        vertical-align: top;\n",
       "    }\n",
       "\n",
       "    .dataframe thead th {\n",
       "        text-align: right;\n",
       "    }\n",
       "</style>\n",
       "<table border=\"1\" class=\"dataframe\">\n",
       "  <thead>\n",
       "    <tr style=\"text-align: right;\">\n",
       "      <th></th>\n",
       "      <th>Supply</th>\n",
       "      <th>T</th>\n",
       "      <th>Rooms</th>\n",
       "      <th>Peoples</th>\n",
       "      <th>Loss2019</th>\n",
       "      <th>Permanent_Residence</th>\n",
       "      <th>City</th>\n",
       "      <th>2019</th>\n",
       "      <th>LastMonth</th>\n",
       "    </tr>\n",
       "  </thead>\n",
       "  <tbody>\n",
       "    <tr>\n",
       "      <td>0</td>\n",
       "      <td>0.0</td>\n",
       "      <td>-11.163823</td>\n",
       "      <td>1.0</td>\n",
       "      <td>1.0</td>\n",
       "      <td>0.027669</td>\n",
       "      <td>0</td>\n",
       "      <td>0</td>\n",
       "      <td>174.0</td>\n",
       "      <td>0.0</td>\n",
       "    </tr>\n",
       "    <tr>\n",
       "      <td>1</td>\n",
       "      <td>0.0</td>\n",
       "      <td>-11.163823</td>\n",
       "      <td>1.0</td>\n",
       "      <td>1.0</td>\n",
       "      <td>0.027669</td>\n",
       "      <td>0</td>\n",
       "      <td>0</td>\n",
       "      <td>6426.0</td>\n",
       "      <td>1343.0</td>\n",
       "    </tr>\n",
       "    <tr>\n",
       "      <td>2</td>\n",
       "      <td>2.0</td>\n",
       "      <td>-11.163823</td>\n",
       "      <td>1.0</td>\n",
       "      <td>1.0</td>\n",
       "      <td>0.027669</td>\n",
       "      <td>1</td>\n",
       "      <td>0</td>\n",
       "      <td>1978.0</td>\n",
       "      <td>2.0</td>\n",
       "    </tr>\n",
       "    <tr>\n",
       "      <td>3</td>\n",
       "      <td>2.0</td>\n",
       "      <td>-11.163823</td>\n",
       "      <td>1.0</td>\n",
       "      <td>1.0</td>\n",
       "      <td>0.027669</td>\n",
       "      <td>0</td>\n",
       "      <td>0</td>\n",
       "      <td>766.0</td>\n",
       "      <td>1.0</td>\n",
       "    </tr>\n",
       "    <tr>\n",
       "      <td>4</td>\n",
       "      <td>21.0</td>\n",
       "      <td>-11.163823</td>\n",
       "      <td>1.0</td>\n",
       "      <td>1.0</td>\n",
       "      <td>0.027669</td>\n",
       "      <td>0</td>\n",
       "      <td>0</td>\n",
       "      <td>903.0</td>\n",
       "      <td>40.0</td>\n",
       "    </tr>\n",
       "  </tbody>\n",
       "</table>\n",
       "</div>"
      ],
      "text/plain": [
       "   Supply          T  Rooms  Peoples  Loss2019  Permanent_Residence  City  \\\n",
       "0     0.0 -11.163823    1.0      1.0  0.027669                    0     0   \n",
       "1     0.0 -11.163823    1.0      1.0  0.027669                    0     0   \n",
       "2     2.0 -11.163823    1.0      1.0  0.027669                    1     0   \n",
       "3     2.0 -11.163823    1.0      1.0  0.027669                    0     0   \n",
       "4    21.0 -11.163823    1.0      1.0  0.027669                    0     0   \n",
       "\n",
       "     2019  LastMonth  \n",
       "0   174.0        0.0  \n",
       "1  6426.0     1343.0  \n",
       "2  1978.0        2.0  \n",
       "3   766.0        1.0  \n",
       "4   903.0       40.0  "
      ]
     },
     "execution_count": 113,
     "metadata": {},
     "output_type": "execute_result"
    }
   ],
   "source": [
    "ds_sdsd_2.drop('Method', axis=1, inplace=True)\n",
    "ds_sdsd_2.drop('Consumer', axis=1, inplace=True)\n",
    "ds_sdsd_2.head()"
   ]
  },
  {
   "cell_type": "markdown",
   "metadata": {},
   "source": [
    "Удаляем столбец \"Loss2019\", он будет применен на следующем этапе для улучшения точности модели"
   ]
  },
  {
   "cell_type": "code",
   "execution_count": 114,
   "metadata": {},
   "outputs": [
    {
     "data": {
      "text/html": [
       "<div>\n",
       "<style scoped>\n",
       "    .dataframe tbody tr th:only-of-type {\n",
       "        vertical-align: middle;\n",
       "    }\n",
       "\n",
       "    .dataframe tbody tr th {\n",
       "        vertical-align: top;\n",
       "    }\n",
       "\n",
       "    .dataframe thead th {\n",
       "        text-align: right;\n",
       "    }\n",
       "</style>\n",
       "<table border=\"1\" class=\"dataframe\">\n",
       "  <thead>\n",
       "    <tr style=\"text-align: right;\">\n",
       "      <th></th>\n",
       "      <th>Supply</th>\n",
       "      <th>T</th>\n",
       "      <th>Rooms</th>\n",
       "      <th>Peoples</th>\n",
       "      <th>Permanent_Residence</th>\n",
       "      <th>City</th>\n",
       "      <th>2019</th>\n",
       "      <th>LastMonth</th>\n",
       "    </tr>\n",
       "  </thead>\n",
       "  <tbody>\n",
       "    <tr>\n",
       "      <td>0</td>\n",
       "      <td>0.0</td>\n",
       "      <td>-11.163823</td>\n",
       "      <td>1.0</td>\n",
       "      <td>1.0</td>\n",
       "      <td>0</td>\n",
       "      <td>0</td>\n",
       "      <td>174.0</td>\n",
       "      <td>0.0</td>\n",
       "    </tr>\n",
       "    <tr>\n",
       "      <td>1</td>\n",
       "      <td>0.0</td>\n",
       "      <td>-11.163823</td>\n",
       "      <td>1.0</td>\n",
       "      <td>1.0</td>\n",
       "      <td>0</td>\n",
       "      <td>0</td>\n",
       "      <td>6426.0</td>\n",
       "      <td>1343.0</td>\n",
       "    </tr>\n",
       "    <tr>\n",
       "      <td>2</td>\n",
       "      <td>2.0</td>\n",
       "      <td>-11.163823</td>\n",
       "      <td>1.0</td>\n",
       "      <td>1.0</td>\n",
       "      <td>1</td>\n",
       "      <td>0</td>\n",
       "      <td>1978.0</td>\n",
       "      <td>2.0</td>\n",
       "    </tr>\n",
       "    <tr>\n",
       "      <td>3</td>\n",
       "      <td>2.0</td>\n",
       "      <td>-11.163823</td>\n",
       "      <td>1.0</td>\n",
       "      <td>1.0</td>\n",
       "      <td>0</td>\n",
       "      <td>0</td>\n",
       "      <td>766.0</td>\n",
       "      <td>1.0</td>\n",
       "    </tr>\n",
       "    <tr>\n",
       "      <td>4</td>\n",
       "      <td>21.0</td>\n",
       "      <td>-11.163823</td>\n",
       "      <td>1.0</td>\n",
       "      <td>1.0</td>\n",
       "      <td>0</td>\n",
       "      <td>0</td>\n",
       "      <td>903.0</td>\n",
       "      <td>40.0</td>\n",
       "    </tr>\n",
       "  </tbody>\n",
       "</table>\n",
       "</div>"
      ],
      "text/plain": [
       "   Supply          T  Rooms  Peoples  Permanent_Residence  City    2019  \\\n",
       "0     0.0 -11.163823    1.0      1.0                    0     0   174.0   \n",
       "1     0.0 -11.163823    1.0      1.0                    0     0  6426.0   \n",
       "2     2.0 -11.163823    1.0      1.0                    1     0  1978.0   \n",
       "3     2.0 -11.163823    1.0      1.0                    0     0   766.0   \n",
       "4    21.0 -11.163823    1.0      1.0                    0     0   903.0   \n",
       "\n",
       "   LastMonth  \n",
       "0        0.0  \n",
       "1     1343.0  \n",
       "2        2.0  \n",
       "3        1.0  \n",
       "4       40.0  "
      ]
     },
     "execution_count": 114,
     "metadata": {},
     "output_type": "execute_result"
    }
   ],
   "source": [
    "ds_sdsd_2.drop('Loss2019', axis=1, inplace=True)\n",
    "ds_sdsd_2.head()"
   ]
  },
  {
   "cell_type": "markdown",
   "metadata": {},
   "source": [
    "Датасет ds_sdsd_2 сформирован, устраняем снова выбросы"
   ]
  },
  {
   "cell_type": "code",
   "execution_count": 115,
   "metadata": {},
   "outputs": [
    {
     "data": {
      "image/png": "[encoded data removed]",
      "text/plain": [
       "<Figure size 432x288 with 1 Axes>"
      ]
     },
     "metadata": {
      "needs_background": "light"
     },
     "output_type": "display_data"
    },
    {
     "data": {
      "image/png": "[encoded data removed]",
      "text/plain": [
       "<Figure size 432x288 with 1 Axes>"
      ]
     },
     "metadata": {
      "needs_background": "light"
     },
     "output_type": "display_data"
    },
    {
     "data": {
      "image/png": "[encoded data removed]",
      "text/plain": [
       "<Figure size 432x288 with 1 Axes>"
      ]
     },
     "metadata": {
      "needs_background": "light"
     },
     "output_type": "display_data"
    },
    {
     "data": {
      "image/png": "[encoded data removed]",
      "text/plain": [
       "<Figure size 432x288 with 1 Axes>"
      ]
     },
     "metadata": {
      "needs_background": "light"
     },
     "output_type": "display_data"
    },
    {
     "data": {
      "image/png": "[encoded data removed]",
      "text/plain": [
       "<Figure size 432x288 with 1 Axes>"
      ]
     },
     "metadata": {
      "needs_background": "light"
     },
     "output_type": "display_data"
    }
   ],
   "source": [
    "sns.boxplot(y=\"Supply\", data=ds_sdsd_2)\n",
    "plt.show()\n",
    "sns.boxplot(y=\"2019\", data=ds_sdsd_2)\n",
    "plt.show()\n",
    "sns.boxplot(y=\"LastMonth\", data=ds_sdsd_2)\n",
    "plt.show()\n",
    "sns.boxplot(y=\"Peoples\", data=ds_sdsd_2)\n",
    "plt.show()\n",
    "sns.boxplot(y=\"Rooms\", data=ds_sdsd_2)\n",
    "plt.show()"
   ]
  },
  {
   "cell_type": "code",
   "execution_count": 116,
   "metadata": {},
   "outputs": [],
   "source": [
    "ds_sdsd_2 = ds_sdsd_2[ds_sdsd_2['Supply'] >=1]\n",
    "ds_sdsd_2 = ds_sdsd_2[ds_sdsd_2['2019'] >=1]\n",
    "ds_sdsd_2 = ds_sdsd_2[ds_sdsd_2['LastMonth'] >=1]\n",
    "ds_sdsd_2 = ds_sdsd_2[ds_sdsd_2['Supply'] <4000]\n",
    "ds_sdsd_2 = ds_sdsd_2[ds_sdsd_2['2019'] <50000]\n",
    "ds_sdsd_2 = ds_sdsd_2[ds_sdsd_2['LastMonth'] <4000]\n",
    "ds_sdsd_2 = ds_sdsd_2[ds_sdsd_2['Peoples'] <10]\n",
    "ds_sdsd_2 = ds_sdsd_2[ds_sdsd_2['Rooms'] <10]"
   ]
  },
  {
   "cell_type": "code",
   "execution_count": 117,
   "metadata": {},
   "outputs": [
    {
     "data": {
      "image/png": "[encoded data removed]",
      "text/plain": [
       "<Figure size 432x288 with 1 Axes>"
      ]
     },
     "metadata": {
      "needs_background": "light"
     },
     "output_type": "display_data"
    },
    {
     "data": {
      "image/png": "[encoded data removed]",
      "text/plain": [
       "<Figure size 432x288 with 1 Axes>"
      ]
     },
     "metadata": {
      "needs_background": "light"
     },
     "output_type": "display_data"
    },
    {
     "data": {
      "image/png": "[encoded data removed]",
      "text/plain": [
       "<Figure size 432x288 with 1 Axes>"
      ]
     },
     "metadata": {
      "needs_background": "light"
     },
     "output_type": "display_data"
    },
    {
     "data": {
      "image/png": "[encoded data removed]",
      "text/plain": [
       "<Figure size 432x288 with 1 Axes>"
      ]
     },
     "metadata": {
      "needs_background": "light"
     },
     "output_type": "display_data"
    },
    {
     "data": {
      "image/png": "[encoded data removed]",
      "text/plain": [
       "<Figure size 432x288 with 1 Axes>"
      ]
     },
     "metadata": {
      "needs_background": "light"
     },
     "output_type": "display_data"
    }
   ],
   "source": [
    "sns.boxplot(y=\"Supply\", data=ds_sdsd_2)\n",
    "plt.show()\n",
    "sns.boxplot(y=\"2019\", data=ds_sdsd_2)\n",
    "plt.show()\n",
    "sns.boxplot(y=\"LastMonth\", data=ds_sdsd_2)\n",
    "plt.show()\n",
    "sns.boxplot(y=\"Peoples\", data=ds_sdsd_2)\n",
    "plt.show()\n",
    "sns.boxplot(y=\"Rooms\", data=ds_sdsd_2)\n",
    "plt.show()"
   ]
  },
  {
   "cell_type": "code",
   "execution_count": 118,
   "metadata": {},
   "outputs": [
    {
     "data": {
      "text/plain": [
       "<matplotlib.axes._subplots.AxesSubplot at 0x29b0b762c48>"
      ]
     },
     "execution_count": 118,
     "metadata": {},
     "output_type": "execute_result"
    },
    {
     "data": {
      "image/png": "[encoded data removed]",
      "text/plain": [
       "<Figure size 432x432 with 2 Axes>"
      ]
     },
     "metadata": {
      "needs_background": "light"
     },
     "output_type": "display_data"
    }
   ],
   "source": [
    "f, ax = plt.subplots(figsize=(6, 6))\n",
    "corr = np.round_(ds_sdsd_2.corr(), decimals=2)\n",
    "sns.heatmap(corr,annot=False,cmap='RdYlGn',linewidths=0.2)"
   ]
  },
  {
   "cell_type": "markdown",
   "metadata": {},
   "source": [
    "Линейная регрессия"
   ]
  },
  {
   "cell_type": "code",
   "execution_count": 119,
   "metadata": {},
   "outputs": [
    {
     "data": {
      "text/plain": [
       "LinearRegression(copy_X=True, fit_intercept=True, n_jobs=None, normalize=False)"
      ]
     },
     "execution_count": 119,
     "metadata": {},
     "output_type": "execute_result"
    }
   ],
   "source": [
    "X_train, X_test, y_train, y_test = train_test_split(ds_sdsd_2[['T', 'Rooms', 'Peoples', 'Permanent_Residence','City','2019','LastMonth']], ds_sdsd_2['Supply'], test_size=0.3)\n",
    "model = LinearRegression()\n",
    "model.fit(X_train, y_train)"
   ]
  },
  {
   "cell_type": "code",
   "execution_count": 120,
   "metadata": {},
   "outputs": [
    {
     "name": "stdout",
     "output_type": "stream",
     "text": [
      "Качество модели на тестовых данных: 0.5805375471773521 \n",
      "Качество модели на тренировочных данных: 0.5822145896792679\n",
      "Mean Absolute Error (MAE): 173.7967112338439\n",
      "Mean Squared Error (MSE): 102877.21635249541\n",
      "Root Mean Squared Error (RMSE): 320.74478382741535\n",
      "Mean Absolute Percentage Error (MAPE): 467.78\n",
      "Model score: 0.5805375471773521\n",
      "R2 score: 0.5805375471773521\n"
     ]
    }
   ],
   "source": [
    "r_train = model.score(X_train, y_train)\n",
    "r_test = model.score(X_test, y_test)\n",
    "print('Качество модели на тестовых данных:', r_test, '\\nКачество модели на тренировочных данных:', r_train)\n",
    "model_pred = model.predict(X_test)\n",
    "print('Mean Absolute Error (MAE):', mean_absolute_error(y_test, model_pred))\n",
    "print('Mean Squared Error (MSE):', mean_squared_error(y_test, model_pred))\n",
    "print('Root Mean Squared Error (RMSE):', np.sqrt(mean_squared_error(y_test, model_pred)))\n",
    "mape = np.mean(np.abs((y_test - model_pred) / np.abs(y_test)))\n",
    "print('Mean Absolute Percentage Error (MAPE):', round(mape * 100, 2))\n",
    "print('Model score:', model.score(X_test, y_test))\n",
    "print('R2 score:', r2_score(y_test, model_pred))"
   ]
  },
  {
   "cell_type": "code",
   "execution_count": 121,
   "metadata": {},
   "outputs": [
    {
     "name": "stdout",
     "output_type": "stream",
     "text": [
      "Прогноз потребления населением на тестовом наборе данных:  67284181.0 кВт*ч\n",
      "Фактическое потребления населением на тестовом наборе данных:  67542386.0 кВт*ч\n",
      "Разница между фактом и прогнозом, абсолют: 258205.0 кВт*ч  процент: 0.3838 %\n"
     ]
    }
   ],
   "source": [
    "sum_pred = sum(model_pred)\n",
    "sum_fact = sum(y_test)\n",
    "print('Прогноз потребления населением на тестовом наборе данных: ',round(sum_pred,0),'кВт*ч')\n",
    "print('Фактическое потребления населением на тестовом наборе данных: ',round(sum_fact,0),'кВт*ч')\n",
    "print('Разница между фактом и прогнозом, абсолют:',round(sum_fact - sum_pred,0),'кВт*ч', \n",
    "      ' процент:', round(100*np.abs((sum_fact - sum_pred))/sum_pred,4),'%')"
   ]
  },
  {
   "cell_type": "markdown",
   "metadata": {},
   "source": [
    "Случайный лес"
   ]
  },
  {
   "cell_type": "code",
   "execution_count": 122,
   "metadata": {},
   "outputs": [
    {
     "data": {
      "text/plain": [
       "RandomForestRegressor(bootstrap=True, ccp_alpha=0.0, criterion='mse',\n",
       "                      max_depth=None, max_features='auto', max_leaf_nodes=None,\n",
       "                      max_samples=None, min_impurity_decrease=0.0,\n",
       "                      min_impurity_split=None, min_samples_leaf=1,\n",
       "                      min_samples_split=2, min_weight_fraction_leaf=0.0,\n",
       "                      n_estimators=100, n_jobs=4, oob_score=False,\n",
       "                      random_state=1, verbose=0, warm_start=False)"
      ]
     },
     "execution_count": 122,
     "metadata": {},
     "output_type": "execute_result"
    }
   ],
   "source": [
    "X_train, X_test, y_train, y_test = train_test_split(ds_sdsd_2[['T', 'Rooms', 'Peoples', 'Permanent_Residence','City','2019','LastMonth']], ds_sdsd_2['Supply'], test_size=0.3)\n",
    "model_rf=RandomForestRegressor(n_estimators=100, max_features='auto', n_jobs=4, random_state=1)\n",
    "model_rf.fit(X_train,y_train)"
   ]
  },
  {
   "cell_type": "code",
   "execution_count": 123,
   "metadata": {},
   "outputs": [
    {
     "name": "stdout",
     "output_type": "stream",
     "text": [
      "Mean Absolute Error (MAE): 106.44879836418555\n",
      "Mean Squared Error (MSE): 60495.16715911842\n",
      "Root Mean Squared Error (RMSE): 245.95765318265342\n",
      "Mean Absolute Percentage Error (MAPE): 181.27\n",
      "Model score: 0.7505675258325037\n",
      "R2 score: 0.7505675258325037\n"
     ]
    }
   ],
   "source": [
    "model_pred = model_rf.predict(X_test)\n",
    "print('Mean Absolute Error (MAE):', mean_absolute_error(y_test, model_pred))\n",
    "print('Mean Squared Error (MSE):', mean_squared_error(y_test, model_pred))\n",
    "print('Root Mean Squared Error (RMSE):', np.sqrt(mean_squared_error(y_test, model_pred)))\n",
    "mape = np.mean(np.abs((y_test - model_pred) / np.abs(y_test)))\n",
    "print('Mean Absolute Percentage Error (MAPE):', round(mape * 100, 2))\n",
    "print('Model score:', model_rf.score(X_test, y_test))\n",
    "print('R2 score:', r2_score(y_test, model_pred))"
   ]
  },
  {
   "cell_type": "code",
   "execution_count": 124,
   "metadata": {},
   "outputs": [
    {
     "name": "stdout",
     "output_type": "stream",
     "text": [
      "Прогноз потребления населением на тестовом наборе данных:  67858685.0 кВт*ч\n",
      "Фактическое потребления населением на тестовом наборе данных:  67259847.0 кВт*ч\n",
      "Разница между фактом и прогнозом, абсолют: -598838.0 кВт*ч  процент: 0.8825 %\n"
     ]
    }
   ],
   "source": [
    "sum_pred = sum(model_pred)\n",
    "sum_fact = sum(y_test)\n",
    "print('Прогноз потребления населением на тестовом наборе данных: ',round(sum_pred,0),'кВт*ч')\n",
    "print('Фактическое потребления населением на тестовом наборе данных: ',round(sum_fact,0),'кВт*ч')\n",
    "print('Разница между фактом и прогнозом, абсолют:',round(sum_fact - sum_pred,0),'кВт*ч', \n",
    "      ' процент:', round(100*np.abs((sum_fact - sum_pred))/sum_pred,4),'%')"
   ]
  },
  {
   "cell_type": "code",
   "execution_count": 125,
   "metadata": {},
   "outputs": [
    {
     "data": {
      "image/png": "[encoded data removed]",
      "text/plain": [
       "<Figure size 864x288 with 1 Axes>"
      ]
     },
     "metadata": {
      "needs_background": "light"
     },
     "output_type": "display_data"
    }
   ],
   "source": [
    "headers = list(X_train.columns.values)\n",
    "feature_imp = pd.Series(model_rf.feature_importances_,index=headers).sort_values(ascending=False)\n",
    "f, ax = plt.subplots(figsize=(12, 4))\n",
    "sns.barplot(x=feature_imp, y=feature_imp.index)\n",
    "plt.xlabel('Важность признаков')\n",
    "plt.ylabel('Признаки')\n",
    "plt.title(\"Наиболее важные признаки\")\n",
    "plt.show()"
   ]
  },
  {
   "cell_type": "markdown",
   "metadata": {},
   "source": [
    "### Этап 8. Градиентный бустинг (GradientBoostingRegressor)"
   ]
  },
  {
   "cell_type": "code",
   "execution_count": 126,
   "metadata": {},
   "outputs": [
    {
     "data": {
      "text/plain": [
       "GradientBoostingRegressor(alpha=0.9, ccp_alpha=0.0, criterion='friedman_mse',\n",
       "                          init=None, learning_rate=0.1, loss='ls', max_depth=3,\n",
       "                          max_features=None, max_leaf_nodes=None,\n",
       "                          min_impurity_decrease=0.0, min_impurity_split=None,\n",
       "                          min_samples_leaf=1, min_samples_split=2,\n",
       "                          min_weight_fraction_leaf=0.0, n_estimators=100,\n",
       "                          n_iter_no_change=None, presort='deprecated',\n",
       "                          random_state=None, subsample=1.0, tol=0.0001,\n",
       "                          validation_fraction=0.1, verbose=0, warm_start=False)"
      ]
     },
     "execution_count": 126,
     "metadata": {},
     "output_type": "execute_result"
    }
   ],
   "source": [
    "X_train, X_test, y_train, y_test = train_test_split(ds_sdsd_2[['T', 'Rooms', 'Peoples', 'Permanent_Residence','City','2019','LastMonth']], ds_sdsd_2['Supply'], test_size=0.3)\n",
    "model_gbr = GradientBoostingRegressor()\n",
    "model_gbr.fit(X_train,y_train)"
   ]
  },
  {
   "cell_type": "code",
   "execution_count": 127,
   "metadata": {},
   "outputs": [
    {
     "name": "stdout",
     "output_type": "stream",
     "text": [
      "Mean Absolute Error (MAE): 120.82973148456058\n",
      "Mean Squared Error (MSE): 68533.31201254645\n",
      "Root Mean Squared Error (RMSE): 261.788678159592\n",
      "Mean Absolute Percentage Error (MAPE): 262.36\n",
      "Model score: 0.7184459423142469\n",
      "R2 score: 0.7184459423142469\n"
     ]
    }
   ],
   "source": [
    "model_pred = model_gbr.predict(X_test)\n",
    "print('Mean Absolute Error (MAE):', mean_absolute_error(y_test, model_pred))\n",
    "print('Mean Squared Error (MSE):', mean_squared_error(y_test, model_pred))\n",
    "print('Root Mean Squared Error (RMSE):', np.sqrt(mean_squared_error(y_test, model_pred)))\n",
    "mape = np.mean(np.abs((y_test - model_pred) / np.abs(y_test)))\n",
    "print('Mean Absolute Percentage Error (MAPE):', round(mape * 100, 2))\n",
    "print('Model score:', model_gbr.score(X_test, y_test))\n",
    "print('R2 score:', r2_score(y_test, model_pred))"
   ]
  },
  {
   "cell_type": "code",
   "execution_count": 128,
   "metadata": {},
   "outputs": [
    {
     "name": "stdout",
     "output_type": "stream",
     "text": [
      "Прогноз потребления населением на тестовом наборе данных:  67207725.0 кВт*ч\n",
      "Фактическое потребления населением на тестовом наборе данных:  67172966.0 кВт*ч\n",
      "Разница между фактом и прогнозом, абсолют: -34759.0 кВт*ч  процент: 0.0517 %\n"
     ]
    }
   ],
   "source": [
    "sum_pred = sum(model_pred)\n",
    "sum_fact = sum(y_test)\n",
    "print('Прогноз потребления населением на тестовом наборе данных: ',round(sum_pred,0),'кВт*ч')\n",
    "print('Фактическое потребления населением на тестовом наборе данных: ',round(sum_fact,0),'кВт*ч')\n",
    "print('Разница между фактом и прогнозом, абсолют:',round(sum_fact - sum_pred,0),'кВт*ч', \n",
    "      ' процент:', round(100*np.abs((sum_fact - sum_pred))/sum_pred,4),'%')"
   ]
  },
  {
   "cell_type": "markdown",
   "metadata": {},
   "source": [
    "Вывод: Пока результаты модели чуть похуже, чем у Случайного леса."
   ]
  },
  {
   "cell_type": "markdown",
   "metadata": {},
   "source": [
    "### Этап 9. Добавление нового признака - потери электроэнергии за 2019 год, применение 3-х моделей, сравнение результатов"
   ]
  },
  {
   "cell_type": "markdown",
   "metadata": {},
   "source": [
    "9.1. Создаем новый датасет ds_sdsd_3 из основного датасета ds_supply, делаем снова очистку данных и т.д."
   ]
  },
  {
   "cell_type": "code",
   "execution_count": 129,
   "metadata": {},
   "outputs": [
    {
     "data": {
      "text/html": [
       "<div>\n",
       "<style scoped>\n",
       "    .dataframe tbody tr th:only-of-type {\n",
       "        vertical-align: middle;\n",
       "    }\n",
       "\n",
       "    .dataframe tbody tr th {\n",
       "        vertical-align: top;\n",
       "    }\n",
       "\n",
       "    .dataframe thead th {\n",
       "        text-align: right;\n",
       "    }\n",
       "</style>\n",
       "<table border=\"1\" class=\"dataframe\">\n",
       "  <thead>\n",
       "    <tr style=\"text-align: right;\">\n",
       "      <th></th>\n",
       "      <th>Supply</th>\n",
       "      <th>T</th>\n",
       "      <th>Rooms</th>\n",
       "      <th>Peoples</th>\n",
       "      <th>Loss2019</th>\n",
       "      <th>Permanent_Residence</th>\n",
       "      <th>City</th>\n",
       "      <th>2019</th>\n",
       "      <th>LastMonth</th>\n",
       "    </tr>\n",
       "  </thead>\n",
       "  <tbody>\n",
       "    <tr>\n",
       "      <td>0</td>\n",
       "      <td>0.0</td>\n",
       "      <td>-11.163823</td>\n",
       "      <td>1.0</td>\n",
       "      <td>1.0</td>\n",
       "      <td>0.027669</td>\n",
       "      <td>0</td>\n",
       "      <td>0</td>\n",
       "      <td>174.0</td>\n",
       "      <td>0.0</td>\n",
       "    </tr>\n",
       "    <tr>\n",
       "      <td>1</td>\n",
       "      <td>0.0</td>\n",
       "      <td>-11.163823</td>\n",
       "      <td>1.0</td>\n",
       "      <td>1.0</td>\n",
       "      <td>0.027669</td>\n",
       "      <td>0</td>\n",
       "      <td>0</td>\n",
       "      <td>6426.0</td>\n",
       "      <td>1343.0</td>\n",
       "    </tr>\n",
       "    <tr>\n",
       "      <td>2</td>\n",
       "      <td>2.0</td>\n",
       "      <td>-11.163823</td>\n",
       "      <td>1.0</td>\n",
       "      <td>1.0</td>\n",
       "      <td>0.027669</td>\n",
       "      <td>1</td>\n",
       "      <td>0</td>\n",
       "      <td>1978.0</td>\n",
       "      <td>2.0</td>\n",
       "    </tr>\n",
       "    <tr>\n",
       "      <td>3</td>\n",
       "      <td>2.0</td>\n",
       "      <td>-11.163823</td>\n",
       "      <td>1.0</td>\n",
       "      <td>1.0</td>\n",
       "      <td>0.027669</td>\n",
       "      <td>0</td>\n",
       "      <td>0</td>\n",
       "      <td>766.0</td>\n",
       "      <td>1.0</td>\n",
       "    </tr>\n",
       "    <tr>\n",
       "      <td>4</td>\n",
       "      <td>21.0</td>\n",
       "      <td>-11.163823</td>\n",
       "      <td>1.0</td>\n",
       "      <td>1.0</td>\n",
       "      <td>0.027669</td>\n",
       "      <td>0</td>\n",
       "      <td>0</td>\n",
       "      <td>903.0</td>\n",
       "      <td>40.0</td>\n",
       "    </tr>\n",
       "  </tbody>\n",
       "</table>\n",
       "</div>"
      ],
      "text/plain": [
       "   Supply          T  Rooms  Peoples  Loss2019  Permanent_Residence  City  \\\n",
       "0     0.0 -11.163823    1.0      1.0  0.027669                    0     0   \n",
       "1     0.0 -11.163823    1.0      1.0  0.027669                    0     0   \n",
       "2     2.0 -11.163823    1.0      1.0  0.027669                    1     0   \n",
       "3     2.0 -11.163823    1.0      1.0  0.027669                    0     0   \n",
       "4    21.0 -11.163823    1.0      1.0  0.027669                    0     0   \n",
       "\n",
       "     2019  LastMonth  \n",
       "0   174.0        0.0  \n",
       "1  6426.0     1343.0  \n",
       "2  1978.0        2.0  \n",
       "3   766.0        1.0  \n",
       "4   903.0       40.0  "
      ]
     },
     "execution_count": 129,
     "metadata": {},
     "output_type": "execute_result"
    }
   ],
   "source": [
    "ds_sdsd_3 = ds_supply.copy()\n",
    "ds_sdsd_3 = ds_sdsd_3[ds_sdsd_3['Method']=='ЛС-СДСД']\n",
    "ds_sdsd_3 = ds_sdsd_3.merge(ds_sum, how = 'left', left_on='Consumer', right_on='Consumer')\n",
    "ds_sdsd_3 = ds_sdsd_3.merge(ds_month, how = 'left', left_on='Consumer', right_on='Consumer')\n",
    "ds_sdsd_3.drop('Method', axis=1, inplace=True)\n",
    "ds_sdsd_3.drop('Consumer', axis=1, inplace=True)\n",
    "ds_sdsd_3.head()"
   ]
  },
  {
   "cell_type": "code",
   "execution_count": 130,
   "metadata": {},
   "outputs": [],
   "source": [
    "ds_sdsd_3 = ds_sdsd_3[ds_sdsd_3['Supply'] >=1]\n",
    "ds_sdsd_3 = ds_sdsd_3[ds_sdsd_3['2019'] >=1]\n",
    "ds_sdsd_3 = ds_sdsd_3[ds_sdsd_3['LastMonth'] >=1]\n",
    "ds_sdsd_3 = ds_sdsd_3[ds_sdsd_3['Supply'] <4000]\n",
    "ds_sdsd_3 = ds_sdsd_3[ds_sdsd_3['2019'] <50000]\n",
    "ds_sdsd_3 = ds_sdsd_3[ds_sdsd_3['LastMonth'] <4000]\n",
    "ds_sdsd_3 = ds_sdsd_3[ds_sdsd_3['Peoples'] <10]\n",
    "ds_sdsd_3 = ds_sdsd_3[ds_sdsd_3['Rooms'] <10]"
   ]
  },
  {
   "cell_type": "code",
   "execution_count": 131,
   "metadata": {},
   "outputs": [
    {
     "data": {
      "text/plain": [
       "<matplotlib.axes._subplots.AxesSubplot at 0x29b0d213d08>"
      ]
     },
     "execution_count": 131,
     "metadata": {},
     "output_type": "execute_result"
    },
    {
     "data": {
      "image/png": "[encoded data removed]",
      "text/plain": [
       "<Figure size 432x432 with 2 Axes>"
      ]
     },
     "metadata": {
      "needs_background": "light"
     },
     "output_type": "display_data"
    }
   ],
   "source": [
    "f, ax = plt.subplots(figsize=(6, 6))\n",
    "corr = np.round_(ds_sdsd_3.corr(), decimals=2)\n",
    "sns.heatmap(corr,annot=False,cmap='RdYlGn',linewidths=0.2)"
   ]
  },
  {
   "cell_type": "markdown",
   "metadata": {},
   "source": [
    "9.2. Линейная регрессия"
   ]
  },
  {
   "cell_type": "code",
   "execution_count": 132,
   "metadata": {},
   "outputs": [
    {
     "data": {
      "text/plain": [
       "LinearRegression(copy_X=True, fit_intercept=True, n_jobs=None, normalize=False)"
      ]
     },
     "execution_count": 132,
     "metadata": {},
     "output_type": "execute_result"
    }
   ],
   "source": [
    "X_train, X_test, y_train, y_test = train_test_split(ds_sdsd_3[['T', 'Rooms', 'Peoples', 'Loss2019', 'Permanent_Residence','City','2019','LastMonth']], ds_sdsd_3['Supply'], test_size=0.3)\n",
    "model = LinearRegression()\n",
    "model.fit(X_train, y_train)"
   ]
  },
  {
   "cell_type": "code",
   "execution_count": 133,
   "metadata": {},
   "outputs": [
    {
     "name": "stdout",
     "output_type": "stream",
     "text": [
      "Качество модели на тестовых данных: 0.5777674497360669 \n",
      "Качество модели на тренировочных данных: 0.583477375626288\n",
      "Mean Absolute Error (MAE): 173.9612301181976\n",
      "Mean Squared Error (MSE): 103061.49675767668\n",
      "Root Mean Squared Error (RMSE): 321.0319248262962\n",
      "Mean Absolute Percentage Error (MAPE): 475.71\n",
      "Model score: 0.5777674497360669\n",
      "R2 score: 0.5777674497360669\n"
     ]
    }
   ],
   "source": [
    "r_train = model.score(X_train, y_train)\n",
    "r_test = model.score(X_test, y_test)\n",
    "print('Качество модели на тестовых данных:', r_test, '\\nКачество модели на тренировочных данных:', r_train)\n",
    "model_pred = model.predict(X_test)\n",
    "print('Mean Absolute Error (MAE):', mean_absolute_error(y_test, model_pred))\n",
    "print('Mean Squared Error (MSE):', mean_squared_error(y_test, model_pred))\n",
    "print('Root Mean Squared Error (RMSE):', np.sqrt(mean_squared_error(y_test, model_pred)))\n",
    "mape = np.mean(np.abs((y_test - model_pred) / np.abs(y_test)))\n",
    "print('Mean Absolute Percentage Error (MAPE):', round(mape * 100, 2))\n",
    "print('Model score:', model.score(X_test, y_test))\n",
    "print('R2 score:', r2_score(y_test, model_pred))"
   ]
  },
  {
   "cell_type": "code",
   "execution_count": 134,
   "metadata": {},
   "outputs": [
    {
     "name": "stdout",
     "output_type": "stream",
     "text": [
      "Прогноз потребления населением на тестовом наборе данных:  67580560.0 кВт*ч\n",
      "Фактическое потребления населением на тестовом наборе данных:  67474151.0 кВт*ч\n",
      "Разница между фактом и прогнозом, абсолют: -106409.0 кВт*ч  процент: 0.1575 %\n"
     ]
    }
   ],
   "source": [
    "sum_pred = sum(model_pred)\n",
    "sum_fact = sum(y_test)\n",
    "print('Прогноз потребления населением на тестовом наборе данных: ',round(sum_pred,0),'кВт*ч')\n",
    "print('Фактическое потребления населением на тестовом наборе данных: ',round(sum_fact,0),'кВт*ч')\n",
    "print('Разница между фактом и прогнозом, абсолют:',round(sum_fact - sum_pred,0),'кВт*ч', \n",
    "      ' процент:', round(100*np.abs((sum_fact - sum_pred))/sum_pred,4),'%')"
   ]
  },
  {
   "cell_type": "markdown",
   "metadata": {},
   "source": [
    "9.3. Случайный лес"
   ]
  },
  {
   "cell_type": "code",
   "execution_count": 135,
   "metadata": {},
   "outputs": [
    {
     "data": {
      "text/plain": [
       "RandomForestRegressor(bootstrap=True, ccp_alpha=0.0, criterion='mse',\n",
       "                      max_depth=None, max_features='auto', max_leaf_nodes=None,\n",
       "                      max_samples=None, min_impurity_decrease=0.0,\n",
       "                      min_impurity_split=None, min_samples_leaf=1,\n",
       "                      min_samples_split=2, min_weight_fraction_leaf=0.0,\n",
       "                      n_estimators=100, n_jobs=4, oob_score=False,\n",
       "                      random_state=1, verbose=0, warm_start=False)"
      ]
     },
     "execution_count": 135,
     "metadata": {},
     "output_type": "execute_result"
    }
   ],
   "source": [
    "X_train, X_test, y_train, y_test = train_test_split(ds_sdsd_3[['T', 'Rooms', 'Peoples', 'Loss2019', 'Permanent_Residence','City','2019','LastMonth']], ds_sdsd_3['Supply'], test_size=0.3)\n",
    "model_rf=RandomForestRegressor(n_estimators=100, max_features='auto', n_jobs=4, random_state=1)\n",
    "model_rf.fit(X_train,y_train)"
   ]
  },
  {
   "cell_type": "code",
   "execution_count": 136,
   "metadata": {},
   "outputs": [
    {
     "name": "stdout",
     "output_type": "stream",
     "text": [
      "Mean Absolute Error (MAE): 104.06557217649559\n",
      "Mean Squared Error (MSE): 58699.296354820195\n",
      "Root Mean Squared Error (RMSE): 242.27937666012804\n",
      "Mean Absolute Percentage Error (MAPE): 173.83\n",
      "Model score: 0.7584918468772976\n",
      "R2 score: 0.7584918468772976\n"
     ]
    }
   ],
   "source": [
    "model_pred = model_rf.predict(X_test)\n",
    "print('Mean Absolute Error (MAE):', mean_absolute_error(y_test, model_pred))\n",
    "print('Mean Squared Error (MSE):', mean_squared_error(y_test, model_pred))\n",
    "print('Root Mean Squared Error (RMSE):', np.sqrt(mean_squared_error(y_test, model_pred)))\n",
    "mape = np.mean(np.abs((y_test - model_pred) / np.abs(y_test)))\n",
    "print('Mean Absolute Percentage Error (MAPE):', round(mape * 100, 2))\n",
    "print('Model score:', model_rf.score(X_test, y_test))\n",
    "print('R2 score:', r2_score(y_test, model_pred))"
   ]
  },
  {
   "cell_type": "code",
   "execution_count": 137,
   "metadata": {},
   "outputs": [
    {
     "name": "stdout",
     "output_type": "stream",
     "text": [
      "Прогноз потребления населением на тестовом наборе данных:  68056727.0 кВт*ч\n",
      "Фактическое потребления населением на тестовом наборе данных:  67453058.0 кВт*ч\n",
      "Разница между фактом и прогнозом, абсолют: -603669.0 кВт*ч  процент: 0.887 %\n"
     ]
    }
   ],
   "source": [
    "sum_pred = sum(model_pred)\n",
    "sum_fact = sum(y_test)\n",
    "print('Прогноз потребления населением на тестовом наборе данных: ',round(sum_pred,0),'кВт*ч')\n",
    "print('Фактическое потребления населением на тестовом наборе данных: ',round(sum_fact,0),'кВт*ч')\n",
    "print('Разница между фактом и прогнозом, абсолют:',round(sum_fact - sum_pred,0),'кВт*ч', \n",
    "      ' процент:', round(100*np.abs((sum_fact - sum_pred))/sum_pred,4),'%')"
   ]
  },
  {
   "cell_type": "code",
   "execution_count": 138,
   "metadata": {},
   "outputs": [
    {
     "data": {
      "image/png": "[encoded data removed]",
      "text/plain": [
       "<Figure size 864x288 with 1 Axes>"
      ]
     },
     "metadata": {
      "needs_background": "light"
     },
     "output_type": "display_data"
    }
   ],
   "source": [
    "headers = list(X_train.columns.values)\n",
    "feature_imp = pd.Series(model_rf.feature_importances_,index=headers).sort_values(ascending=False)\n",
    "f, ax = plt.subplots(figsize=(12, 4))\n",
    "sns.barplot(x=feature_imp, y=feature_imp.index)\n",
    "plt.xlabel('Важность признаков')\n",
    "plt.ylabel('Признаки')\n",
    "plt.title(\"Наиболее важные признаки\")\n",
    "plt.show()"
   ]
  },
  {
   "cell_type": "markdown",
   "metadata": {},
   "source": [
    "9.4. Градиентный бустинг"
   ]
  },
  {
   "cell_type": "code",
   "execution_count": 139,
   "metadata": {},
   "outputs": [
    {
     "data": {
      "text/plain": [
       "GradientBoostingRegressor(alpha=0.9, ccp_alpha=0.0, criterion='friedman_mse',\n",
       "                          init=None, learning_rate=0.1, loss='ls', max_depth=3,\n",
       "                          max_features=None, max_leaf_nodes=None,\n",
       "                          min_impurity_decrease=0.0, min_impurity_split=None,\n",
       "                          min_samples_leaf=1, min_samples_split=2,\n",
       "                          min_weight_fraction_leaf=0.0, n_estimators=100,\n",
       "                          n_iter_no_change=None, presort='deprecated',\n",
       "                          random_state=None, subsample=1.0, tol=0.0001,\n",
       "                          validation_fraction=0.1, verbose=0, warm_start=False)"
      ]
     },
     "execution_count": 139,
     "metadata": {},
     "output_type": "execute_result"
    }
   ],
   "source": [
    "X_train, X_test, y_train, y_test = train_test_split(ds_sdsd_3[['T', 'Rooms', 'Peoples', 'Loss2019', 'Permanent_Residence','City','2019','LastMonth']], ds_sdsd_3['Supply'], test_size=0.3)\n",
    "model_gbr = GradientBoostingRegressor()\n",
    "model_gbr.fit(X_train,y_train)"
   ]
  },
  {
   "cell_type": "code",
   "execution_count": 140,
   "metadata": {},
   "outputs": [
    {
     "name": "stdout",
     "output_type": "stream",
     "text": [
      "Mean Absolute Error (MAE): 121.07994357794159\n",
      "Mean Squared Error (MSE): 68169.91021588935\n",
      "Root Mean Squared Error (RMSE): 261.0936809191087\n",
      "Mean Absolute Percentage Error (MAPE): 257.28\n",
      "Model score: 0.7202775785653951\n",
      "R2 score: 0.7202775785653951\n"
     ]
    }
   ],
   "source": [
    "model_pred = model_gbr.predict(X_test)\n",
    "print('Mean Absolute Error (MAE):', mean_absolute_error(y_test, model_pred))\n",
    "print('Mean Squared Error (MSE):', mean_squared_error(y_test, model_pred))\n",
    "print('Root Mean Squared Error (RMSE):', np.sqrt(mean_squared_error(y_test, model_pred)))\n",
    "mape = np.mean(np.abs((y_test - model_pred) / np.abs(y_test)))\n",
    "print('Mean Absolute Percentage Error (MAPE):', round(mape * 100, 2))\n",
    "print('Model score:', model_gbr.score(X_test, y_test))\n",
    "print('R2 score:', r2_score(y_test, model_pred))"
   ]
  },
  {
   "cell_type": "code",
   "execution_count": 141,
   "metadata": {},
   "outputs": [
    {
     "name": "stdout",
     "output_type": "stream",
     "text": [
      "Прогноз потребления населением на тестовом наборе данных:  67468435.0 кВт*ч\n",
      "Фактическое потребления населением на тестовом наборе данных:  67347261.0 кВт*ч\n",
      "Разница между фактом и прогнозом, абсолют: -121174.0 кВт*ч  процент: 0.1796 %\n"
     ]
    }
   ],
   "source": [
    "sum_pred = sum(model_pred)\n",
    "sum_fact = sum(y_test)\n",
    "print('Прогноз потребления населением на тестовом наборе данных: ',round(sum_pred,0),'кВт*ч')\n",
    "print('Фактическое потребления населением на тестовом наборе данных: ',round(sum_fact,0),'кВт*ч')\n",
    "print('Разница между фактом и прогнозом, абсолют:',round(sum_fact - sum_pred,0),'кВт*ч', \n",
    "      ' процент:', round(100*np.abs((sum_fact - sum_pred))/sum_pred,4),'%')"
   ]
  },
  {
   "cell_type": "markdown",
   "metadata": {},
   "source": [
    "### Этап 10. Гиперпараметрическая оптимизация модели градиентного бустинга. Случайный поиск с перекрёстной проверкой"
   ]
  },
  {
   "cell_type": "markdown",
   "metadata": {},
   "source": [
    "Устанавливаем параметры"
   ]
  },
  {
   "cell_type": "code",
   "execution_count": 142,
   "metadata": {},
   "outputs": [],
   "source": [
    "# Loss function to be optimized\n",
    "loss = ['ls', 'lad', 'huber']\n",
    "# Number of trees used in the boosting process\n",
    "n_estimators = [int(x) for x in np.linspace(start = 10, stop = 500, num = 50)]\n",
    "# Maximum depth of each tree\n",
    "max_depth = [2, 3, 5, 10, 20]\n",
    "# Minimum number of samples per leaf\n",
    "min_samples_leaf = [1, 2, 4, 8]\n",
    "# Minimum number of samples to split a node\n",
    "min_samples_split = [2, 4, 6, 10, 20]\n",
    "# Maximum number of features to consider for making splits\n",
    "max_features = ['auto', 'sqrt', 'log2', None]\n",
    "# Define the grid of hyperparameters to search\n",
    "hyperparameter_grid = {'loss': loss,\n",
    "    'n_estimators': n_estimators,\n",
    "    'max_depth': max_depth,\n",
    "    'min_samples_leaf': min_samples_leaf,\n",
    "    'min_samples_split': min_samples_split,\n",
    "    'max_features': max_features}"
   ]
  },
  {
   "cell_type": "markdown",
   "metadata": {},
   "source": [
    "Получаем наилучшие параметры модели"
   ]
  },
  {
   "cell_type": "code",
   "execution_count": 143,
   "metadata": {},
   "outputs": [
    {
     "name": "stdout",
     "output_type": "stream",
     "text": [
      "Fitting 4 folds for each of 50 candidates, totalling 200 fits\n"
     ]
    },
    {
     "name": "stderr",
     "output_type": "stream",
     "text": [
      "[Parallel(n_jobs=4)]: Using backend LokyBackend with 4 concurrent workers.\n",
      "[Parallel(n_jobs=4)]: Done  42 tasks      | elapsed: 117.3min\n",
      "[Parallel(n_jobs=4)]: Done 192 tasks      | elapsed: 370.9min\n",
      "[Parallel(n_jobs=4)]: Done 200 out of 200 | elapsed: 373.4min finished\n"
     ]
    },
    {
     "name": "stdout",
     "output_type": "stream",
     "text": [
      "Wall time: 6h 21min 25s\n"
     ]
    },
    {
     "data": {
      "text/plain": [
       "GradientBoostingRegressor(alpha=0.9, ccp_alpha=0.0, criterion='friedman_mse',\n",
       "                          init=None, learning_rate=0.1, loss='huber',\n",
       "                          max_depth=10, max_features='log2',\n",
       "                          max_leaf_nodes=None, min_impurity_decrease=0.0,\n",
       "                          min_impurity_split=None, min_samples_leaf=2,\n",
       "                          min_samples_split=4, min_weight_fraction_leaf=0.0,\n",
       "                          n_estimators=440, n_iter_no_change=None,\n",
       "                          presort='deprecated', random_state=42, subsample=1.0,\n",
       "                          tol=0.0001, validation_fraction=0.1, verbose=0,\n",
       "                          warm_start=False)"
      ]
     },
     "execution_count": 143,
     "metadata": {},
     "output_type": "execute_result"
    }
   ],
   "source": [
    "%%time\n",
    "# Create the model to use for hyperparameter tuning\n",
    "model_gbr_cv = GradientBoostingRegressor(random_state = 42)\n",
    "# Set up the random search with 4-fold cross validation\n",
    "random_cv = RandomizedSearchCV(estimator=model_gbr_cv,\n",
    "    param_distributions=hyperparameter_grid,\n",
    "    cv=4, n_iter=50, \n",
    "    scoring = 'neg_mean_absolute_error',\n",
    "    n_jobs = 4, verbose = 1, \n",
    "    return_train_score = True,\n",
    "    random_state=42)\n",
    "# Fit on the training data\n",
    "random_cv.fit(X_train,y_train) \n",
    "# Find the best combination of settings\n",
    "random_cv.best_estimator_"
   ]
  },
  {
   "cell_type": "markdown",
   "metadata": {},
   "source": [
    "Наилучшие параметры на заданных интервалах:\n",
    "- loss='huber'\n",
    "- n_estimators=440\n",
    "- max_depth=10\n",
    "- min_samples_leaf=2\n",
    "- min_samples_split=4\n",
    "- max_features='log2'"
   ]
  },
  {
   "cell_type": "markdown",
   "metadata": {},
   "source": [
    "Проверяем результат на наилучших параметрах и базовой модели"
   ]
  },
  {
   "cell_type": "code",
   "execution_count": 144,
   "metadata": {},
   "outputs": [],
   "source": [
    "def evaluate(model, test_features, test_labels):\n",
    "    model_pred = model.predict(test_features)\n",
    "    print('Model Performance')\n",
    "    mae = mean_absolute_error(test_labels, model_pred)\n",
    "    print('Mean Absolute Error (MAE):', mae)\n",
    "    print('Mean Squared Error (MSE):', mean_squared_error(test_labels, model_pred))\n",
    "    print('Root Mean Squared Error (RMSE):', np.sqrt(mean_squared_error(test_labels, model_pred)))\n",
    "    mape = np.mean(np.abs((test_labels - model_pred) / np.abs(test_labels)))\n",
    "    print('Mean Absolute Percentage Error (MAPE):', round(mape * 100, 2))\n",
    "    print('Model score:', model.score(test_features, test_labels))\n",
    "    \n",
    "    sum_pred = sum(model_pred)\n",
    "    sum_fact = sum(test_labels)\n",
    "    print('Прогноз потребления населением на тестовом наборе данных: ',round(sum_pred,0),'кВт*ч')\n",
    "    print('Фактическое потребления населением на тестовом наборе данных: ',round(sum_fact,0),'кВт*ч')\n",
    "    print('Разница между фактом и прогнозом, абсолют:',round(sum_fact - sum_pred,0),'кВт*ч', \n",
    "          ' процент:', round(100*np.abs((sum_fact - sum_pred))/sum_pred,4),'%')\n",
    "    \n",
    "    return mae"
   ]
  },
  {
   "cell_type": "code",
   "execution_count": 145,
   "metadata": {},
   "outputs": [
    {
     "name": "stdout",
     "output_type": "stream",
     "text": [
      "Model Performance\n",
      "Mean Absolute Error (MAE): 121.07994357794158\n",
      "Mean Squared Error (MSE): 68169.91021588938\n",
      "Root Mean Squared Error (RMSE): 261.09368091910875\n",
      "Mean Absolute Percentage Error (MAPE): 257.28\n",
      "Model score: 0.720277578565395\n",
      "Прогноз потребления населением на тестовом наборе данных:  67468435.0 кВт*ч\n",
      "Фактическое потребления населением на тестовом наборе данных:  67347261.0 кВт*ч\n",
      "Разница между фактом и прогнозом, абсолют: -121174.0 кВт*ч  процент: 0.1796 %\n",
      "Model Performance\n",
      "Mean Absolute Error (MAE): 97.68145684003775\n",
      "Mean Squared Error (MSE): 54942.78716281704\n",
      "Root Mean Squared Error (RMSE): 234.39877807449645\n",
      "Mean Absolute Percentage Error (MAPE): 157.73\n",
      "Model score: 0.7745525934114097\n",
      "Прогноз потребления населением на тестовом наборе данных:  65299877.0 кВт*ч\n",
      "Фактическое потребления населением на тестовом наборе данных:  67347261.0 кВт*ч\n",
      "Разница между фактом и прогнозом, абсолют: 2047384.0 кВт*ч  процент: 3.1354 %\n",
      "Улучшение на 19.32%.\n"
     ]
    }
   ],
   "source": [
    "base_model = GradientBoostingRegressor(n_estimators = 100, random_state = 42)\n",
    "base_model.fit(X_train,y_train)\n",
    "base_mae = evaluate(base_model, X_test, y_test)\n",
    "\n",
    "best_random = random_cv.best_estimator_\n",
    "best_random_mae = evaluate(best_random, X_test, y_test)\n",
    "\n",
    "print('Улучшение на {:0.2f}%.'.format(100 * (-1) * (best_random_mae - base_mae) / base_mae))"
   ]
  },
  {
   "cell_type": "code",
   "execution_count": null,
   "metadata": {},
   "outputs": [],
   "source": []
  }
 ],
 "metadata": {
  "kernelspec": {
   "display_name": "Python 3",
   "language": "python",
   "name": "python3"
  },
  "language_info": {
   "codemirror_mode": {
    "name": "ipython",
    "version": 3
   },
   "file_extension": ".py",
   "mimetype": "text/x-python",
   "name": "python",
   "nbconvert_exporter": "python",
   "pygments_lexer": "ipython3",
   "version": "3.7.4"
  }
 },
 "nbformat": 4,
 "nbformat_minor": 2
}
