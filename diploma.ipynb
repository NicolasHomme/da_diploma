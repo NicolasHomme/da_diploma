{
 "cells": [
  {
   "cell_type": "markdown",
   "metadata": {},
   "source": [
    "### Дипломная работа Н.В.Чепурных, студент курса \"Аналитик данных\"\n",
    "### Научный руководитель: Алексей Кузьмин\n",
    "Тема: прогнозирование ежемесячного потребления электрической энергии физическими лицами в электросетевой компании.\n",
    "\n",
    "Этапы работ:\n",
    "- Этап 1. Загрузка и объединение данных\n",
    "- Этап 2. Обработка данных\n",
    "- Этап 3. Применение модели Линейной регрессии\n",
    "- Этап 4. Анализ данных, выбросы\n",
    "- Этап 5. Модель \"Random forest\"\n"
   ]
  },
  {
   "cell_type": "markdown",
   "metadata": {},
   "source": [
    "Загрузка библиотек:"
   ]
  },
  {
   "cell_type": "code",
   "execution_count": 45,
   "metadata": {
    "scrolled": true
   },
   "outputs": [],
   "source": [
    "import os\n",
    "import pandas as pd\n",
    "import re\n",
    "import numpy as np\n",
    "import matplotlib.pyplot as plt\n",
    "import seaborn as sns\n",
    "%matplotlib inline"
   ]
  },
  {
   "cell_type": "markdown",
   "metadata": {},
   "source": [
    "### Этап 1. Загрузка и объединение данных"
   ]
  },
  {
   "cell_type": "markdown",
   "metadata": {},
   "source": [
    "1.1. Загрузка данных по полезному отпуску электроэнергии за период 2019-2020"
   ]
  },
  {
   "cell_type": "code",
   "execution_count": 2,
   "metadata": {},
   "outputs": [
    {
     "name": "stdout",
     "output_type": "stream",
     "text": [
      "Обработан файл: ./Data/Supply/2019 01.xlsx  - загружено строк: 361365\n",
      "Обработан файл: ./Data/Supply/2019 02.xlsx  - загружено строк: 361384\n",
      "Обработан файл: ./Data/Supply/2019 03.xlsx  - загружено строк: 361888\n",
      "Обработан файл: ./Data/Supply/2019 04.xlsx  - загружено строк: 368771\n",
      "Обработан файл: ./Data/Supply/2019 05.xlsx  - загружено строк: 373635\n",
      "Обработан файл: ./Data/Supply/2019 06.xlsx  - загружено строк: 377873\n",
      "Обработан файл: ./Data/Supply/2019 07.xlsx  - загружено строк: 377808\n",
      "Обработан файл: ./Data/Supply/2019 08.xlsx  - загружено строк: 376587\n",
      "Обработан файл: ./Data/Supply/2019 09.xlsx  - загружено строк: 374118\n",
      "Обработан файл: ./Data/Supply/2019 10.xlsx  - загружено строк: 379904\n",
      "Обработан файл: ./Data/Supply/2019 11.xlsx  - загружено строк: 375713\n",
      "Обработан файл: ./Data/Supply/2019 12.xlsx  - загружено строк: 370133\n",
      "Обработан файл: ./Data/Supply/2020 01.xlsx  - загружено строк: 360223\n",
      "Обработан файл: ./Data/Supply/2020 02.xlsx  - загружено строк: 362710\n",
      "Обработан файл: ./Data/Supply/2020 03.xlsx  - загружено строк: 363867\n",
      "Всего строк загружено:  5545979\n",
      "Wall time: 10min 24s\n"
     ]
    }
   ],
   "source": [
    "%%time\n",
    "dirName = './Data/Supply/'\n",
    "supply_all = []\n",
    "for name in os.listdir(dirName):\n",
    "    fullname = os.path.join(dirName, name) # получаем полное имя\n",
    "    if os.path.isfile(fullname):\n",
    "        df = pd.read_excel(fullname)\n",
    "        print (\"Обработан файл:\", fullname, \" - загружено строк:\", len(df))\n",
    "        supply_all.append(df)\n",
    "supply_temp = pd.concat(supply_all,axis=0,ignore_index=True)\n",
    "print(\"Всего строк загружено: \", len(supply_temp))"
   ]
  },
  {
   "cell_type": "code",
   "execution_count": 3,
   "metadata": {},
   "outputs": [
    {
     "data": {
      "text/html": [
       "<div>\n",
       "<style scoped>\n",
       "    .dataframe tbody tr th:only-of-type {\n",
       "        vertical-align: middle;\n",
       "    }\n",
       "\n",
       "    .dataframe tbody tr th {\n",
       "        vertical-align: top;\n",
       "    }\n",
       "\n",
       "    .dataframe thead th {\n",
       "        text-align: right;\n",
       "    }\n",
       "</style>\n",
       "<table border=\"1\" class=\"dataframe\">\n",
       "  <thead>\n",
       "    <tr style=\"text-align: right;\">\n",
       "      <th></th>\n",
       "      <th>Method</th>\n",
       "      <th>Consumer</th>\n",
       "      <th>Building</th>\n",
       "      <th>Supply</th>\n",
       "      <th>Status</th>\n",
       "      <th>Period</th>\n",
       "    </tr>\n",
       "  </thead>\n",
       "  <tbody>\n",
       "    <tr>\n",
       "      <td>0</td>\n",
       "      <td>ЛС-СДСД</td>\n",
       "      <td>66700000233</td>\n",
       "      <td>дача</td>\n",
       "      <td>0.0</td>\n",
       "      <td>неоспар.</td>\n",
       "      <td>01-2019</td>\n",
       "    </tr>\n",
       "    <tr>\n",
       "      <td>1</td>\n",
       "      <td>ЛС-СДСД</td>\n",
       "      <td>66700000410</td>\n",
       "      <td>дача</td>\n",
       "      <td>0.0</td>\n",
       "      <td>неоспар.</td>\n",
       "      <td>01-2019</td>\n",
       "    </tr>\n",
       "    <tr>\n",
       "      <td>2</td>\n",
       "      <td>ЛС-СДСД</td>\n",
       "      <td>66700000431</td>\n",
       "      <td>част. ж/дом</td>\n",
       "      <td>2.0</td>\n",
       "      <td>неоспар.</td>\n",
       "      <td>01-2019</td>\n",
       "    </tr>\n",
       "    <tr>\n",
       "      <td>3</td>\n",
       "      <td>ЛС-СДСД</td>\n",
       "      <td>66700000557</td>\n",
       "      <td>дача</td>\n",
       "      <td>2.0</td>\n",
       "      <td>неоспар.</td>\n",
       "      <td>01-2019</td>\n",
       "    </tr>\n",
       "    <tr>\n",
       "      <td>4</td>\n",
       "      <td>ЛС-СДСД</td>\n",
       "      <td>66700000575</td>\n",
       "      <td>дача</td>\n",
       "      <td>21.0</td>\n",
       "      <td>неоспар.</td>\n",
       "      <td>01-2019</td>\n",
       "    </tr>\n",
       "    <tr>\n",
       "      <td>...</td>\n",
       "      <td>...</td>\n",
       "      <td>...</td>\n",
       "      <td>...</td>\n",
       "      <td>...</td>\n",
       "      <td>...</td>\n",
       "      <td>...</td>\n",
       "    </tr>\n",
       "    <tr>\n",
       "      <td>5545974</td>\n",
       "      <td>ЛС-ЭНОРМ</td>\n",
       "      <td>69198110501</td>\n",
       "      <td>дача</td>\n",
       "      <td>0.0</td>\n",
       "      <td>неоспар.</td>\n",
       "      <td>03-2020</td>\n",
       "    </tr>\n",
       "    <tr>\n",
       "      <td>5545975</td>\n",
       "      <td>ЛС-ЭНОРМ</td>\n",
       "      <td>69198110514</td>\n",
       "      <td>дача</td>\n",
       "      <td>145.0</td>\n",
       "      <td>неоспар.</td>\n",
       "      <td>03-2020</td>\n",
       "    </tr>\n",
       "    <tr>\n",
       "      <td>5545976</td>\n",
       "      <td>ЛС-ЭНОРМ</td>\n",
       "      <td>69198110624</td>\n",
       "      <td>дача</td>\n",
       "      <td>145.0</td>\n",
       "      <td>неоспар.</td>\n",
       "      <td>03-2020</td>\n",
       "    </tr>\n",
       "    <tr>\n",
       "      <td>5545977</td>\n",
       "      <td>ЛС-ЭНОРМ</td>\n",
       "      <td>69198110718</td>\n",
       "      <td>дача</td>\n",
       "      <td>145.0</td>\n",
       "      <td>неоспар.</td>\n",
       "      <td>03-2020</td>\n",
       "    </tr>\n",
       "    <tr>\n",
       "      <td>5545978</td>\n",
       "      <td>ЛС-ЭНОРМ</td>\n",
       "      <td>69198999972</td>\n",
       "      <td>дача</td>\n",
       "      <td>145.0</td>\n",
       "      <td>неоспар.</td>\n",
       "      <td>03-2020</td>\n",
       "    </tr>\n",
       "  </tbody>\n",
       "</table>\n",
       "<p>5545979 rows × 6 columns</p>\n",
       "</div>"
      ],
      "text/plain": [
       "           Method     Consumer     Building  Supply    Status   Period\n",
       "0         ЛС-СДСД  66700000233         дача     0.0  неоспар.  01-2019\n",
       "1         ЛС-СДСД  66700000410         дача     0.0  неоспар.  01-2019\n",
       "2         ЛС-СДСД  66700000431  част. ж/дом     2.0  неоспар.  01-2019\n",
       "3         ЛС-СДСД  66700000557         дача     2.0  неоспар.  01-2019\n",
       "4         ЛС-СДСД  66700000575         дача    21.0  неоспар.  01-2019\n",
       "...           ...          ...          ...     ...       ...      ...\n",
       "5545974  ЛС-ЭНОРМ  69198110501         дача     0.0  неоспар.  03-2020\n",
       "5545975  ЛС-ЭНОРМ  69198110514         дача   145.0  неоспар.  03-2020\n",
       "5545976  ЛС-ЭНОРМ  69198110624         дача   145.0  неоспар.  03-2020\n",
       "5545977  ЛС-ЭНОРМ  69198110718         дача   145.0  неоспар.  03-2020\n",
       "5545978  ЛС-ЭНОРМ  69198999972         дача   145.0  неоспар.  03-2020\n",
       "\n",
       "[5545979 rows x 6 columns]"
      ]
     },
     "execution_count": 3,
     "metadata": {},
     "output_type": "execute_result"
    }
   ],
   "source": [
    "supply_temp"
   ]
  },
  {
   "cell_type": "markdown",
   "metadata": {},
   "source": [
    "1.2. Загрузка данных по погоде с 2018 года  по апрель 2020 года.\n",
    "\n",
    "Сайт с архивом погоды: https://rp5.ru/%D0%90%D1%80%D1%85%D0%B8%D0%B2_%D0%BF%D0%BE%D0%B3%D0%BE%D0%B4%D1%8B_%D0%B2_%D0%9F%D0%B5%D1%80%D0%BC%D0%B8,_%D0%91%D0%BE%D0%BB%D1%8C%D1%88%D0%BE%D0%BC_%D0%A1%D0%B0%D0%B2%D0%B8%D0%BD%D0%BE_(%D0%B0%D1%8D%D1%80%D0%BE%D0%BF%D0%BE%D1%80%D1%82),_METAR"
   ]
  },
  {
   "cell_type": "code",
   "execution_count": 4,
   "metadata": {},
   "outputs": [
    {
     "name": "stdout",
     "output_type": "stream",
     "text": [
      "Обработан файл: ./Data/perm_weather_2018.csv  - загружено строк: 39987\n",
      "Wall time: 488 ms\n"
     ]
    }
   ],
   "source": [
    "%%time\n",
    "dirName = './Data/'\n",
    "name = 'perm_weather_2018.csv'\n",
    "fullname = os.path.join(dirName, name) # получаем полное имя\n",
    "if os.path.isfile(fullname):\n",
    "    weather_temp = pd.read_csv(fullname, sep = ';', encoding = \"ISO-8859-1\", engine='python')\n",
    "    print (\"Обработан файл:\", fullname, \" - загружено строк:\", len(weather_temp))\n",
    "else: \n",
    "    print (\"Ошибка загрузки:\", fullname)"
   ]
  },
  {
   "cell_type": "code",
   "execution_count": 5,
   "metadata": {},
   "outputs": [
    {
     "data": {
      "text/html": [
       "<div>\n",
       "<style scoped>\n",
       "    .dataframe tbody tr th:only-of-type {\n",
       "        vertical-align: middle;\n",
       "    }\n",
       "\n",
       "    .dataframe tbody tr th {\n",
       "        vertical-align: top;\n",
       "    }\n",
       "\n",
       "    .dataframe thead th {\n",
       "        text-align: right;\n",
       "    }\n",
       "</style>\n",
       "<table border=\"1\" class=\"dataframe\">\n",
       "  <thead>\n",
       "    <tr style=\"text-align: right;\">\n",
       "      <th></th>\n",
       "      <th>local time Perm</th>\n",
       "      <th>T</th>\n",
       "    </tr>\n",
       "  </thead>\n",
       "  <tbody>\n",
       "    <tr>\n",
       "      <td>0</td>\n",
       "      <td>28.04.2020 23:30</td>\n",
       "      <td>8.0</td>\n",
       "    </tr>\n",
       "    <tr>\n",
       "      <td>1</td>\n",
       "      <td>28.04.2020 23:00</td>\n",
       "      <td>8.0</td>\n",
       "    </tr>\n",
       "    <tr>\n",
       "      <td>2</td>\n",
       "      <td>28.04.2020 22:30</td>\n",
       "      <td>8.0</td>\n",
       "    </tr>\n",
       "    <tr>\n",
       "      <td>3</td>\n",
       "      <td>28.04.2020 22:00</td>\n",
       "      <td>8.0</td>\n",
       "    </tr>\n",
       "    <tr>\n",
       "      <td>4</td>\n",
       "      <td>28.04.2020 21:30</td>\n",
       "      <td>8.0</td>\n",
       "    </tr>\n",
       "  </tbody>\n",
       "</table>\n",
       "</div>"
      ],
      "text/plain": [
       "    local time Perm    T\n",
       "0  28.04.2020 23:30  8.0\n",
       "1  28.04.2020 23:00  8.0\n",
       "2  28.04.2020 22:30  8.0\n",
       "3  28.04.2020 22:00  8.0\n",
       "4  28.04.2020 21:30  8.0"
      ]
     },
     "execution_count": 5,
     "metadata": {},
     "output_type": "execute_result"
    }
   ],
   "source": [
    "weather_temp.head()"
   ]
  },
  {
   "cell_type": "markdown",
   "metadata": {},
   "source": [
    "Преобразовываем строковый параметр к виду mm-yyyy и группируем по месяцам. Получаем среднемесячную температуру."
   ]
  },
  {
   "cell_type": "code",
   "execution_count": 6,
   "metadata": {},
   "outputs": [],
   "source": [
    "weather_temp['local time Perm'] = weather_temp['local time Perm'].str.extract('(\\d{2}.\\d{2}.\\d{4})')\n",
    "weather_temp['local time Perm'] = weather_temp['local time Perm'].str.replace(r'^...','').str.replace('.','-')"
   ]
  },
  {
   "cell_type": "code",
   "execution_count": 7,
   "metadata": {},
   "outputs": [
    {
     "data": {
      "text/html": [
       "<div>\n",
       "<style scoped>\n",
       "    .dataframe tbody tr th:only-of-type {\n",
       "        vertical-align: middle;\n",
       "    }\n",
       "\n",
       "    .dataframe tbody tr th {\n",
       "        vertical-align: top;\n",
       "    }\n",
       "\n",
       "    .dataframe thead th {\n",
       "        text-align: right;\n",
       "    }\n",
       "</style>\n",
       "<table border=\"1\" class=\"dataframe\">\n",
       "  <thead>\n",
       "    <tr style=\"text-align: right;\">\n",
       "      <th></th>\n",
       "      <th>local time Perm</th>\n",
       "      <th>T</th>\n",
       "    </tr>\n",
       "  </thead>\n",
       "  <tbody>\n",
       "    <tr>\n",
       "      <td>0</td>\n",
       "      <td>01-2018</td>\n",
       "      <td>-11.211210</td>\n",
       "    </tr>\n",
       "    <tr>\n",
       "      <td>1</td>\n",
       "      <td>01-2019</td>\n",
       "      <td>-11.163823</td>\n",
       "    </tr>\n",
       "    <tr>\n",
       "      <td>2</td>\n",
       "      <td>01-2020</td>\n",
       "      <td>-6.307012</td>\n",
       "    </tr>\n",
       "    <tr>\n",
       "      <td>3</td>\n",
       "      <td>02-2018</td>\n",
       "      <td>-12.592873</td>\n",
       "    </tr>\n",
       "    <tr>\n",
       "      <td>4</td>\n",
       "      <td>02-2019</td>\n",
       "      <td>-9.677711</td>\n",
       "    </tr>\n",
       "  </tbody>\n",
       "</table>\n",
       "</div>"
      ],
      "text/plain": [
       "  local time Perm          T\n",
       "0         01-2018 -11.211210\n",
       "1         01-2019 -11.163823\n",
       "2         01-2020  -6.307012\n",
       "3         02-2018 -12.592873\n",
       "4         02-2019  -9.677711"
      ]
     },
     "execution_count": 7,
     "metadata": {},
     "output_type": "execute_result"
    }
   ],
   "source": [
    "weather = weather_temp.groupby('local time Perm').agg({'T': 'mean'}).reset_index()\n",
    "weather.head()"
   ]
  },
  {
   "cell_type": "markdown",
   "metadata": {},
   "source": [
    "Добавляем среднемесячную температуру в датасет supply"
   ]
  },
  {
   "cell_type": "code",
   "execution_count": 8,
   "metadata": {},
   "outputs": [
    {
     "data": {
      "text/html": [
       "<div>\n",
       "<style scoped>\n",
       "    .dataframe tbody tr th:only-of-type {\n",
       "        vertical-align: middle;\n",
       "    }\n",
       "\n",
       "    .dataframe tbody tr th {\n",
       "        vertical-align: top;\n",
       "    }\n",
       "\n",
       "    .dataframe thead th {\n",
       "        text-align: right;\n",
       "    }\n",
       "</style>\n",
       "<table border=\"1\" class=\"dataframe\">\n",
       "  <thead>\n",
       "    <tr style=\"text-align: right;\">\n",
       "      <th></th>\n",
       "      <th>Method</th>\n",
       "      <th>Consumer</th>\n",
       "      <th>Building</th>\n",
       "      <th>Supply</th>\n",
       "      <th>Status</th>\n",
       "      <th>Period</th>\n",
       "      <th>T</th>\n",
       "    </tr>\n",
       "  </thead>\n",
       "  <tbody>\n",
       "    <tr>\n",
       "      <td>0</td>\n",
       "      <td>ЛС-СДСД</td>\n",
       "      <td>66700000233</td>\n",
       "      <td>дача</td>\n",
       "      <td>0.0</td>\n",
       "      <td>неоспар.</td>\n",
       "      <td>01-2019</td>\n",
       "      <td>-11.163823</td>\n",
       "    </tr>\n",
       "    <tr>\n",
       "      <td>1</td>\n",
       "      <td>ЛС-СДСД</td>\n",
       "      <td>66700000410</td>\n",
       "      <td>дача</td>\n",
       "      <td>0.0</td>\n",
       "      <td>неоспар.</td>\n",
       "      <td>01-2019</td>\n",
       "      <td>-11.163823</td>\n",
       "    </tr>\n",
       "    <tr>\n",
       "      <td>2</td>\n",
       "      <td>ЛС-СДСД</td>\n",
       "      <td>66700000431</td>\n",
       "      <td>част. ж/дом</td>\n",
       "      <td>2.0</td>\n",
       "      <td>неоспар.</td>\n",
       "      <td>01-2019</td>\n",
       "      <td>-11.163823</td>\n",
       "    </tr>\n",
       "    <tr>\n",
       "      <td>3</td>\n",
       "      <td>ЛС-СДСД</td>\n",
       "      <td>66700000557</td>\n",
       "      <td>дача</td>\n",
       "      <td>2.0</td>\n",
       "      <td>неоспар.</td>\n",
       "      <td>01-2019</td>\n",
       "      <td>-11.163823</td>\n",
       "    </tr>\n",
       "    <tr>\n",
       "      <td>4</td>\n",
       "      <td>ЛС-СДСД</td>\n",
       "      <td>66700000575</td>\n",
       "      <td>дача</td>\n",
       "      <td>21.0</td>\n",
       "      <td>неоспар.</td>\n",
       "      <td>01-2019</td>\n",
       "      <td>-11.163823</td>\n",
       "    </tr>\n",
       "  </tbody>\n",
       "</table>\n",
       "</div>"
      ],
      "text/plain": [
       "    Method     Consumer     Building  Supply    Status   Period          T\n",
       "0  ЛС-СДСД  66700000233         дача     0.0  неоспар.  01-2019 -11.163823\n",
       "1  ЛС-СДСД  66700000410         дача     0.0  неоспар.  01-2019 -11.163823\n",
       "2  ЛС-СДСД  66700000431  част. ж/дом     2.0  неоспар.  01-2019 -11.163823\n",
       "3  ЛС-СДСД  66700000557         дача     2.0  неоспар.  01-2019 -11.163823\n",
       "4  ЛС-СДСД  66700000575         дача    21.0  неоспар.  01-2019 -11.163823"
      ]
     },
     "execution_count": 8,
     "metadata": {},
     "output_type": "execute_result"
    }
   ],
   "source": [
    "supply = supply_temp.merge(weather, how = 'left', left_on='Period', right_on='local time Perm')\n",
    "supply.drop(['local time Perm'],axis=1, inplace=True)\n",
    "supply.head()"
   ]
  },
  {
   "cell_type": "markdown",
   "metadata": {},
   "source": [
    "1.3. Загружаем данные по потребителям: количество комнат и количество проживающих"
   ]
  },
  {
   "cell_type": "code",
   "execution_count": 9,
   "metadata": {},
   "outputs": [
    {
     "name": "stdout",
     "output_type": "stream",
     "text": [
      "Обработан файл: ./Data/RoomsPeoples.xlsx  - загружено строк: 397671\n",
      "Wall time: 29 s\n"
     ]
    }
   ],
   "source": [
    "%%time\n",
    "dirName = './Data/'\n",
    "name = 'RoomsPeoples.xlsx'\n",
    "fullname = os.path.join(dirName, name) # получаем полное имя\n",
    "if os.path.isfile(fullname):\n",
    "    RoomsPeoples = pd.read_excel(fullname)\n",
    "    print (\"Обработан файл:\", fullname, \" - загружено строк:\", len(RoomsPeoples))\n",
    "else: \n",
    "    print (\"Ошибка загрузки:\", fullname)"
   ]
  },
  {
   "cell_type": "code",
   "execution_count": 10,
   "metadata": {},
   "outputs": [
    {
     "data": {
      "text/html": [
       "<div>\n",
       "<style scoped>\n",
       "    .dataframe tbody tr th:only-of-type {\n",
       "        vertical-align: middle;\n",
       "    }\n",
       "\n",
       "    .dataframe tbody tr th {\n",
       "        vertical-align: top;\n",
       "    }\n",
       "\n",
       "    .dataframe thead th {\n",
       "        text-align: right;\n",
       "    }\n",
       "</style>\n",
       "<table border=\"1\" class=\"dataframe\">\n",
       "  <thead>\n",
       "    <tr style=\"text-align: right;\">\n",
       "      <th></th>\n",
       "      <th>Consumer</th>\n",
       "      <th>Rooms</th>\n",
       "      <th>Peoples</th>\n",
       "    </tr>\n",
       "  </thead>\n",
       "  <tbody>\n",
       "    <tr>\n",
       "      <td>0</td>\n",
       "      <td>62800121655</td>\n",
       "      <td>1.0</td>\n",
       "      <td>1.0</td>\n",
       "    </tr>\n",
       "    <tr>\n",
       "      <td>1</td>\n",
       "      <td>62840754350</td>\n",
       "      <td>1.0</td>\n",
       "      <td>1.0</td>\n",
       "    </tr>\n",
       "    <tr>\n",
       "      <td>2</td>\n",
       "      <td>00003</td>\n",
       "      <td>1.0</td>\n",
       "      <td>1.0</td>\n",
       "    </tr>\n",
       "    <tr>\n",
       "      <td>3</td>\n",
       "      <td>61007104593</td>\n",
       "      <td>1.0</td>\n",
       "      <td>1.0</td>\n",
       "    </tr>\n",
       "    <tr>\n",
       "      <td>4</td>\n",
       "      <td>61009048247</td>\n",
       "      <td>NaN</td>\n",
       "      <td>1.0</td>\n",
       "    </tr>\n",
       "  </tbody>\n",
       "</table>\n",
       "</div>"
      ],
      "text/plain": [
       "      Consumer  Rooms  Peoples\n",
       "0  62800121655    1.0      1.0\n",
       "1  62840754350    1.0      1.0\n",
       "2        00003    1.0      1.0\n",
       "3  61007104593    1.0      1.0\n",
       "4  61009048247    NaN      1.0"
      ]
     },
     "execution_count": 10,
     "metadata": {},
     "output_type": "execute_result"
    }
   ],
   "source": [
    "RoomsPeoples.head()"
   ]
  },
  {
   "cell_type": "markdown",
   "metadata": {},
   "source": [
    "Добавляем информацию в датасет supply"
   ]
  },
  {
   "cell_type": "code",
   "execution_count": 11,
   "metadata": {},
   "outputs": [
    {
     "data": {
      "text/html": [
       "<div>\n",
       "<style scoped>\n",
       "    .dataframe tbody tr th:only-of-type {\n",
       "        vertical-align: middle;\n",
       "    }\n",
       "\n",
       "    .dataframe tbody tr th {\n",
       "        vertical-align: top;\n",
       "    }\n",
       "\n",
       "    .dataframe thead th {\n",
       "        text-align: right;\n",
       "    }\n",
       "</style>\n",
       "<table border=\"1\" class=\"dataframe\">\n",
       "  <thead>\n",
       "    <tr style=\"text-align: right;\">\n",
       "      <th></th>\n",
       "      <th>Method</th>\n",
       "      <th>Consumer</th>\n",
       "      <th>Building</th>\n",
       "      <th>Supply</th>\n",
       "      <th>Status</th>\n",
       "      <th>Period</th>\n",
       "      <th>T</th>\n",
       "      <th>Rooms</th>\n",
       "      <th>Peoples</th>\n",
       "    </tr>\n",
       "  </thead>\n",
       "  <tbody>\n",
       "    <tr>\n",
       "      <td>0</td>\n",
       "      <td>ЛС-СДСД</td>\n",
       "      <td>66700000233</td>\n",
       "      <td>дача</td>\n",
       "      <td>0.0</td>\n",
       "      <td>неоспар.</td>\n",
       "      <td>01-2019</td>\n",
       "      <td>-11.163823</td>\n",
       "      <td>1.0</td>\n",
       "      <td>1.0</td>\n",
       "    </tr>\n",
       "    <tr>\n",
       "      <td>1</td>\n",
       "      <td>ЛС-СДСД</td>\n",
       "      <td>66700000410</td>\n",
       "      <td>дача</td>\n",
       "      <td>0.0</td>\n",
       "      <td>неоспар.</td>\n",
       "      <td>01-2019</td>\n",
       "      <td>-11.163823</td>\n",
       "      <td>1.0</td>\n",
       "      <td>1.0</td>\n",
       "    </tr>\n",
       "    <tr>\n",
       "      <td>2</td>\n",
       "      <td>ЛС-СДСД</td>\n",
       "      <td>66700000431</td>\n",
       "      <td>част. ж/дом</td>\n",
       "      <td>2.0</td>\n",
       "      <td>неоспар.</td>\n",
       "      <td>01-2019</td>\n",
       "      <td>-11.163823</td>\n",
       "      <td>1.0</td>\n",
       "      <td>1.0</td>\n",
       "    </tr>\n",
       "    <tr>\n",
       "      <td>3</td>\n",
       "      <td>ЛС-СДСД</td>\n",
       "      <td>66700000557</td>\n",
       "      <td>дача</td>\n",
       "      <td>2.0</td>\n",
       "      <td>неоспар.</td>\n",
       "      <td>01-2019</td>\n",
       "      <td>-11.163823</td>\n",
       "      <td>1.0</td>\n",
       "      <td>1.0</td>\n",
       "    </tr>\n",
       "    <tr>\n",
       "      <td>4</td>\n",
       "      <td>ЛС-СДСД</td>\n",
       "      <td>66700000575</td>\n",
       "      <td>дача</td>\n",
       "      <td>21.0</td>\n",
       "      <td>неоспар.</td>\n",
       "      <td>01-2019</td>\n",
       "      <td>-11.163823</td>\n",
       "      <td>1.0</td>\n",
       "      <td>1.0</td>\n",
       "    </tr>\n",
       "  </tbody>\n",
       "</table>\n",
       "</div>"
      ],
      "text/plain": [
       "    Method     Consumer     Building  Supply    Status   Period          T  \\\n",
       "0  ЛС-СДСД  66700000233         дача     0.0  неоспар.  01-2019 -11.163823   \n",
       "1  ЛС-СДСД  66700000410         дача     0.0  неоспар.  01-2019 -11.163823   \n",
       "2  ЛС-СДСД  66700000431  част. ж/дом     2.0  неоспар.  01-2019 -11.163823   \n",
       "3  ЛС-СДСД  66700000557         дача     2.0  неоспар.  01-2019 -11.163823   \n",
       "4  ЛС-СДСД  66700000575         дача    21.0  неоспар.  01-2019 -11.163823   \n",
       "\n",
       "   Rooms  Peoples  \n",
       "0    1.0      1.0  \n",
       "1    1.0      1.0  \n",
       "2    1.0      1.0  \n",
       "3    1.0      1.0  \n",
       "4    1.0      1.0  "
      ]
     },
     "execution_count": 11,
     "metadata": {},
     "output_type": "execute_result"
    }
   ],
   "source": [
    "supply = supply.merge(RoomsPeoples, how = 'left', left_on='Consumer', right_on='Consumer')\n",
    "supply.head()"
   ]
  },
  {
   "cell_type": "markdown",
   "metadata": {},
   "source": [
    "1.4. Загружаем данные по категориям потребителей из каталога /Data/Group/"
   ]
  },
  {
   "cell_type": "code",
   "execution_count": 12,
   "metadata": {},
   "outputs": [
    {
     "name": "stdout",
     "output_type": "stream",
     "text": [
      "Обработан файл: ./Data/Group/bes_filtered.xlsx  - загружено строк: 47614\n",
      "Обработан файл: ./Data/Group/ces_filtered.xlsx  - загружено строк: 103516\n",
      "Обработан файл: ./Data/Group/chaes_filtered.xlsx  - загружено строк: 83823\n",
      "Обработан файл: ./Data/Group/chues_filtered.xlsx  - загружено строк: 28754\n",
      "Обработан файл: ./Data/Group/kues_filtered.xlsx  - загружено строк: 80955\n",
      "Обработан файл: ./Data/Group/oches_filtered.xlsx  - загружено строк: 63447\n",
      "Обработан файл: ./Data/Group/pges_filtered.xlsx  - загружено строк: 101690\n",
      "Обработан файл: ./Data/Group/ses_filtered.xlsx  - загружено строк: 42740\n",
      "Всего строк загружено:  552539\n",
      "Wall time: 21.5 s\n"
     ]
    }
   ],
   "source": [
    "%%time\n",
    "dirName = './Data/Group/'\n",
    "group_all = []\n",
    "for name in os.listdir(dirName):\n",
    "    fullname = os.path.join(dirName, name) # получаем полное имя\n",
    "    if os.path.isfile(fullname):\n",
    "        dfg = pd.read_excel(fullname)\n",
    "        print (\"Обработан файл:\", fullname, \" - загружено строк:\", len(dfg))\n",
    "        group_all.append(dfg)\n",
    "group_temp = pd.concat(group_all,axis=0,ignore_index=True)\n",
    "print(\"Всего строк загружено: \", len(group_temp))"
   ]
  },
  {
   "cell_type": "code",
   "execution_count": 13,
   "metadata": {},
   "outputs": [
    {
     "data": {
      "text/html": [
       "<div>\n",
       "<style scoped>\n",
       "    .dataframe tbody tr th:only-of-type {\n",
       "        vertical-align: middle;\n",
       "    }\n",
       "\n",
       "    .dataframe tbody tr th {\n",
       "        vertical-align: top;\n",
       "    }\n",
       "\n",
       "    .dataframe thead th {\n",
       "        text-align: right;\n",
       "    }\n",
       "</style>\n",
       "<table border=\"1\" class=\"dataframe\">\n",
       "  <thead>\n",
       "    <tr style=\"text-align: right;\">\n",
       "      <th></th>\n",
       "      <th>Consumer</th>\n",
       "      <th>Group</th>\n",
       "    </tr>\n",
       "  </thead>\n",
       "  <tbody>\n",
       "    <tr>\n",
       "      <td>0</td>\n",
       "      <td>66700334153</td>\n",
       "      <td>Население сельское</td>\n",
       "    </tr>\n",
       "    <tr>\n",
       "      <td>1</td>\n",
       "      <td>66400019149</td>\n",
       "      <td>Население городское</td>\n",
       "    </tr>\n",
       "    <tr>\n",
       "      <td>2</td>\n",
       "      <td>66400042245</td>\n",
       "      <td>Население сельское</td>\n",
       "    </tr>\n",
       "    <tr>\n",
       "      <td>3</td>\n",
       "      <td>66400042147</td>\n",
       "      <td>Население сельское</td>\n",
       "    </tr>\n",
       "    <tr>\n",
       "      <td>4</td>\n",
       "      <td>66400042147</td>\n",
       "      <td>Население сельское</td>\n",
       "    </tr>\n",
       "  </tbody>\n",
       "</table>\n",
       "</div>"
      ],
      "text/plain": [
       "      Consumer                Group\n",
       "0  66700334153   Население сельское\n",
       "1  66400019149  Население городское\n",
       "2  66400042245   Население сельское\n",
       "3  66400042147   Население сельское\n",
       "4  66400042147   Население сельское"
      ]
     },
     "execution_count": 13,
     "metadata": {},
     "output_type": "execute_result"
    }
   ],
   "source": [
    "group_temp.head()"
   ]
  },
  {
   "cell_type": "markdown",
   "metadata": {},
   "source": [
    "Удаляем дубликаты"
   ]
  },
  {
   "cell_type": "code",
   "execution_count": 14,
   "metadata": {},
   "outputs": [
    {
     "name": "stdout",
     "output_type": "stream",
     "text": [
      "346300\n"
     ]
    }
   ],
   "source": [
    "group_temp.drop_duplicates(keep='first', inplace=True)\n",
    "print(len(group_temp))"
   ]
  },
  {
   "cell_type": "markdown",
   "metadata": {},
   "source": [
    "Добавляем информацию в датасет supply"
   ]
  },
  {
   "cell_type": "code",
   "execution_count": 15,
   "metadata": {},
   "outputs": [
    {
     "data": {
      "text/html": [
       "<div>\n",
       "<style scoped>\n",
       "    .dataframe tbody tr th:only-of-type {\n",
       "        vertical-align: middle;\n",
       "    }\n",
       "\n",
       "    .dataframe tbody tr th {\n",
       "        vertical-align: top;\n",
       "    }\n",
       "\n",
       "    .dataframe thead th {\n",
       "        text-align: right;\n",
       "    }\n",
       "</style>\n",
       "<table border=\"1\" class=\"dataframe\">\n",
       "  <thead>\n",
       "    <tr style=\"text-align: right;\">\n",
       "      <th></th>\n",
       "      <th>Method</th>\n",
       "      <th>Consumer</th>\n",
       "      <th>Building</th>\n",
       "      <th>Supply</th>\n",
       "      <th>Status</th>\n",
       "      <th>Period</th>\n",
       "      <th>T</th>\n",
       "      <th>Rooms</th>\n",
       "      <th>Peoples</th>\n",
       "    </tr>\n",
       "  </thead>\n",
       "  <tbody>\n",
       "    <tr>\n",
       "      <td>0</td>\n",
       "      <td>ЛС-СДСД</td>\n",
       "      <td>66700000233</td>\n",
       "      <td>дача</td>\n",
       "      <td>0.0</td>\n",
       "      <td>неоспар.</td>\n",
       "      <td>01-2019</td>\n",
       "      <td>-11.163823</td>\n",
       "      <td>1.0</td>\n",
       "      <td>1.0</td>\n",
       "    </tr>\n",
       "    <tr>\n",
       "      <td>1</td>\n",
       "      <td>ЛС-СДСД</td>\n",
       "      <td>66700000410</td>\n",
       "      <td>дача</td>\n",
       "      <td>0.0</td>\n",
       "      <td>неоспар.</td>\n",
       "      <td>01-2019</td>\n",
       "      <td>-11.163823</td>\n",
       "      <td>1.0</td>\n",
       "      <td>1.0</td>\n",
       "    </tr>\n",
       "    <tr>\n",
       "      <td>2</td>\n",
       "      <td>ЛС-СДСД</td>\n",
       "      <td>66700000431</td>\n",
       "      <td>част. ж/дом</td>\n",
       "      <td>2.0</td>\n",
       "      <td>неоспар.</td>\n",
       "      <td>01-2019</td>\n",
       "      <td>-11.163823</td>\n",
       "      <td>1.0</td>\n",
       "      <td>1.0</td>\n",
       "    </tr>\n",
       "    <tr>\n",
       "      <td>3</td>\n",
       "      <td>ЛС-СДСД</td>\n",
       "      <td>66700000557</td>\n",
       "      <td>дача</td>\n",
       "      <td>2.0</td>\n",
       "      <td>неоспар.</td>\n",
       "      <td>01-2019</td>\n",
       "      <td>-11.163823</td>\n",
       "      <td>1.0</td>\n",
       "      <td>1.0</td>\n",
       "    </tr>\n",
       "    <tr>\n",
       "      <td>4</td>\n",
       "      <td>ЛС-СДСД</td>\n",
       "      <td>66700000575</td>\n",
       "      <td>дача</td>\n",
       "      <td>21.0</td>\n",
       "      <td>неоспар.</td>\n",
       "      <td>01-2019</td>\n",
       "      <td>-11.163823</td>\n",
       "      <td>1.0</td>\n",
       "      <td>1.0</td>\n",
       "    </tr>\n",
       "  </tbody>\n",
       "</table>\n",
       "</div>"
      ],
      "text/plain": [
       "    Method     Consumer     Building  Supply    Status   Period          T  \\\n",
       "0  ЛС-СДСД  66700000233         дача     0.0  неоспар.  01-2019 -11.163823   \n",
       "1  ЛС-СДСД  66700000410         дача     0.0  неоспар.  01-2019 -11.163823   \n",
       "2  ЛС-СДСД  66700000431  част. ж/дом     2.0  неоспар.  01-2019 -11.163823   \n",
       "3  ЛС-СДСД  66700000557         дача     2.0  неоспар.  01-2019 -11.163823   \n",
       "4  ЛС-СДСД  66700000575         дача    21.0  неоспар.  01-2019 -11.163823   \n",
       "\n",
       "   Rooms  Peoples  \n",
       "0    1.0      1.0  \n",
       "1    1.0      1.0  \n",
       "2    1.0      1.0  \n",
       "3    1.0      1.0  \n",
       "4    1.0      1.0  "
      ]
     },
     "execution_count": 15,
     "metadata": {},
     "output_type": "execute_result"
    }
   ],
   "source": [
    "#supply.drop('Group', axis=1, inplace=True)\n",
    "supply.head()"
   ]
  },
  {
   "cell_type": "code",
   "execution_count": 16,
   "metadata": {},
   "outputs": [
    {
     "data": {
      "text/html": [
       "<div>\n",
       "<style scoped>\n",
       "    .dataframe tbody tr th:only-of-type {\n",
       "        vertical-align: middle;\n",
       "    }\n",
       "\n",
       "    .dataframe tbody tr th {\n",
       "        vertical-align: top;\n",
       "    }\n",
       "\n",
       "    .dataframe thead th {\n",
       "        text-align: right;\n",
       "    }\n",
       "</style>\n",
       "<table border=\"1\" class=\"dataframe\">\n",
       "  <thead>\n",
       "    <tr style=\"text-align: right;\">\n",
       "      <th></th>\n",
       "      <th>Method</th>\n",
       "      <th>Consumer</th>\n",
       "      <th>Building</th>\n",
       "      <th>Supply</th>\n",
       "      <th>Status</th>\n",
       "      <th>Period</th>\n",
       "      <th>T</th>\n",
       "      <th>Rooms</th>\n",
       "      <th>Peoples</th>\n",
       "      <th>Group</th>\n",
       "    </tr>\n",
       "  </thead>\n",
       "  <tbody>\n",
       "    <tr>\n",
       "      <td>0</td>\n",
       "      <td>ЛС-СДСД</td>\n",
       "      <td>66700000233</td>\n",
       "      <td>дача</td>\n",
       "      <td>0.0</td>\n",
       "      <td>неоспар.</td>\n",
       "      <td>01-2019</td>\n",
       "      <td>-11.163823</td>\n",
       "      <td>1.0</td>\n",
       "      <td>1.0</td>\n",
       "      <td>Население сельское</td>\n",
       "    </tr>\n",
       "    <tr>\n",
       "      <td>1</td>\n",
       "      <td>ЛС-СДСД</td>\n",
       "      <td>66700000410</td>\n",
       "      <td>дача</td>\n",
       "      <td>0.0</td>\n",
       "      <td>неоспар.</td>\n",
       "      <td>01-2019</td>\n",
       "      <td>-11.163823</td>\n",
       "      <td>1.0</td>\n",
       "      <td>1.0</td>\n",
       "      <td>Население сельское</td>\n",
       "    </tr>\n",
       "    <tr>\n",
       "      <td>2</td>\n",
       "      <td>ЛС-СДСД</td>\n",
       "      <td>66700000431</td>\n",
       "      <td>част. ж/дом</td>\n",
       "      <td>2.0</td>\n",
       "      <td>неоспар.</td>\n",
       "      <td>01-2019</td>\n",
       "      <td>-11.163823</td>\n",
       "      <td>1.0</td>\n",
       "      <td>1.0</td>\n",
       "      <td>Население сельское</td>\n",
       "    </tr>\n",
       "    <tr>\n",
       "      <td>3</td>\n",
       "      <td>ЛС-СДСД</td>\n",
       "      <td>66700000557</td>\n",
       "      <td>дача</td>\n",
       "      <td>2.0</td>\n",
       "      <td>неоспар.</td>\n",
       "      <td>01-2019</td>\n",
       "      <td>-11.163823</td>\n",
       "      <td>1.0</td>\n",
       "      <td>1.0</td>\n",
       "      <td>Население сельское</td>\n",
       "    </tr>\n",
       "    <tr>\n",
       "      <td>4</td>\n",
       "      <td>ЛС-СДСД</td>\n",
       "      <td>66700000575</td>\n",
       "      <td>дача</td>\n",
       "      <td>21.0</td>\n",
       "      <td>неоспар.</td>\n",
       "      <td>01-2019</td>\n",
       "      <td>-11.163823</td>\n",
       "      <td>1.0</td>\n",
       "      <td>1.0</td>\n",
       "      <td>Население сельское</td>\n",
       "    </tr>\n",
       "  </tbody>\n",
       "</table>\n",
       "</div>"
      ],
      "text/plain": [
       "    Method     Consumer     Building  Supply    Status   Period          T  \\\n",
       "0  ЛС-СДСД  66700000233         дача     0.0  неоспар.  01-2019 -11.163823   \n",
       "1  ЛС-СДСД  66700000410         дача     0.0  неоспар.  01-2019 -11.163823   \n",
       "2  ЛС-СДСД  66700000431  част. ж/дом     2.0  неоспар.  01-2019 -11.163823   \n",
       "3  ЛС-СДСД  66700000557         дача     2.0  неоспар.  01-2019 -11.163823   \n",
       "4  ЛС-СДСД  66700000575         дача    21.0  неоспар.  01-2019 -11.163823   \n",
       "\n",
       "   Rooms  Peoples               Group  \n",
       "0    1.0      1.0  Население сельское  \n",
       "1    1.0      1.0  Население сельское  \n",
       "2    1.0      1.0  Население сельское  \n",
       "3    1.0      1.0  Население сельское  \n",
       "4    1.0      1.0  Население сельское  "
      ]
     },
     "execution_count": 16,
     "metadata": {},
     "output_type": "execute_result"
    }
   ],
   "source": [
    "group_temp['Consumer'] = group_temp['Consumer'].astype(str)\n",
    "supply = supply.merge(group_temp, how = 'left', left_on='Consumer', right_on='Consumer')\n",
    "supply.head()"
   ]
  },
  {
   "cell_type": "markdown",
   "metadata": {},
   "source": [
    "### Этап 2. Обработка данных"
   ]
  },
  {
   "cell_type": "markdown",
   "metadata": {},
   "source": [
    "2.1. Удаляем дубликаты"
   ]
  },
  {
   "cell_type": "code",
   "execution_count": 17,
   "metadata": {},
   "outputs": [
    {
     "name": "stdout",
     "output_type": "stream",
     "text": [
      "5540202\n"
     ]
    }
   ],
   "source": [
    "supply.drop_duplicates(keep='first', inplace=True)\n",
    "print(len(supply))"
   ]
  },
  {
   "cell_type": "markdown",
   "metadata": {},
   "source": [
    "2.2. Удаляем все строки со статусом Status = \"оспар.\", потом удаляем сам столбец за ненадобностью (он используется при расчетах полезного отпуска)"
   ]
  },
  {
   "cell_type": "code",
   "execution_count": 18,
   "metadata": {},
   "outputs": [
    {
     "name": "stdout",
     "output_type": "stream",
     "text": [
      "5492567\n"
     ]
    }
   ],
   "source": [
    "supply = supply.loc[supply['Status']!='оспар.']\n",
    "print(len(supply))"
   ]
  },
  {
   "cell_type": "code",
   "execution_count": 19,
   "metadata": {},
   "outputs": [
    {
     "data": {
      "text/html": [
       "<div>\n",
       "<style scoped>\n",
       "    .dataframe tbody tr th:only-of-type {\n",
       "        vertical-align: middle;\n",
       "    }\n",
       "\n",
       "    .dataframe tbody tr th {\n",
       "        vertical-align: top;\n",
       "    }\n",
       "\n",
       "    .dataframe thead th {\n",
       "        text-align: right;\n",
       "    }\n",
       "</style>\n",
       "<table border=\"1\" class=\"dataframe\">\n",
       "  <thead>\n",
       "    <tr style=\"text-align: right;\">\n",
       "      <th></th>\n",
       "      <th>Method</th>\n",
       "      <th>Consumer</th>\n",
       "      <th>Building</th>\n",
       "      <th>Supply</th>\n",
       "      <th>Period</th>\n",
       "      <th>T</th>\n",
       "      <th>Rooms</th>\n",
       "      <th>Peoples</th>\n",
       "      <th>Group</th>\n",
       "    </tr>\n",
       "  </thead>\n",
       "  <tbody>\n",
       "    <tr>\n",
       "      <td>0</td>\n",
       "      <td>ЛС-СДСД</td>\n",
       "      <td>66700000233</td>\n",
       "      <td>дача</td>\n",
       "      <td>0.0</td>\n",
       "      <td>01-2019</td>\n",
       "      <td>-11.163823</td>\n",
       "      <td>1.0</td>\n",
       "      <td>1.0</td>\n",
       "      <td>Население сельское</td>\n",
       "    </tr>\n",
       "    <tr>\n",
       "      <td>1</td>\n",
       "      <td>ЛС-СДСД</td>\n",
       "      <td>66700000410</td>\n",
       "      <td>дача</td>\n",
       "      <td>0.0</td>\n",
       "      <td>01-2019</td>\n",
       "      <td>-11.163823</td>\n",
       "      <td>1.0</td>\n",
       "      <td>1.0</td>\n",
       "      <td>Население сельское</td>\n",
       "    </tr>\n",
       "    <tr>\n",
       "      <td>2</td>\n",
       "      <td>ЛС-СДСД</td>\n",
       "      <td>66700000431</td>\n",
       "      <td>част. ж/дом</td>\n",
       "      <td>2.0</td>\n",
       "      <td>01-2019</td>\n",
       "      <td>-11.163823</td>\n",
       "      <td>1.0</td>\n",
       "      <td>1.0</td>\n",
       "      <td>Население сельское</td>\n",
       "    </tr>\n",
       "    <tr>\n",
       "      <td>3</td>\n",
       "      <td>ЛС-СДСД</td>\n",
       "      <td>66700000557</td>\n",
       "      <td>дача</td>\n",
       "      <td>2.0</td>\n",
       "      <td>01-2019</td>\n",
       "      <td>-11.163823</td>\n",
       "      <td>1.0</td>\n",
       "      <td>1.0</td>\n",
       "      <td>Население сельское</td>\n",
       "    </tr>\n",
       "    <tr>\n",
       "      <td>4</td>\n",
       "      <td>ЛС-СДСД</td>\n",
       "      <td>66700000575</td>\n",
       "      <td>дача</td>\n",
       "      <td>21.0</td>\n",
       "      <td>01-2019</td>\n",
       "      <td>-11.163823</td>\n",
       "      <td>1.0</td>\n",
       "      <td>1.0</td>\n",
       "      <td>Население сельское</td>\n",
       "    </tr>\n",
       "  </tbody>\n",
       "</table>\n",
       "</div>"
      ],
      "text/plain": [
       "    Method     Consumer     Building  Supply   Period          T  Rooms  \\\n",
       "0  ЛС-СДСД  66700000233         дача     0.0  01-2019 -11.163823    1.0   \n",
       "1  ЛС-СДСД  66700000410         дача     0.0  01-2019 -11.163823    1.0   \n",
       "2  ЛС-СДСД  66700000431  част. ж/дом     2.0  01-2019 -11.163823    1.0   \n",
       "3  ЛС-СДСД  66700000557         дача     2.0  01-2019 -11.163823    1.0   \n",
       "4  ЛС-СДСД  66700000575         дача    21.0  01-2019 -11.163823    1.0   \n",
       "\n",
       "   Peoples               Group  \n",
       "0      1.0  Население сельское  \n",
       "1      1.0  Население сельское  \n",
       "2      1.0  Население сельское  \n",
       "3      1.0  Население сельское  \n",
       "4      1.0  Население сельское  "
      ]
     },
     "execution_count": 19,
     "metadata": {},
     "output_type": "execute_result"
    }
   ],
   "source": [
    "supply.drop('Status', axis=1, inplace=True)\n",
    "supply.head()"
   ]
  },
  {
   "cell_type": "markdown",
   "metadata": {},
   "source": [
    "2.3. Удаляем столбец \"Period\", т.к. он использовался только для добавления среднемесячной температуры"
   ]
  },
  {
   "cell_type": "code",
   "execution_count": 20,
   "metadata": {},
   "outputs": [
    {
     "data": {
      "text/html": [
       "<div>\n",
       "<style scoped>\n",
       "    .dataframe tbody tr th:only-of-type {\n",
       "        vertical-align: middle;\n",
       "    }\n",
       "\n",
       "    .dataframe tbody tr th {\n",
       "        vertical-align: top;\n",
       "    }\n",
       "\n",
       "    .dataframe thead th {\n",
       "        text-align: right;\n",
       "    }\n",
       "</style>\n",
       "<table border=\"1\" class=\"dataframe\">\n",
       "  <thead>\n",
       "    <tr style=\"text-align: right;\">\n",
       "      <th></th>\n",
       "      <th>Method</th>\n",
       "      <th>Consumer</th>\n",
       "      <th>Building</th>\n",
       "      <th>Supply</th>\n",
       "      <th>T</th>\n",
       "      <th>Rooms</th>\n",
       "      <th>Peoples</th>\n",
       "      <th>Group</th>\n",
       "    </tr>\n",
       "  </thead>\n",
       "  <tbody>\n",
       "    <tr>\n",
       "      <td>0</td>\n",
       "      <td>ЛС-СДСД</td>\n",
       "      <td>66700000233</td>\n",
       "      <td>дача</td>\n",
       "      <td>0.0</td>\n",
       "      <td>-11.163823</td>\n",
       "      <td>1.0</td>\n",
       "      <td>1.0</td>\n",
       "      <td>Население сельское</td>\n",
       "    </tr>\n",
       "    <tr>\n",
       "      <td>1</td>\n",
       "      <td>ЛС-СДСД</td>\n",
       "      <td>66700000410</td>\n",
       "      <td>дача</td>\n",
       "      <td>0.0</td>\n",
       "      <td>-11.163823</td>\n",
       "      <td>1.0</td>\n",
       "      <td>1.0</td>\n",
       "      <td>Население сельское</td>\n",
       "    </tr>\n",
       "    <tr>\n",
       "      <td>2</td>\n",
       "      <td>ЛС-СДСД</td>\n",
       "      <td>66700000431</td>\n",
       "      <td>част. ж/дом</td>\n",
       "      <td>2.0</td>\n",
       "      <td>-11.163823</td>\n",
       "      <td>1.0</td>\n",
       "      <td>1.0</td>\n",
       "      <td>Население сельское</td>\n",
       "    </tr>\n",
       "    <tr>\n",
       "      <td>3</td>\n",
       "      <td>ЛС-СДСД</td>\n",
       "      <td>66700000557</td>\n",
       "      <td>дача</td>\n",
       "      <td>2.0</td>\n",
       "      <td>-11.163823</td>\n",
       "      <td>1.0</td>\n",
       "      <td>1.0</td>\n",
       "      <td>Население сельское</td>\n",
       "    </tr>\n",
       "    <tr>\n",
       "      <td>4</td>\n",
       "      <td>ЛС-СДСД</td>\n",
       "      <td>66700000575</td>\n",
       "      <td>дача</td>\n",
       "      <td>21.0</td>\n",
       "      <td>-11.163823</td>\n",
       "      <td>1.0</td>\n",
       "      <td>1.0</td>\n",
       "      <td>Население сельское</td>\n",
       "    </tr>\n",
       "  </tbody>\n",
       "</table>\n",
       "</div>"
      ],
      "text/plain": [
       "    Method     Consumer     Building  Supply          T  Rooms  Peoples  \\\n",
       "0  ЛС-СДСД  66700000233         дача     0.0 -11.163823    1.0      1.0   \n",
       "1  ЛС-СДСД  66700000410         дача     0.0 -11.163823    1.0      1.0   \n",
       "2  ЛС-СДСД  66700000431  част. ж/дом     2.0 -11.163823    1.0      1.0   \n",
       "3  ЛС-СДСД  66700000557         дача     2.0 -11.163823    1.0      1.0   \n",
       "4  ЛС-СДСД  66700000575         дача    21.0 -11.163823    1.0      1.0   \n",
       "\n",
       "                Group  \n",
       "0  Население сельское  \n",
       "1  Население сельское  \n",
       "2  Население сельское  \n",
       "3  Население сельское  \n",
       "4  Население сельское  "
      ]
     },
     "execution_count": 20,
     "metadata": {},
     "output_type": "execute_result"
    }
   ],
   "source": [
    "supply.drop('Period', axis=1, inplace=True)\n",
    "supply.head()"
   ]
  },
  {
   "cell_type": "markdown",
   "metadata": {},
   "source": [
    "2.4. Из столбца \"Building\" извлекаем данные о том, постоянно ли проживают по данному адресу (не дача) или нет. Добавляем столбец \"Permanent_Residence\", которое принимает значение 1 при постоянном проживании, и 0 в обратном случае."
   ]
  },
  {
   "cell_type": "code",
   "execution_count": 21,
   "metadata": {},
   "outputs": [
    {
     "data": {
      "text/plain": [
       "array(['дача', 'част. ж/дом', 'кварт.', 'баня', 'стр.площ.', 'гараж',\n",
       "       'кв. малокв.', 'хоз.постр.', 'прочие хоз.', 'мнкв.дом', 'ТП',\n",
       "       'Не опр.', 'прочие пром.', 'разрушенный', 'нежилой',\n",
       "       'общест. объект', 'нежилое в мн.кв.', 'нежилая кварт.',\n",
       "       'водокачка', 'религ. объект', 'общежитие', 'эл.отопл.', 'пилорама',\n",
       "       'проч. объекты юр.лиц', 'мастерская', 'яма', 'сад',\n",
       "       'мнкв.авар.дом', 'мнкв.ветх.дом'], dtype=object)"
      ]
     },
     "execution_count": 21,
     "metadata": {},
     "output_type": "execute_result"
    }
   ],
   "source": [
    "supply['Building'].unique()"
   ]
  },
  {
   "cell_type": "code",
   "execution_count": 22,
   "metadata": {},
   "outputs": [],
   "source": [
    "def Permanent_Residence(b):\n",
    "    perm_list = ['кварт.','част. ж/дом','кв. малокв.','мнкв.дом','общежитие', 'эл.отопл.']\n",
    "    if b in perm_list:\n",
    "        return 1\n",
    "    else:\n",
    "        return 0"
   ]
  },
  {
   "cell_type": "code",
   "execution_count": 23,
   "metadata": {},
   "outputs": [],
   "source": [
    "supply['Permanent_Residence'] = supply['Building'].apply(Permanent_Residence)"
   ]
  },
  {
   "cell_type": "markdown",
   "metadata": {},
   "source": [
    "Удаляем столбец \"Building\""
   ]
  },
  {
   "cell_type": "code",
   "execution_count": 24,
   "metadata": {},
   "outputs": [
    {
     "data": {
      "text/html": [
       "<div>\n",
       "<style scoped>\n",
       "    .dataframe tbody tr th:only-of-type {\n",
       "        vertical-align: middle;\n",
       "    }\n",
       "\n",
       "    .dataframe tbody tr th {\n",
       "        vertical-align: top;\n",
       "    }\n",
       "\n",
       "    .dataframe thead th {\n",
       "        text-align: right;\n",
       "    }\n",
       "</style>\n",
       "<table border=\"1\" class=\"dataframe\">\n",
       "  <thead>\n",
       "    <tr style=\"text-align: right;\">\n",
       "      <th></th>\n",
       "      <th>Method</th>\n",
       "      <th>Consumer</th>\n",
       "      <th>Supply</th>\n",
       "      <th>T</th>\n",
       "      <th>Rooms</th>\n",
       "      <th>Peoples</th>\n",
       "      <th>Group</th>\n",
       "      <th>Permanent_Residence</th>\n",
       "    </tr>\n",
       "  </thead>\n",
       "  <tbody>\n",
       "    <tr>\n",
       "      <td>0</td>\n",
       "      <td>ЛС-СДСД</td>\n",
       "      <td>66700000233</td>\n",
       "      <td>0.0</td>\n",
       "      <td>-11.163823</td>\n",
       "      <td>1.0</td>\n",
       "      <td>1.0</td>\n",
       "      <td>Население сельское</td>\n",
       "      <td>0</td>\n",
       "    </tr>\n",
       "    <tr>\n",
       "      <td>1</td>\n",
       "      <td>ЛС-СДСД</td>\n",
       "      <td>66700000410</td>\n",
       "      <td>0.0</td>\n",
       "      <td>-11.163823</td>\n",
       "      <td>1.0</td>\n",
       "      <td>1.0</td>\n",
       "      <td>Население сельское</td>\n",
       "      <td>0</td>\n",
       "    </tr>\n",
       "    <tr>\n",
       "      <td>2</td>\n",
       "      <td>ЛС-СДСД</td>\n",
       "      <td>66700000431</td>\n",
       "      <td>2.0</td>\n",
       "      <td>-11.163823</td>\n",
       "      <td>1.0</td>\n",
       "      <td>1.0</td>\n",
       "      <td>Население сельское</td>\n",
       "      <td>1</td>\n",
       "    </tr>\n",
       "    <tr>\n",
       "      <td>3</td>\n",
       "      <td>ЛС-СДСД</td>\n",
       "      <td>66700000557</td>\n",
       "      <td>2.0</td>\n",
       "      <td>-11.163823</td>\n",
       "      <td>1.0</td>\n",
       "      <td>1.0</td>\n",
       "      <td>Население сельское</td>\n",
       "      <td>0</td>\n",
       "    </tr>\n",
       "    <tr>\n",
       "      <td>4</td>\n",
       "      <td>ЛС-СДСД</td>\n",
       "      <td>66700000575</td>\n",
       "      <td>21.0</td>\n",
       "      <td>-11.163823</td>\n",
       "      <td>1.0</td>\n",
       "      <td>1.0</td>\n",
       "      <td>Население сельское</td>\n",
       "      <td>0</td>\n",
       "    </tr>\n",
       "  </tbody>\n",
       "</table>\n",
       "</div>"
      ],
      "text/plain": [
       "    Method     Consumer  Supply          T  Rooms  Peoples  \\\n",
       "0  ЛС-СДСД  66700000233     0.0 -11.163823    1.0      1.0   \n",
       "1  ЛС-СДСД  66700000410     0.0 -11.163823    1.0      1.0   \n",
       "2  ЛС-СДСД  66700000431     2.0 -11.163823    1.0      1.0   \n",
       "3  ЛС-СДСД  66700000557     2.0 -11.163823    1.0      1.0   \n",
       "4  ЛС-СДСД  66700000575    21.0 -11.163823    1.0      1.0   \n",
       "\n",
       "                Group  Permanent_Residence  \n",
       "0  Население сельское                    0  \n",
       "1  Население сельское                    0  \n",
       "2  Население сельское                    1  \n",
       "3  Население сельское                    0  \n",
       "4  Население сельское                    0  "
      ]
     },
     "execution_count": 24,
     "metadata": {},
     "output_type": "execute_result"
    }
   ],
   "source": [
    "supply.drop('Building', axis=1, inplace=True)\n",
    "supply.head()"
   ]
  },
  {
   "cell_type": "markdown",
   "metadata": {},
   "source": [
    "2.5. Из столбца \"Group\" извлекаем данные о том, потребитель сельский или городской. \n",
    "Добавляем столбец \"City\", которое принимает значение 1 при городском расположении, и 0 в обратном случае."
   ]
  },
  {
   "cell_type": "code",
   "execution_count": 25,
   "metadata": {},
   "outputs": [
    {
     "data": {
      "text/plain": [
       "array(['Население сельское', 'Население городское', nan,\n",
       "       'Приравненные к населению (село)',\n",
       "       'Приравненные к населению (город)', 'Не определено',\n",
       "       'Непромышленные потребители', 'Промышленные потребители'],\n",
       "      dtype=object)"
      ]
     },
     "execution_count": 25,
     "metadata": {},
     "output_type": "execute_result"
    }
   ],
   "source": [
    "supply['Group'].unique()"
   ]
  },
  {
   "cell_type": "code",
   "execution_count": 26,
   "metadata": {},
   "outputs": [],
   "source": [
    "def City_Residence(b):\n",
    "    perm_list = ['Население городское','Приравненные к населению (город)','Непромышленные потребители', 'Промышленные потребители']\n",
    "    if b in perm_list:\n",
    "        return 1\n",
    "    else:\n",
    "        return 0"
   ]
  },
  {
   "cell_type": "code",
   "execution_count": 27,
   "metadata": {},
   "outputs": [],
   "source": [
    "supply['City'] = supply['Group'].apply(City_Residence)"
   ]
  },
  {
   "cell_type": "markdown",
   "metadata": {},
   "source": [
    "Удаляем столбец \"Group\""
   ]
  },
  {
   "cell_type": "code",
   "execution_count": 28,
   "metadata": {},
   "outputs": [
    {
     "data": {
      "text/html": [
       "<div>\n",
       "<style scoped>\n",
       "    .dataframe tbody tr th:only-of-type {\n",
       "        vertical-align: middle;\n",
       "    }\n",
       "\n",
       "    .dataframe tbody tr th {\n",
       "        vertical-align: top;\n",
       "    }\n",
       "\n",
       "    .dataframe thead th {\n",
       "        text-align: right;\n",
       "    }\n",
       "</style>\n",
       "<table border=\"1\" class=\"dataframe\">\n",
       "  <thead>\n",
       "    <tr style=\"text-align: right;\">\n",
       "      <th></th>\n",
       "      <th>Method</th>\n",
       "      <th>Consumer</th>\n",
       "      <th>Supply</th>\n",
       "      <th>T</th>\n",
       "      <th>Rooms</th>\n",
       "      <th>Peoples</th>\n",
       "      <th>Permanent_Residence</th>\n",
       "      <th>City</th>\n",
       "    </tr>\n",
       "  </thead>\n",
       "  <tbody>\n",
       "    <tr>\n",
       "      <td>0</td>\n",
       "      <td>ЛС-СДСД</td>\n",
       "      <td>66700000233</td>\n",
       "      <td>0.0</td>\n",
       "      <td>-11.163823</td>\n",
       "      <td>1.0</td>\n",
       "      <td>1.0</td>\n",
       "      <td>0</td>\n",
       "      <td>0</td>\n",
       "    </tr>\n",
       "    <tr>\n",
       "      <td>1</td>\n",
       "      <td>ЛС-СДСД</td>\n",
       "      <td>66700000410</td>\n",
       "      <td>0.0</td>\n",
       "      <td>-11.163823</td>\n",
       "      <td>1.0</td>\n",
       "      <td>1.0</td>\n",
       "      <td>0</td>\n",
       "      <td>0</td>\n",
       "    </tr>\n",
       "    <tr>\n",
       "      <td>2</td>\n",
       "      <td>ЛС-СДСД</td>\n",
       "      <td>66700000431</td>\n",
       "      <td>2.0</td>\n",
       "      <td>-11.163823</td>\n",
       "      <td>1.0</td>\n",
       "      <td>1.0</td>\n",
       "      <td>1</td>\n",
       "      <td>0</td>\n",
       "    </tr>\n",
       "    <tr>\n",
       "      <td>3</td>\n",
       "      <td>ЛС-СДСД</td>\n",
       "      <td>66700000557</td>\n",
       "      <td>2.0</td>\n",
       "      <td>-11.163823</td>\n",
       "      <td>1.0</td>\n",
       "      <td>1.0</td>\n",
       "      <td>0</td>\n",
       "      <td>0</td>\n",
       "    </tr>\n",
       "    <tr>\n",
       "      <td>4</td>\n",
       "      <td>ЛС-СДСД</td>\n",
       "      <td>66700000575</td>\n",
       "      <td>21.0</td>\n",
       "      <td>-11.163823</td>\n",
       "      <td>1.0</td>\n",
       "      <td>1.0</td>\n",
       "      <td>0</td>\n",
       "      <td>0</td>\n",
       "    </tr>\n",
       "  </tbody>\n",
       "</table>\n",
       "</div>"
      ],
      "text/plain": [
       "    Method     Consumer  Supply          T  Rooms  Peoples  \\\n",
       "0  ЛС-СДСД  66700000233     0.0 -11.163823    1.0      1.0   \n",
       "1  ЛС-СДСД  66700000410     0.0 -11.163823    1.0      1.0   \n",
       "2  ЛС-СДСД  66700000431     2.0 -11.163823    1.0      1.0   \n",
       "3  ЛС-СДСД  66700000557     2.0 -11.163823    1.0      1.0   \n",
       "4  ЛС-СДСД  66700000575    21.0 -11.163823    1.0      1.0   \n",
       "\n",
       "   Permanent_Residence  City  \n",
       "0                    0     0  \n",
       "1                    0     0  \n",
       "2                    1     0  \n",
       "3                    0     0  \n",
       "4                    0     0  "
      ]
     },
     "execution_count": 28,
     "metadata": {},
     "output_type": "execute_result"
    }
   ],
   "source": [
    "supply.drop('Group', axis=1, inplace=True)\n",
    "supply.head()"
   ]
  },
  {
   "cell_type": "markdown",
   "metadata": {},
   "source": [
    "2.6. Из столбца \"Consumer\" удаляем всех потребителей, у которых договор не состоит из одних цифр. \n",
    "Эти договоры не имеют отношение к населению."
   ]
  },
  {
   "cell_type": "code",
   "execution_count": 29,
   "metadata": {},
   "outputs": [
    {
     "data": {
      "text/html": [
       "<div>\n",
       "<style scoped>\n",
       "    .dataframe tbody tr th:only-of-type {\n",
       "        vertical-align: middle;\n",
       "    }\n",
       "\n",
       "    .dataframe tbody tr th {\n",
       "        vertical-align: top;\n",
       "    }\n",
       "\n",
       "    .dataframe thead th {\n",
       "        text-align: right;\n",
       "    }\n",
       "</style>\n",
       "<table border=\"1\" class=\"dataframe\">\n",
       "  <thead>\n",
       "    <tr style=\"text-align: right;\">\n",
       "      <th></th>\n",
       "      <th>Method</th>\n",
       "      <th>Consumer</th>\n",
       "      <th>Supply</th>\n",
       "      <th>T</th>\n",
       "      <th>Rooms</th>\n",
       "      <th>Peoples</th>\n",
       "      <th>Permanent_Residence</th>\n",
       "      <th>City</th>\n",
       "    </tr>\n",
       "  </thead>\n",
       "  <tbody>\n",
       "    <tr>\n",
       "      <td>2265</td>\n",
       "      <td>ЛС-КПП</td>\n",
       "      <td>ОДУ У Беляева 26</td>\n",
       "      <td>0.0</td>\n",
       "      <td>-11.163823</td>\n",
       "      <td>NaN</td>\n",
       "      <td>NaN</td>\n",
       "      <td>1</td>\n",
       "      <td>0</td>\n",
       "    </tr>\n",
       "    <tr>\n",
       "      <td>9654</td>\n",
       "      <td>ЛС-КПБ</td>\n",
       "      <td>МКД ЮГ без УК</td>\n",
       "      <td>0.0</td>\n",
       "      <td>-11.163823</td>\n",
       "      <td>2.0</td>\n",
       "      <td>6.0</td>\n",
       "      <td>0</td>\n",
       "      <td>1</td>\n",
       "    </tr>\n",
       "    <tr>\n",
       "      <td>12484</td>\n",
       "      <td>ЛС-НОРМ</td>\n",
       "      <td>МКД СЕВЕР (не определено)</td>\n",
       "      <td>0.0</td>\n",
       "      <td>-11.163823</td>\n",
       "      <td>8.0</td>\n",
       "      <td>64.0</td>\n",
       "      <td>0</td>\n",
       "      <td>1</td>\n",
       "    </tr>\n",
       "    <tr>\n",
       "      <td>12491</td>\n",
       "      <td>ЛС-НОРМ</td>\n",
       "      <td>МКД СЕВЕР (непосредственное)</td>\n",
       "      <td>0.0</td>\n",
       "      <td>-11.163823</td>\n",
       "      <td>2.0</td>\n",
       "      <td>2.0</td>\n",
       "      <td>0</td>\n",
       "      <td>1</td>\n",
       "    </tr>\n",
       "    <tr>\n",
       "      <td>12496</td>\n",
       "      <td>ЛС-НОРМ</td>\n",
       "      <td>МКД ЮГ без УК</td>\n",
       "      <td>0.0</td>\n",
       "      <td>-11.163823</td>\n",
       "      <td>2.0</td>\n",
       "      <td>6.0</td>\n",
       "      <td>0</td>\n",
       "      <td>1</td>\n",
       "    </tr>\n",
       "    <tr>\n",
       "      <td>...</td>\n",
       "      <td>...</td>\n",
       "      <td>...</td>\n",
       "      <td>...</td>\n",
       "      <td>...</td>\n",
       "      <td>...</td>\n",
       "      <td>...</td>\n",
       "      <td>...</td>\n",
       "      <td>...</td>\n",
       "    </tr>\n",
       "    <tr>\n",
       "      <td>5490340</td>\n",
       "      <td>ЛС-ЭКП</td>\n",
       "      <td>65300004805</td>\n",
       "      <td>1250.0</td>\n",
       "      <td>0.552076</td>\n",
       "      <td>8.0</td>\n",
       "      <td>4.0</td>\n",
       "      <td>1</td>\n",
       "      <td>0</td>\n",
       "    </tr>\n",
       "    <tr>\n",
       "      <td>5505648</td>\n",
       "      <td>ЛС-СДСД</td>\n",
       "      <td>3+ОДПУ</td>\n",
       "      <td>1951.0</td>\n",
       "      <td>0.552076</td>\n",
       "      <td>16.0</td>\n",
       "      <td>16.0</td>\n",
       "      <td>1</td>\n",
       "      <td>1</td>\n",
       "    </tr>\n",
       "    <tr>\n",
       "      <td>5505649</td>\n",
       "      <td>ЛС-СДСД</td>\n",
       "      <td>3836 ОДПУ</td>\n",
       "      <td>293.0</td>\n",
       "      <td>0.552076</td>\n",
       "      <td>0.0</td>\n",
       "      <td>3.0</td>\n",
       "      <td>1</td>\n",
       "      <td>1</td>\n",
       "    </tr>\n",
       "    <tr>\n",
       "      <td>5538945</td>\n",
       "      <td>ЛС-НОРМ</td>\n",
       "      <td>для з/д</td>\n",
       "      <td>145.0</td>\n",
       "      <td>0.552076</td>\n",
       "      <td>12.0</td>\n",
       "      <td>17.0</td>\n",
       "      <td>1</td>\n",
       "      <td>1</td>\n",
       "    </tr>\n",
       "    <tr>\n",
       "      <td>5538946</td>\n",
       "      <td>ЛС-НОРМ</td>\n",
       "      <td>для з/д</td>\n",
       "      <td>145.0</td>\n",
       "      <td>0.552076</td>\n",
       "      <td>21.0</td>\n",
       "      <td>30.0</td>\n",
       "      <td>1</td>\n",
       "      <td>1</td>\n",
       "    </tr>\n",
       "  </tbody>\n",
       "</table>\n",
       "<p>4244 rows × 8 columns</p>\n",
       "</div>"
      ],
      "text/plain": [
       "          Method                      Consumer  Supply          T  Rooms  \\\n",
       "2265      ЛС-КПП              ОДУ У Беляева 26     0.0 -11.163823    NaN   \n",
       "9654      ЛС-КПБ                 МКД ЮГ без УК     0.0 -11.163823    2.0   \n",
       "12484    ЛС-НОРМ     МКД СЕВЕР (не определено)     0.0 -11.163823    8.0   \n",
       "12491    ЛС-НОРМ  МКД СЕВЕР (непосредственное)     0.0 -11.163823    2.0   \n",
       "12496    ЛС-НОРМ                 МКД ЮГ без УК     0.0 -11.163823    2.0   \n",
       "...          ...                           ...     ...        ...    ...   \n",
       "5490340   ЛС-ЭКП                  65300004805   1250.0   0.552076    8.0   \n",
       "5505648  ЛС-СДСД                        3+ОДПУ  1951.0   0.552076   16.0   \n",
       "5505649  ЛС-СДСД                     3836 ОДПУ   293.0   0.552076    0.0   \n",
       "5538945  ЛС-НОРМ                       для з/д   145.0   0.552076   12.0   \n",
       "5538946  ЛС-НОРМ                       для з/д   145.0   0.552076   21.0   \n",
       "\n",
       "         Peoples  Permanent_Residence  City  \n",
       "2265         NaN                    1     0  \n",
       "9654         6.0                    0     1  \n",
       "12484       64.0                    0     1  \n",
       "12491        2.0                    0     1  \n",
       "12496        6.0                    0     1  \n",
       "...          ...                  ...   ...  \n",
       "5490340      4.0                    1     0  \n",
       "5505648     16.0                    1     1  \n",
       "5505649      3.0                    1     1  \n",
       "5538945     17.0                    1     1  \n",
       "5538946     30.0                    1     1  \n",
       "\n",
       "[4244 rows x 8 columns]"
      ]
     },
     "execution_count": 29,
     "metadata": {},
     "output_type": "execute_result"
    }
   ],
   "source": [
    "supply[supply['Consumer'].str.contains('\\D+',flags=re.IGNORECASE, regex=True)]"
   ]
  },
  {
   "cell_type": "code",
   "execution_count": 30,
   "metadata": {},
   "outputs": [],
   "source": [
    "supply = supply[~supply['Consumer'].str.contains('\\D+',flags=re.IGNORECASE, regex=True)]"
   ]
  },
  {
   "cell_type": "markdown",
   "metadata": {},
   "source": [
    "2.7. Проверяем на пустые значения и заполняем данными"
   ]
  },
  {
   "cell_type": "code",
   "execution_count": 31,
   "metadata": {},
   "outputs": [
    {
     "data": {
      "text/plain": [
       "Method                      0\n",
       "Consumer                    0\n",
       "Supply                      0\n",
       "T                           0\n",
       "Rooms                  196913\n",
       "Peoples                189959\n",
       "Permanent_Residence         0\n",
       "City                        0\n",
       "dtype: int64"
      ]
     },
     "execution_count": 31,
     "metadata": {},
     "output_type": "execute_result"
    }
   ],
   "source": [
    "supply.isnull().sum()"
   ]
  },
  {
   "cell_type": "code",
   "execution_count": 32,
   "metadata": {},
   "outputs": [
    {
     "data": {
      "text/html": [
       "<div>\n",
       "<style scoped>\n",
       "    .dataframe tbody tr th:only-of-type {\n",
       "        vertical-align: middle;\n",
       "    }\n",
       "\n",
       "    .dataframe tbody tr th {\n",
       "        vertical-align: top;\n",
       "    }\n",
       "\n",
       "    .dataframe thead th {\n",
       "        text-align: right;\n",
       "    }\n",
       "</style>\n",
       "<table border=\"1\" class=\"dataframe\">\n",
       "  <thead>\n",
       "    <tr style=\"text-align: right;\">\n",
       "      <th></th>\n",
       "      <th>Supply</th>\n",
       "      <th>T</th>\n",
       "      <th>Rooms</th>\n",
       "      <th>Peoples</th>\n",
       "      <th>Permanent_Residence</th>\n",
       "      <th>City</th>\n",
       "    </tr>\n",
       "  </thead>\n",
       "  <tbody>\n",
       "    <tr>\n",
       "      <td>count</td>\n",
       "      <td>5.488323e+06</td>\n",
       "      <td>5.488323e+06</td>\n",
       "      <td>5.291410e+06</td>\n",
       "      <td>5.298364e+06</td>\n",
       "      <td>5.488323e+06</td>\n",
       "      <td>5.488323e+06</td>\n",
       "    </tr>\n",
       "    <tr>\n",
       "      <td>mean</td>\n",
       "      <td>2.385289e+02</td>\n",
       "      <td>2.329030e+00</td>\n",
       "      <td>1.575323e+00</td>\n",
       "      <td>2.123765e+00</td>\n",
       "      <td>8.560313e-01</td>\n",
       "      <td>2.752804e-01</td>\n",
       "    </tr>\n",
       "    <tr>\n",
       "      <td>std</td>\n",
       "      <td>8.715553e+02</td>\n",
       "      <td>9.297464e+00</td>\n",
       "      <td>1.170233e+00</td>\n",
       "      <td>1.659900e+00</td>\n",
       "      <td>3.510581e-01</td>\n",
       "      <td>4.466555e-01</td>\n",
       "    </tr>\n",
       "    <tr>\n",
       "      <td>min</td>\n",
       "      <td>-4.572060e+05</td>\n",
       "      <td>-1.116382e+01</td>\n",
       "      <td>0.000000e+00</td>\n",
       "      <td>0.000000e+00</td>\n",
       "      <td>0.000000e+00</td>\n",
       "      <td>0.000000e+00</td>\n",
       "    </tr>\n",
       "    <tr>\n",
       "      <td>25%</td>\n",
       "      <td>4.300000e+01</td>\n",
       "      <td>-6.255830e+00</td>\n",
       "      <td>1.000000e+00</td>\n",
       "      <td>1.000000e+00</td>\n",
       "      <td>1.000000e+00</td>\n",
       "      <td>0.000000e+00</td>\n",
       "    </tr>\n",
       "    <tr>\n",
       "      <td>50%</td>\n",
       "      <td>1.420000e+02</td>\n",
       "      <td>5.520762e-01</td>\n",
       "      <td>1.000000e+00</td>\n",
       "      <td>1.000000e+00</td>\n",
       "      <td>1.000000e+00</td>\n",
       "      <td>0.000000e+00</td>\n",
       "    </tr>\n",
       "    <tr>\n",
       "      <td>75%</td>\n",
       "      <td>2.500000e+02</td>\n",
       "      <td>1.340122e+01</td>\n",
       "      <td>2.000000e+00</td>\n",
       "      <td>3.000000e+00</td>\n",
       "      <td>1.000000e+00</td>\n",
       "      <td>1.000000e+00</td>\n",
       "    </tr>\n",
       "    <tr>\n",
       "      <td>max</td>\n",
       "      <td>3.280420e+05</td>\n",
       "      <td>1.713523e+01</td>\n",
       "      <td>5.100000e+01</td>\n",
       "      <td>7.700000e+01</td>\n",
       "      <td>1.000000e+00</td>\n",
       "      <td>1.000000e+00</td>\n",
       "    </tr>\n",
       "  </tbody>\n",
       "</table>\n",
       "</div>"
      ],
      "text/plain": [
       "             Supply             T         Rooms       Peoples  \\\n",
       "count  5.488323e+06  5.488323e+06  5.291410e+06  5.298364e+06   \n",
       "mean   2.385289e+02  2.329030e+00  1.575323e+00  2.123765e+00   \n",
       "std    8.715553e+02  9.297464e+00  1.170233e+00  1.659900e+00   \n",
       "min   -4.572060e+05 -1.116382e+01  0.000000e+00  0.000000e+00   \n",
       "25%    4.300000e+01 -6.255830e+00  1.000000e+00  1.000000e+00   \n",
       "50%    1.420000e+02  5.520762e-01  1.000000e+00  1.000000e+00   \n",
       "75%    2.500000e+02  1.340122e+01  2.000000e+00  3.000000e+00   \n",
       "max    3.280420e+05  1.713523e+01  5.100000e+01  7.700000e+01   \n",
       "\n",
       "       Permanent_Residence          City  \n",
       "count         5.488323e+06  5.488323e+06  \n",
       "mean          8.560313e-01  2.752804e-01  \n",
       "std           3.510581e-01  4.466555e-01  \n",
       "min           0.000000e+00  0.000000e+00  \n",
       "25%           1.000000e+00  0.000000e+00  \n",
       "50%           1.000000e+00  0.000000e+00  \n",
       "75%           1.000000e+00  1.000000e+00  \n",
       "max           1.000000e+00  1.000000e+00  "
      ]
     },
     "execution_count": 32,
     "metadata": {},
     "output_type": "execute_result"
    }
   ],
   "source": [
    "supply.describe()"
   ]
  },
  {
   "cell_type": "markdown",
   "metadata": {},
   "source": [
    "Для поля \"Rooms\" ставим среднее округленное значение 2.0, для поля \"Peoples\" значение 2.0"
   ]
  },
  {
   "cell_type": "code",
   "execution_count": 33,
   "metadata": {},
   "outputs": [
    {
     "data": {
      "text/html": [
       "<div>\n",
       "<style scoped>\n",
       "    .dataframe tbody tr th:only-of-type {\n",
       "        vertical-align: middle;\n",
       "    }\n",
       "\n",
       "    .dataframe tbody tr th {\n",
       "        vertical-align: top;\n",
       "    }\n",
       "\n",
       "    .dataframe thead th {\n",
       "        text-align: right;\n",
       "    }\n",
       "</style>\n",
       "<table border=\"1\" class=\"dataframe\">\n",
       "  <thead>\n",
       "    <tr style=\"text-align: right;\">\n",
       "      <th></th>\n",
       "      <th>Method</th>\n",
       "      <th>Consumer</th>\n",
       "      <th>Supply</th>\n",
       "      <th>T</th>\n",
       "      <th>Rooms</th>\n",
       "      <th>Peoples</th>\n",
       "      <th>Permanent_Residence</th>\n",
       "      <th>City</th>\n",
       "    </tr>\n",
       "  </thead>\n",
       "  <tbody>\n",
       "    <tr>\n",
       "      <td>0</td>\n",
       "      <td>ЛС-СДСД</td>\n",
       "      <td>66700000233</td>\n",
       "      <td>0.0</td>\n",
       "      <td>-11.163823</td>\n",
       "      <td>1.0</td>\n",
       "      <td>1.0</td>\n",
       "      <td>0</td>\n",
       "      <td>0</td>\n",
       "    </tr>\n",
       "    <tr>\n",
       "      <td>1</td>\n",
       "      <td>ЛС-СДСД</td>\n",
       "      <td>66700000410</td>\n",
       "      <td>0.0</td>\n",
       "      <td>-11.163823</td>\n",
       "      <td>1.0</td>\n",
       "      <td>1.0</td>\n",
       "      <td>0</td>\n",
       "      <td>0</td>\n",
       "    </tr>\n",
       "    <tr>\n",
       "      <td>2</td>\n",
       "      <td>ЛС-СДСД</td>\n",
       "      <td>66700000431</td>\n",
       "      <td>2.0</td>\n",
       "      <td>-11.163823</td>\n",
       "      <td>1.0</td>\n",
       "      <td>1.0</td>\n",
       "      <td>1</td>\n",
       "      <td>0</td>\n",
       "    </tr>\n",
       "    <tr>\n",
       "      <td>3</td>\n",
       "      <td>ЛС-СДСД</td>\n",
       "      <td>66700000557</td>\n",
       "      <td>2.0</td>\n",
       "      <td>-11.163823</td>\n",
       "      <td>1.0</td>\n",
       "      <td>1.0</td>\n",
       "      <td>0</td>\n",
       "      <td>0</td>\n",
       "    </tr>\n",
       "    <tr>\n",
       "      <td>4</td>\n",
       "      <td>ЛС-СДСД</td>\n",
       "      <td>66700000575</td>\n",
       "      <td>21.0</td>\n",
       "      <td>-11.163823</td>\n",
       "      <td>1.0</td>\n",
       "      <td>1.0</td>\n",
       "      <td>0</td>\n",
       "      <td>0</td>\n",
       "    </tr>\n",
       "  </tbody>\n",
       "</table>\n",
       "</div>"
      ],
      "text/plain": [
       "    Method     Consumer  Supply          T  Rooms  Peoples  \\\n",
       "0  ЛС-СДСД  66700000233     0.0 -11.163823    1.0      1.0   \n",
       "1  ЛС-СДСД  66700000410     0.0 -11.163823    1.0      1.0   \n",
       "2  ЛС-СДСД  66700000431     2.0 -11.163823    1.0      1.0   \n",
       "3  ЛС-СДСД  66700000557     2.0 -11.163823    1.0      1.0   \n",
       "4  ЛС-СДСД  66700000575    21.0 -11.163823    1.0      1.0   \n",
       "\n",
       "   Permanent_Residence  City  \n",
       "0                    0     0  \n",
       "1                    0     0  \n",
       "2                    1     0  \n",
       "3                    0     0  \n",
       "4                    0     0  "
      ]
     },
     "execution_count": 33,
     "metadata": {},
     "output_type": "execute_result"
    }
   ],
   "source": [
    "supply.fillna(value={'Rooms': 2, 'Peoples': 2}, inplace=True)\n",
    "supply.head()"
   ]
  },
  {
   "cell_type": "code",
   "execution_count": 34,
   "metadata": {},
   "outputs": [
    {
     "data": {
      "text/plain": [
       "Method                 0\n",
       "Consumer               0\n",
       "Supply                 0\n",
       "T                      0\n",
       "Rooms                  0\n",
       "Peoples                0\n",
       "Permanent_Residence    0\n",
       "City                   0\n",
       "dtype: int64"
      ]
     },
     "execution_count": 34,
     "metadata": {},
     "output_type": "execute_result"
    }
   ],
   "source": [
    "supply.isnull().sum()"
   ]
  },
  {
   "cell_type": "markdown",
   "metadata": {},
   "source": [
    "Теперь создаем копию датасета под именем ds_work, с ним работаем дальше. А в датасете supply остается полная копия данных, к которым можно вернуться, если надо будет изменять модель и добавлять новые признаки."
   ]
  },
  {
   "cell_type": "code",
   "execution_count": 35,
   "metadata": {},
   "outputs": [
    {
     "data": {
      "text/html": [
       "<div>\n",
       "<style scoped>\n",
       "    .dataframe tbody tr th:only-of-type {\n",
       "        vertical-align: middle;\n",
       "    }\n",
       "\n",
       "    .dataframe tbody tr th {\n",
       "        vertical-align: top;\n",
       "    }\n",
       "\n",
       "    .dataframe thead th {\n",
       "        text-align: right;\n",
       "    }\n",
       "</style>\n",
       "<table border=\"1\" class=\"dataframe\">\n",
       "  <thead>\n",
       "    <tr style=\"text-align: right;\">\n",
       "      <th></th>\n",
       "      <th>Method</th>\n",
       "      <th>Consumer</th>\n",
       "      <th>Supply</th>\n",
       "      <th>T</th>\n",
       "      <th>Rooms</th>\n",
       "      <th>Peoples</th>\n",
       "      <th>Permanent_Residence</th>\n",
       "      <th>City</th>\n",
       "    </tr>\n",
       "  </thead>\n",
       "  <tbody>\n",
       "    <tr>\n",
       "      <td>0</td>\n",
       "      <td>ЛС-СДСД</td>\n",
       "      <td>66700000233</td>\n",
       "      <td>0.0</td>\n",
       "      <td>-11.163823</td>\n",
       "      <td>1.0</td>\n",
       "      <td>1.0</td>\n",
       "      <td>0</td>\n",
       "      <td>0</td>\n",
       "    </tr>\n",
       "    <tr>\n",
       "      <td>1</td>\n",
       "      <td>ЛС-СДСД</td>\n",
       "      <td>66700000410</td>\n",
       "      <td>0.0</td>\n",
       "      <td>-11.163823</td>\n",
       "      <td>1.0</td>\n",
       "      <td>1.0</td>\n",
       "      <td>0</td>\n",
       "      <td>0</td>\n",
       "    </tr>\n",
       "    <tr>\n",
       "      <td>2</td>\n",
       "      <td>ЛС-СДСД</td>\n",
       "      <td>66700000431</td>\n",
       "      <td>2.0</td>\n",
       "      <td>-11.163823</td>\n",
       "      <td>1.0</td>\n",
       "      <td>1.0</td>\n",
       "      <td>1</td>\n",
       "      <td>0</td>\n",
       "    </tr>\n",
       "    <tr>\n",
       "      <td>3</td>\n",
       "      <td>ЛС-СДСД</td>\n",
       "      <td>66700000557</td>\n",
       "      <td>2.0</td>\n",
       "      <td>-11.163823</td>\n",
       "      <td>1.0</td>\n",
       "      <td>1.0</td>\n",
       "      <td>0</td>\n",
       "      <td>0</td>\n",
       "    </tr>\n",
       "    <tr>\n",
       "      <td>4</td>\n",
       "      <td>ЛС-СДСД</td>\n",
       "      <td>66700000575</td>\n",
       "      <td>21.0</td>\n",
       "      <td>-11.163823</td>\n",
       "      <td>1.0</td>\n",
       "      <td>1.0</td>\n",
       "      <td>0</td>\n",
       "      <td>0</td>\n",
       "    </tr>\n",
       "  </tbody>\n",
       "</table>\n",
       "</div>"
      ],
      "text/plain": [
       "    Method     Consumer  Supply          T  Rooms  Peoples  \\\n",
       "0  ЛС-СДСД  66700000233     0.0 -11.163823    1.0      1.0   \n",
       "1  ЛС-СДСД  66700000410     0.0 -11.163823    1.0      1.0   \n",
       "2  ЛС-СДСД  66700000431     2.0 -11.163823    1.0      1.0   \n",
       "3  ЛС-СДСД  66700000557     2.0 -11.163823    1.0      1.0   \n",
       "4  ЛС-СДСД  66700000575    21.0 -11.163823    1.0      1.0   \n",
       "\n",
       "   Permanent_Residence  City  \n",
       "0                    0     0  \n",
       "1                    0     0  \n",
       "2                    1     0  \n",
       "3                    0     0  \n",
       "4                    0     0  "
      ]
     },
     "execution_count": 35,
     "metadata": {},
     "output_type": "execute_result"
    }
   ],
   "source": [
    "ds_work = supply.copy()\n",
    "ds_work.head()"
   ]
  },
  {
   "cell_type": "markdown",
   "metadata": {},
   "source": [
    "Удаляем из датасета ds_work столбец Method, т.к. этот столбец будет нужен для более тонкой настройки модели. Если прямой подход \"в лоб\" не сработает."
   ]
  },
  {
   "cell_type": "code",
   "execution_count": 36,
   "metadata": {},
   "outputs": [
    {
     "data": {
      "text/html": [
       "<div>\n",
       "<style scoped>\n",
       "    .dataframe tbody tr th:only-of-type {\n",
       "        vertical-align: middle;\n",
       "    }\n",
       "\n",
       "    .dataframe tbody tr th {\n",
       "        vertical-align: top;\n",
       "    }\n",
       "\n",
       "    .dataframe thead th {\n",
       "        text-align: right;\n",
       "    }\n",
       "</style>\n",
       "<table border=\"1\" class=\"dataframe\">\n",
       "  <thead>\n",
       "    <tr style=\"text-align: right;\">\n",
       "      <th></th>\n",
       "      <th>Consumer</th>\n",
       "      <th>Supply</th>\n",
       "      <th>T</th>\n",
       "      <th>Rooms</th>\n",
       "      <th>Peoples</th>\n",
       "      <th>Permanent_Residence</th>\n",
       "      <th>City</th>\n",
       "    </tr>\n",
       "  </thead>\n",
       "  <tbody>\n",
       "    <tr>\n",
       "      <td>0</td>\n",
       "      <td>66700000233</td>\n",
       "      <td>0.0</td>\n",
       "      <td>-11.163823</td>\n",
       "      <td>1.0</td>\n",
       "      <td>1.0</td>\n",
       "      <td>0</td>\n",
       "      <td>0</td>\n",
       "    </tr>\n",
       "    <tr>\n",
       "      <td>1</td>\n",
       "      <td>66700000410</td>\n",
       "      <td>0.0</td>\n",
       "      <td>-11.163823</td>\n",
       "      <td>1.0</td>\n",
       "      <td>1.0</td>\n",
       "      <td>0</td>\n",
       "      <td>0</td>\n",
       "    </tr>\n",
       "    <tr>\n",
       "      <td>2</td>\n",
       "      <td>66700000431</td>\n",
       "      <td>2.0</td>\n",
       "      <td>-11.163823</td>\n",
       "      <td>1.0</td>\n",
       "      <td>1.0</td>\n",
       "      <td>1</td>\n",
       "      <td>0</td>\n",
       "    </tr>\n",
       "    <tr>\n",
       "      <td>3</td>\n",
       "      <td>66700000557</td>\n",
       "      <td>2.0</td>\n",
       "      <td>-11.163823</td>\n",
       "      <td>1.0</td>\n",
       "      <td>1.0</td>\n",
       "      <td>0</td>\n",
       "      <td>0</td>\n",
       "    </tr>\n",
       "    <tr>\n",
       "      <td>4</td>\n",
       "      <td>66700000575</td>\n",
       "      <td>21.0</td>\n",
       "      <td>-11.163823</td>\n",
       "      <td>1.0</td>\n",
       "      <td>1.0</td>\n",
       "      <td>0</td>\n",
       "      <td>0</td>\n",
       "    </tr>\n",
       "  </tbody>\n",
       "</table>\n",
       "</div>"
      ],
      "text/plain": [
       "      Consumer  Supply          T  Rooms  Peoples  Permanent_Residence  City\n",
       "0  66700000233     0.0 -11.163823    1.0      1.0                    0     0\n",
       "1  66700000410     0.0 -11.163823    1.0      1.0                    0     0\n",
       "2  66700000431     2.0 -11.163823    1.0      1.0                    1     0\n",
       "3  66700000557     2.0 -11.163823    1.0      1.0                    0     0\n",
       "4  66700000575    21.0 -11.163823    1.0      1.0                    0     0"
      ]
     },
     "execution_count": 36,
     "metadata": {},
     "output_type": "execute_result"
    }
   ],
   "source": [
    "ds_work.drop('Method', axis=1, inplace=True)\n",
    "ds_work.head()"
   ]
  },
  {
   "cell_type": "markdown",
   "metadata": {},
   "source": [
    "### Вопросы на подумать: \n",
    "#### 1. стоит ли оставлять в модели поле Consumer (преобразовав его в целый тип)?\n",
    "#### 2. проверка на качество данных в признаках, стоит ли отсеять, например по 10% сверху и снизу? \n",
    "\n",
    "Достаточно ли для модели будет всего 5 признаков (T,Rooms,Peoples,Permanent_Residence,City), чтобы получить нормальный результат? "
   ]
  },
  {
   "cell_type": "code",
   "execution_count": 37,
   "metadata": {},
   "outputs": [
    {
     "data": {
      "text/html": [
       "<div>\n",
       "<style scoped>\n",
       "    .dataframe tbody tr th:only-of-type {\n",
       "        vertical-align: middle;\n",
       "    }\n",
       "\n",
       "    .dataframe tbody tr th {\n",
       "        vertical-align: top;\n",
       "    }\n",
       "\n",
       "    .dataframe thead th {\n",
       "        text-align: right;\n",
       "    }\n",
       "</style>\n",
       "<table border=\"1\" class=\"dataframe\">\n",
       "  <thead>\n",
       "    <tr style=\"text-align: right;\">\n",
       "      <th></th>\n",
       "      <th>Supply</th>\n",
       "      <th>T</th>\n",
       "      <th>Rooms</th>\n",
       "      <th>Peoples</th>\n",
       "      <th>Permanent_Residence</th>\n",
       "      <th>City</th>\n",
       "    </tr>\n",
       "  </thead>\n",
       "  <tbody>\n",
       "    <tr>\n",
       "      <td>0</td>\n",
       "      <td>0.0</td>\n",
       "      <td>-11.163823</td>\n",
       "      <td>1.0</td>\n",
       "      <td>1.0</td>\n",
       "      <td>0</td>\n",
       "      <td>0</td>\n",
       "    </tr>\n",
       "    <tr>\n",
       "      <td>1</td>\n",
       "      <td>0.0</td>\n",
       "      <td>-11.163823</td>\n",
       "      <td>1.0</td>\n",
       "      <td>1.0</td>\n",
       "      <td>0</td>\n",
       "      <td>0</td>\n",
       "    </tr>\n",
       "    <tr>\n",
       "      <td>2</td>\n",
       "      <td>2.0</td>\n",
       "      <td>-11.163823</td>\n",
       "      <td>1.0</td>\n",
       "      <td>1.0</td>\n",
       "      <td>1</td>\n",
       "      <td>0</td>\n",
       "    </tr>\n",
       "    <tr>\n",
       "      <td>3</td>\n",
       "      <td>2.0</td>\n",
       "      <td>-11.163823</td>\n",
       "      <td>1.0</td>\n",
       "      <td>1.0</td>\n",
       "      <td>0</td>\n",
       "      <td>0</td>\n",
       "    </tr>\n",
       "    <tr>\n",
       "      <td>4</td>\n",
       "      <td>21.0</td>\n",
       "      <td>-11.163823</td>\n",
       "      <td>1.0</td>\n",
       "      <td>1.0</td>\n",
       "      <td>0</td>\n",
       "      <td>0</td>\n",
       "    </tr>\n",
       "  </tbody>\n",
       "</table>\n",
       "</div>"
      ],
      "text/plain": [
       "   Supply          T  Rooms  Peoples  Permanent_Residence  City\n",
       "0     0.0 -11.163823    1.0      1.0                    0     0\n",
       "1     0.0 -11.163823    1.0      1.0                    0     0\n",
       "2     2.0 -11.163823    1.0      1.0                    1     0\n",
       "3     2.0 -11.163823    1.0      1.0                    0     0\n",
       "4    21.0 -11.163823    1.0      1.0                    0     0"
      ]
     },
     "execution_count": 37,
     "metadata": {},
     "output_type": "execute_result"
    }
   ],
   "source": [
    "ds_work.drop('Consumer', axis=1, inplace=True)\n",
    "ds_work.head()"
   ]
  },
  {
   "cell_type": "markdown",
   "metadata": {},
   "source": [
    "### Этап 3. Применение модели Линейной регрессии"
   ]
  },
  {
   "cell_type": "code",
   "execution_count": 38,
   "metadata": {},
   "outputs": [],
   "source": [
    "from sklearn.linear_model import LinearRegression\n",
    "from sklearn.model_selection import train_test_split"
   ]
  },
  {
   "cell_type": "code",
   "execution_count": 39,
   "metadata": {},
   "outputs": [],
   "source": [
    "X_train, X_test, y_train, y_test = train_test_split(ds_work[['T', 'Rooms', 'Peoples', 'Permanent_Residence','City']], ds_work['Supply'], test_size=0.3)"
   ]
  },
  {
   "cell_type": "code",
   "execution_count": 40,
   "metadata": {},
   "outputs": [],
   "source": [
    "model = LinearRegression()"
   ]
  },
  {
   "cell_type": "code",
   "execution_count": 41,
   "metadata": {},
   "outputs": [
    {
     "data": {
      "text/plain": [
       "LinearRegression(copy_X=True, fit_intercept=True, n_jobs=None, normalize=False)"
      ]
     },
     "execution_count": 41,
     "metadata": {},
     "output_type": "execute_result"
    }
   ],
   "source": [
    "model.fit(X_train, y_train)"
   ]
  },
  {
   "cell_type": "markdown",
   "metadata": {},
   "source": [
    "Оценим качество модели"
   ]
  },
  {
   "cell_type": "code",
   "execution_count": 42,
   "metadata": {},
   "outputs": [
    {
     "name": "stdout",
     "output_type": "stream",
     "text": [
      "Качество модели на тестовых данных: 0.0036381218455869835 \n",
      "Качество модели на тренировочных данных: 0.0038034097235335462\n"
     ]
    }
   ],
   "source": [
    "r_train = model.score(X_train, y_train)\n",
    "r_test = model.score(X_test, y_test)\n",
    "print('Качество модели на тестовых данных:', r_test, '\\nКачество модели на тренировочных данных:', r_train)"
   ]
  },
  {
   "cell_type": "markdown",
   "metadata": {},
   "source": [
    "### Абсолютно неудовлетворительное качество модели"
   ]
  },
  {
   "cell_type": "markdown",
   "metadata": {},
   "source": [
    "### Этап 4. Анализ данных, выбросы"
   ]
  },
  {
   "cell_type": "code",
   "execution_count": 43,
   "metadata": {},
   "outputs": [
    {
     "data": {
      "text/html": [
       "<div>\n",
       "<style scoped>\n",
       "    .dataframe tbody tr th:only-of-type {\n",
       "        vertical-align: middle;\n",
       "    }\n",
       "\n",
       "    .dataframe tbody tr th {\n",
       "        vertical-align: top;\n",
       "    }\n",
       "\n",
       "    .dataframe thead th {\n",
       "        text-align: right;\n",
       "    }\n",
       "</style>\n",
       "<table border=\"1\" class=\"dataframe\">\n",
       "  <thead>\n",
       "    <tr style=\"text-align: right;\">\n",
       "      <th></th>\n",
       "      <th>Supply</th>\n",
       "      <th>T</th>\n",
       "      <th>Rooms</th>\n",
       "      <th>Peoples</th>\n",
       "      <th>Permanent_Residence</th>\n",
       "      <th>City</th>\n",
       "    </tr>\n",
       "  </thead>\n",
       "  <tbody>\n",
       "    <tr>\n",
       "      <td>count</td>\n",
       "      <td>5.488323e+06</td>\n",
       "      <td>5.488323e+06</td>\n",
       "      <td>5.488323e+06</td>\n",
       "      <td>5.488323e+06</td>\n",
       "      <td>5.488323e+06</td>\n",
       "      <td>5.488323e+06</td>\n",
       "    </tr>\n",
       "    <tr>\n",
       "      <td>mean</td>\n",
       "      <td>2.385289e+02</td>\n",
       "      <td>2.329030e+00</td>\n",
       "      <td>1.590560e+00</td>\n",
       "      <td>2.119481e+00</td>\n",
       "      <td>8.560313e-01</td>\n",
       "      <td>2.752804e-01</td>\n",
       "    </tr>\n",
       "    <tr>\n",
       "      <td>std</td>\n",
       "      <td>8.715553e+02</td>\n",
       "      <td>9.297464e+00</td>\n",
       "      <td>1.151760e+00</td>\n",
       "      <td>1.631078e+00</td>\n",
       "      <td>3.510581e-01</td>\n",
       "      <td>4.466555e-01</td>\n",
       "    </tr>\n",
       "    <tr>\n",
       "      <td>min</td>\n",
       "      <td>-4.572060e+05</td>\n",
       "      <td>-1.116382e+01</td>\n",
       "      <td>0.000000e+00</td>\n",
       "      <td>0.000000e+00</td>\n",
       "      <td>0.000000e+00</td>\n",
       "      <td>0.000000e+00</td>\n",
       "    </tr>\n",
       "    <tr>\n",
       "      <td>25%</td>\n",
       "      <td>4.300000e+01</td>\n",
       "      <td>-6.255830e+00</td>\n",
       "      <td>1.000000e+00</td>\n",
       "      <td>1.000000e+00</td>\n",
       "      <td>1.000000e+00</td>\n",
       "      <td>0.000000e+00</td>\n",
       "    </tr>\n",
       "    <tr>\n",
       "      <td>50%</td>\n",
       "      <td>1.420000e+02</td>\n",
       "      <td>5.520762e-01</td>\n",
       "      <td>1.000000e+00</td>\n",
       "      <td>1.000000e+00</td>\n",
       "      <td>1.000000e+00</td>\n",
       "      <td>0.000000e+00</td>\n",
       "    </tr>\n",
       "    <tr>\n",
       "      <td>75%</td>\n",
       "      <td>2.500000e+02</td>\n",
       "      <td>1.340122e+01</td>\n",
       "      <td>2.000000e+00</td>\n",
       "      <td>3.000000e+00</td>\n",
       "      <td>1.000000e+00</td>\n",
       "      <td>1.000000e+00</td>\n",
       "    </tr>\n",
       "    <tr>\n",
       "      <td>max</td>\n",
       "      <td>3.280420e+05</td>\n",
       "      <td>1.713523e+01</td>\n",
       "      <td>5.100000e+01</td>\n",
       "      <td>7.700000e+01</td>\n",
       "      <td>1.000000e+00</td>\n",
       "      <td>1.000000e+00</td>\n",
       "    </tr>\n",
       "  </tbody>\n",
       "</table>\n",
       "</div>"
      ],
      "text/plain": [
       "             Supply             T         Rooms       Peoples  \\\n",
       "count  5.488323e+06  5.488323e+06  5.488323e+06  5.488323e+06   \n",
       "mean   2.385289e+02  2.329030e+00  1.590560e+00  2.119481e+00   \n",
       "std    8.715553e+02  9.297464e+00  1.151760e+00  1.631078e+00   \n",
       "min   -4.572060e+05 -1.116382e+01  0.000000e+00  0.000000e+00   \n",
       "25%    4.300000e+01 -6.255830e+00  1.000000e+00  1.000000e+00   \n",
       "50%    1.420000e+02  5.520762e-01  1.000000e+00  1.000000e+00   \n",
       "75%    2.500000e+02  1.340122e+01  2.000000e+00  3.000000e+00   \n",
       "max    3.280420e+05  1.713523e+01  5.100000e+01  7.700000e+01   \n",
       "\n",
       "       Permanent_Residence          City  \n",
       "count         5.488323e+06  5.488323e+06  \n",
       "mean          8.560313e-01  2.752804e-01  \n",
       "std           3.510581e-01  4.466555e-01  \n",
       "min           0.000000e+00  0.000000e+00  \n",
       "25%           1.000000e+00  0.000000e+00  \n",
       "50%           1.000000e+00  0.000000e+00  \n",
       "75%           1.000000e+00  1.000000e+00  \n",
       "max           1.000000e+00  1.000000e+00  "
      ]
     },
     "execution_count": 43,
     "metadata": {},
     "output_type": "execute_result"
    }
   ],
   "source": [
    "ds_work.describe()"
   ]
  },
  {
   "cell_type": "markdown",
   "metadata": {},
   "source": [
    "4.1. Устранение выбросов\n",
    "\n",
    "Для устранения выбросов интересны:\n",
    "- признак Supply(полезный отпуск электроэнергии): следует убрать отрицательные значения (они говорят о корректировке ранее неправильно введенных данных), нулевые значения (в этот период или показания не снимались у потребителя, или расчет полезного отпуска был проведен по нулевым данным), значения свыше 5 тыс.(это может говорить либо о сильном электропотреблении зимой у коттеджей, либо о расчете полезного отпуска не за 1 месяц, а, например, за год)\n",
    "- признак Peoples(люди): максимум в 77 человек говорит о том, что возможно попало немного данных не по физическим лицам, а по многоквартирным домам, их надо убрать;\n",
    "- признак R(комнаты): максимум в 51 комнату говорит о том, что возможно попало немного данных не по физическим лицам, а по многоквартирным домам, их надо убрать;\n",
    "- признаки T(температура), , Permanent_Residence(постоянное проживание) и City(город) не имеют выбросов."
   ]
  },
  {
   "cell_type": "code",
   "execution_count": 84,
   "metadata": {},
   "outputs": [
    {
     "name": "stdout",
     "output_type": "stream",
     "text": [
      "109 0 0\n"
     ]
    }
   ],
   "source": [
    "print(len(ds_work[ds_work['Supply'] <1]), len(ds_work[ds_work['Supply'] == 0]), len(ds_work[ds_work['Supply'] > 5000]))"
   ]
  },
  {
   "cell_type": "code",
   "execution_count": 85,
   "metadata": {},
   "outputs": [],
   "source": [
    "ds_work = ds_work[ds_work['Supply'] >=1]\n",
    "ds_work = ds_work[ds_work['Supply'] <5000]"
   ]
  },
  {
   "cell_type": "code",
   "execution_count": 89,
   "metadata": {},
   "outputs": [],
   "source": [
    "ds_work = ds_work[ds_work['Peoples'] <10]\n",
    "ds_work = ds_work[ds_work['Rooms'] <10]"
   ]
  },
  {
   "cell_type": "code",
   "execution_count": 93,
   "metadata": {},
   "outputs": [
    {
     "data": {
      "image/png": "[encoded data removed]",
      "text/plain": [
       "<Figure size 432x288 with 1 Axes>"
      ]
     },
     "metadata": {
      "needs_background": "light"
     },
     "output_type": "display_data"
    },
    {
     "data": {
      "image/png": "[encoded data removed]",
      "text/plain": [
       "<Figure size 432x288 with 1 Axes>"
      ]
     },
     "metadata": {
      "needs_background": "light"
     },
     "output_type": "display_data"
    },
    {
     "data": {
      "image/png": "[encoded data removed]",
      "text/plain": [
       "<Figure size 432x288 with 1 Axes>"
      ]
     },
     "metadata": {
      "needs_background": "light"
     },
     "output_type": "display_data"
    }
   ],
   "source": [
    "#plt.figure(figsize=(6,6))\n",
    "sns.boxplot(y=\"Supply\", data=ds_work)\n",
    "plt.show()\n",
    "sns.boxplot(y=\"Peoples\", data=ds_work)\n",
    "plt.show()\n",
    "sns.boxplot(y=\"Rooms\", data=ds_work)\n",
    "plt.show()"
   ]
  },
  {
   "cell_type": "code",
   "execution_count": 94,
   "metadata": {},
   "outputs": [
    {
     "data": {
      "text/html": [
       "<div>\n",
       "<style scoped>\n",
       "    .dataframe tbody tr th:only-of-type {\n",
       "        vertical-align: middle;\n",
       "    }\n",
       "\n",
       "    .dataframe tbody tr th {\n",
       "        vertical-align: top;\n",
       "    }\n",
       "\n",
       "    .dataframe thead th {\n",
       "        text-align: right;\n",
       "    }\n",
       "</style>\n",
       "<table border=\"1\" class=\"dataframe\">\n",
       "  <thead>\n",
       "    <tr style=\"text-align: right;\">\n",
       "      <th></th>\n",
       "      <th>Supply</th>\n",
       "      <th>T</th>\n",
       "      <th>Rooms</th>\n",
       "      <th>Peoples</th>\n",
       "      <th>Permanent_Residence</th>\n",
       "      <th>City</th>\n",
       "    </tr>\n",
       "  </thead>\n",
       "  <tbody>\n",
       "    <tr>\n",
       "      <td>count</td>\n",
       "      <td>4.673311e+06</td>\n",
       "      <td>4.673311e+06</td>\n",
       "      <td>4.673311e+06</td>\n",
       "      <td>4.673311e+06</td>\n",
       "      <td>4.673311e+06</td>\n",
       "      <td>4.673311e+06</td>\n",
       "    </tr>\n",
       "    <tr>\n",
       "      <td>mean</td>\n",
       "      <td>2.700694e+02</td>\n",
       "      <td>2.463591e+00</td>\n",
       "      <td>1.602845e+00</td>\n",
       "      <td>2.133927e+00</td>\n",
       "      <td>8.825223e-01</td>\n",
       "      <td>2.850846e-01</td>\n",
       "    </tr>\n",
       "    <tr>\n",
       "      <td>std</td>\n",
       "      <td>4.226096e+02</td>\n",
       "      <td>9.327202e+00</td>\n",
       "      <td>1.075914e+00</td>\n",
       "      <td>1.485112e+00</td>\n",
       "      <td>3.219887e-01</td>\n",
       "      <td>4.514548e-01</td>\n",
       "    </tr>\n",
       "    <tr>\n",
       "      <td>min</td>\n",
       "      <td>1.000000e+00</td>\n",
       "      <td>-1.116382e+01</td>\n",
       "      <td>0.000000e+00</td>\n",
       "      <td>0.000000e+00</td>\n",
       "      <td>0.000000e+00</td>\n",
       "      <td>0.000000e+00</td>\n",
       "    </tr>\n",
       "    <tr>\n",
       "      <td>25%</td>\n",
       "      <td>8.700000e+01</td>\n",
       "      <td>-6.255830e+00</td>\n",
       "      <td>1.000000e+00</td>\n",
       "      <td>1.000000e+00</td>\n",
       "      <td>1.000000e+00</td>\n",
       "      <td>0.000000e+00</td>\n",
       "    </tr>\n",
       "    <tr>\n",
       "      <td>50%</td>\n",
       "      <td>1.540000e+02</td>\n",
       "      <td>5.520762e-01</td>\n",
       "      <td>1.000000e+00</td>\n",
       "      <td>2.000000e+00</td>\n",
       "      <td>1.000000e+00</td>\n",
       "      <td>0.000000e+00</td>\n",
       "    </tr>\n",
       "    <tr>\n",
       "      <td>75%</td>\n",
       "      <td>2.790000e+02</td>\n",
       "      <td>1.340122e+01</td>\n",
       "      <td>2.000000e+00</td>\n",
       "      <td>3.000000e+00</td>\n",
       "      <td>1.000000e+00</td>\n",
       "      <td>1.000000e+00</td>\n",
       "    </tr>\n",
       "    <tr>\n",
       "      <td>max</td>\n",
       "      <td>4.999000e+03</td>\n",
       "      <td>1.713523e+01</td>\n",
       "      <td>9.000000e+00</td>\n",
       "      <td>9.000000e+00</td>\n",
       "      <td>1.000000e+00</td>\n",
       "      <td>1.000000e+00</td>\n",
       "    </tr>\n",
       "  </tbody>\n",
       "</table>\n",
       "</div>"
      ],
      "text/plain": [
       "             Supply             T         Rooms       Peoples  \\\n",
       "count  4.673311e+06  4.673311e+06  4.673311e+06  4.673311e+06   \n",
       "mean   2.700694e+02  2.463591e+00  1.602845e+00  2.133927e+00   \n",
       "std    4.226096e+02  9.327202e+00  1.075914e+00  1.485112e+00   \n",
       "min    1.000000e+00 -1.116382e+01  0.000000e+00  0.000000e+00   \n",
       "25%    8.700000e+01 -6.255830e+00  1.000000e+00  1.000000e+00   \n",
       "50%    1.540000e+02  5.520762e-01  1.000000e+00  2.000000e+00   \n",
       "75%    2.790000e+02  1.340122e+01  2.000000e+00  3.000000e+00   \n",
       "max    4.999000e+03  1.713523e+01  9.000000e+00  9.000000e+00   \n",
       "\n",
       "       Permanent_Residence          City  \n",
       "count         4.673311e+06  4.673311e+06  \n",
       "mean          8.825223e-01  2.850846e-01  \n",
       "std           3.219887e-01  4.514548e-01  \n",
       "min           0.000000e+00  0.000000e+00  \n",
       "25%           1.000000e+00  0.000000e+00  \n",
       "50%           1.000000e+00  0.000000e+00  \n",
       "75%           1.000000e+00  1.000000e+00  \n",
       "max           1.000000e+00  1.000000e+00  "
      ]
     },
     "execution_count": 94,
     "metadata": {},
     "output_type": "execute_result"
    }
   ],
   "source": [
    "ds_work.describe()"
   ]
  },
  {
   "cell_type": "markdown",
   "metadata": {},
   "source": [
    "4.2. Матрица корреляций"
   ]
  },
  {
   "cell_type": "code",
   "execution_count": 95,
   "metadata": {},
   "outputs": [
    {
     "data": {
      "text/plain": [
       "<matplotlib.axes._subplots.AxesSubplot at 0x187052f27c8>"
      ]
     },
     "execution_count": 95,
     "metadata": {},
     "output_type": "execute_result"
    },
    {
     "data": {
      "image/png": "[encoded data removed]",
      "text/plain": [
       "<Figure size 432x432 with 2 Axes>"
      ]
     },
     "metadata": {
      "needs_background": "light"
     },
     "output_type": "display_data"
    }
   ],
   "source": [
    "f, ax = plt.subplots(figsize=(6, 6))\n",
    "corr = np.round_(ds_work.corr(), decimals=2)\n",
    "sns.heatmap(corr,annot=False,cmap='RdYlGn',linewidths=0.2)"
   ]
  },
  {
   "cell_type": "markdown",
   "metadata": {},
   "source": [
    "Корреляция между признаками выражена слабо, только комнаты и люди коррелируют, но это было ожидаемо - чем больше людей живет, тем больше комнат требуется."
   ]
  },
  {
   "cell_type": "markdown",
   "metadata": {},
   "source": [
    "4.3. Визуализация взаимосвязей между признаками"
   ]
  },
  {
   "cell_type": "code",
   "execution_count": 96,
   "metadata": {},
   "outputs": [
    {
     "data": {
      "image/png": "[encoded data removed]",
      "text/plain": [
       "<Figure size 1080x1080 with 42 Axes>"
      ]
     },
     "metadata": {
      "needs_background": "light"
     },
     "output_type": "display_data"
    }
   ],
   "source": [
    "sns.pairplot(ds_work)\n",
    "plt.show()"
   ]
  },
  {
   "cell_type": "markdown",
   "metadata": {},
   "source": []
  },
  {
   "cell_type": "markdown",
   "metadata": {},
   "source": [
    "Этап 5. Модель \"Random forest\"\n",
    "\n",
    "Теперь на очищенных данных применяем снова модель линейной регрессии и модель случайного леса."
   ]
  },
  {
   "cell_type": "markdown",
   "metadata": {},
   "source": [
    "5.1. Линейная регрессия"
   ]
  },
  {
   "cell_type": "code",
   "execution_count": 97,
   "metadata": {},
   "outputs": [
    {
     "data": {
      "text/plain": [
       "LinearRegression(copy_X=True, fit_intercept=True, n_jobs=None, normalize=False)"
      ]
     },
     "execution_count": 97,
     "metadata": {},
     "output_type": "execute_result"
    }
   ],
   "source": [
    "X_train, X_test, y_train, y_test = train_test_split(ds_work[['T', 'Rooms', 'Peoples', 'Permanent_Residence','City']], ds_work['Supply'], test_size=0.3)\n",
    "model = LinearRegression()\n",
    "model.fit(X_train, y_train)"
   ]
  },
  {
   "cell_type": "code",
   "execution_count": 98,
   "metadata": {},
   "outputs": [
    {
     "name": "stdout",
     "output_type": "stream",
     "text": [
      "Качество модели на тестовых данных: 0.01205110695139888 \n",
      "Качество модели на тренировочных данных: 0.01185469091137692\n"
     ]
    }
   ],
   "source": [
    "r_train = model.score(X_train, y_train)\n",
    "r_test = model.score(X_test, y_test)\n",
    "print('Качество модели на тестовых данных:', r_test, '\\nКачество модели на тренировочных данных:', r_train)"
   ]
  },
  {
   "cell_type": "markdown",
   "metadata": {},
   "source": [
    "Качество модели на очищенных данных увеличилось в 3 раза, но все-равно остается на неудовлетворительном уровне."
   ]
  },
  {
   "cell_type": "markdown",
   "metadata": {},
   "source": [
    "5.2. Случайный лес"
   ]
  },
  {
   "cell_type": "code",
   "execution_count": 123,
   "metadata": {},
   "outputs": [],
   "source": [
    "from sklearn.metrics import mean_squared_error, mean_absolute_error \n",
    "from sklearn.ensemble import RandomForestRegressor\n",
    "from sklearn import metrics"
   ]
  },
  {
   "cell_type": "code",
   "execution_count": 117,
   "metadata": {},
   "outputs": [],
   "source": [
    "model_rf=RandomForestRegressor(n_estimators=100, max_features='auto', n_jobs=4, oob_score=True, random_state=1)"
   ]
  },
  {
   "cell_type": "code",
   "execution_count": 118,
   "metadata": {},
   "outputs": [
    {
     "data": {
      "text/plain": [
       "RandomForestRegressor(bootstrap=True, ccp_alpha=0.0, criterion='mse',\n",
       "                      max_depth=None, max_features='auto', max_leaf_nodes=None,\n",
       "                      max_samples=None, min_impurity_decrease=0.0,\n",
       "                      min_impurity_split=None, min_samples_leaf=1,\n",
       "                      min_samples_split=2, min_weight_fraction_leaf=0.0,\n",
       "                      n_estimators=100, n_jobs=-1, oob_score=True,\n",
       "                      random_state=1, verbose=0, warm_start=False)"
      ]
     },
     "execution_count": 118,
     "metadata": {},
     "output_type": "execute_result"
    }
   ],
   "source": [
    "# обучаем модель\n",
    "model_rf.fit(X_train,y_train)"
   ]
  },
  {
   "cell_type": "code",
   "execution_count": 124,
   "metadata": {},
   "outputs": [
    {
     "name": "stdout",
     "output_type": "stream",
     "text": [
      "Mean Absolute Error (MAE): 214.60568605933724\n",
      "Mean Squared Error (MSE): 173724.506239284\n",
      "Root Mean Squared Error (RMSE): 416.80271860831715\n",
      "Mean Absolute Percentage Error (MAPE): 748.15\n",
      "Accuracy: -648.15\n"
     ]
    }
   ],
   "source": [
    "model_pred = model_rf.predict(X_test)\n",
    "print('Mean Absolute Error (MAE):', mean_absolute_error(y_test, model_pred))\n",
    "print('Mean Squared Error (MSE):', mean_squared_error(y_test, model_pred))\n",
    "print('Root Mean Squared Error (RMSE):', np.sqrt(mean_squared_error(y_test, model_pred)))\n",
    "mape = np.mean(np.abs((y_test - model_pred) / np.abs(y_test)))\n",
    "print('Mean Absolute Percentage Error (MAPE):', round(mape * 100, 2))\n",
    "print('Accuracy:', round(100*(1 - mape), 2))"
   ]
  },
  {
   "cell_type": "markdown",
   "metadata": {},
   "source": [
    "Наиболее важные признаки:"
   ]
  },
  {
   "cell_type": "code",
   "execution_count": 125,
   "metadata": {},
   "outputs": [
    {
     "data": {
      "image/png": "[encoded data removed]",
      "text/plain": [
       "<Figure size 864x288 with 1 Axes>"
      ]
     },
     "metadata": {
      "needs_background": "light"
     },
     "output_type": "display_data"
    }
   ],
   "source": [
    "headers = list(X_train.columns.values)\n",
    "feature_imp = pd.Series(model_rf.feature_importances_,index=headers).sort_values(ascending=False)\n",
    "f, ax = plt.subplots(figsize=(12, 4))\n",
    "sns.barplot(x=feature_imp, y=feature_imp.index)\n",
    "plt.xlabel('Важность признаков')\n",
    "plt.ylabel('Признаки')\n",
    "plt.title(\"Наиболее важные признаки\")\n",
    "plt.show()"
   ]
  },
  {
   "cell_type": "code",
   "execution_count": null,
   "metadata": {},
   "outputs": [],
   "source": []
  },
  {
   "cell_type": "code",
   "execution_count": null,
   "metadata": {},
   "outputs": [],
   "source": []
  },
  {
   "cell_type": "code",
   "execution_count": null,
   "metadata": {},
   "outputs": [],
   "source": []
  },
  {
   "cell_type": "code",
   "execution_count": null,
   "metadata": {},
   "outputs": [],
   "source": []
  },
  {
   "cell_type": "code",
   "execution_count": null,
   "metadata": {},
   "outputs": [],
   "source": []
  },
  {
   "cell_type": "code",
   "execution_count": null,
   "metadata": {},
   "outputs": [],
   "source": []
  },
  {
   "cell_type": "code",
   "execution_count": 121,
   "metadata": {},
   "outputs": [],
   "source": [
    "# df.to_excel('results.xlsx')"
   ]
  }
 ],
 "metadata": {
  "kernelspec": {
   "display_name": "Python 3",
   "language": "python",
   "name": "python3"
  },
  "language_info": {
   "codemirror_mode": {
    "name": "ipython",
    "version": 3
   },
   "file_extension": ".py",
   "mimetype": "text/x-python",
   "name": "python",
   "nbconvert_exporter": "python",
   "pygments_lexer": "ipython3",
   "version": "3.7.4"
  }
 },
 "nbformat": 4,
 "nbformat_minor": 2
}
